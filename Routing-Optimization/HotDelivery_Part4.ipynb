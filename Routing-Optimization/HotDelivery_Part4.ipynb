{
  "cells": [
    {
      "cell_type": "markdown",
      "source": [
        "# Hot Delivery - Part IV\n",
        "Team 3"
      ],
      "metadata": {
        "id": "aQNNKSKFugrx"
      },
      "id": "aQNNKSKFugrx"
    },
    {
      "cell_type": "code",
      "execution_count": null,
      "id": "6fdb82ec",
      "metadata": {
        "id": "6fdb82ec"
      },
      "outputs": [],
      "source": [
        "import pandas as pd\n",
        "pd.options.mode.chained_assignment = None  # default='warn'\n",
        "import numpy as np\n",
        "import matplotlib.pyplot as plt\n",
        "import seaborn as sns\n",
        "import pulp\n",
        "from sklearn.model_selection import train_test_split\n",
        "from sklearn.linear_model import LinearRegression\n",
        "from scipy import stats\n",
        "from sklearn.metrics import r2_score\n",
        "from sklearn.metrics import mean_squared_error\n",
        "import datetime\n",
        "\n",
        "\n",
        "# Initialize seaborn (for plotting)\n",
        "sns.set()"
      ]
    },
    {
      "cell_type": "markdown",
      "id": "ade4b265",
      "metadata": {
        "id": "ade4b265"
      },
      "source": [
        "### Load Data for Clustering"
      ]
    },
    {
      "cell_type": "code",
      "execution_count": null,
      "id": "8d455915",
      "metadata": {
        "id": "8d455915"
      },
      "outputs": [],
      "source": [
        "dfOrders=pd.read_csv('part4_large.csv')\n",
        "dfDrivers=pd.read_csv('part4_drivers.csv')"
      ]
    },
    {
      "cell_type": "code",
      "execution_count": null,
      "id": "1ae68a37",
      "metadata": {
        "id": "1ae68a37",
        "outputId": "9e4b441c-3a99-4372-94a8-2f1bc0518a82"
      },
      "outputs": [
        {
          "data": {
            "text/html": [
              "<div>\n",
              "<style scoped>\n",
              "    .dataframe tbody tr th:only-of-type {\n",
              "        vertical-align: middle;\n",
              "    }\n",
              "\n",
              "    .dataframe tbody tr th {\n",
              "        vertical-align: top;\n",
              "    }\n",
              "\n",
              "    .dataframe thead th {\n",
              "        text-align: right;\n",
              "    }\n",
              "</style>\n",
              "<table border=\"1\" class=\"dataframe\">\n",
              "  <thead>\n",
              "    <tr style=\"text-align: right;\">\n",
              "      <th></th>\n",
              "      <th>restaurant</th>\n",
              "      <th>customer</th>\n",
              "      <th>estimated availability</th>\n",
              "    </tr>\n",
              "  </thead>\n",
              "  <tbody>\n",
              "    <tr>\n",
              "      <th>0</th>\n",
              "      <td>Downtown Toronto (Central Bay Street)</td>\n",
              "      <td>North York (Armour Heights / Wilson Heights / ...</td>\n",
              "      <td>2022-04-02 5:17 PM</td>\n",
              "    </tr>\n",
              "    <tr>\n",
              "      <th>1</th>\n",
              "      <td>Downtown Toronto (Christie)</td>\n",
              "      <td>West Toronto (Brockton / Parkdale Village / Ex...</td>\n",
              "      <td>2022-04-02 5:49 PM</td>\n",
              "    </tr>\n",
              "    <tr>\n",
              "      <th>2</th>\n",
              "      <td>Downtown Toronto (Ryerson)</td>\n",
              "      <td>York (Fairbank / Oakwood)</td>\n",
              "      <td>2022-04-02 6:17 PM</td>\n",
              "    </tr>\n",
              "    <tr>\n",
              "      <th>3</th>\n",
              "      <td>Downtown Toronto (St. James Park)</td>\n",
              "      <td>East Toronto (The Beaches)</td>\n",
              "      <td>2022-04-02 5:53 PM</td>\n",
              "    </tr>\n",
              "    <tr>\n",
              "      <th>4</th>\n",
              "      <td>Downtown Toronto (Kensington Market / Chinatow...</td>\n",
              "      <td>Downtown Toronto (Central Bay Street)</td>\n",
              "      <td>2022-04-02 5:24 PM</td>\n",
              "    </tr>\n",
              "    <tr>\n",
              "      <th>5</th>\n",
              "      <td>Downtown Toronto (Rosedale)</td>\n",
              "      <td>Downtown Toronto (CN Tower / King and Spadina ...</td>\n",
              "      <td>2022-04-02 7:35 PM</td>\n",
              "    </tr>\n",
              "    <tr>\n",
              "      <th>6</th>\n",
              "      <td>Downtown Toronto (Regent Park / Port of Toronto)</td>\n",
              "      <td>Downtown Toronto (Toronto Dominion Centre / De...</td>\n",
              "      <td>2022-04-02 6:21 PM</td>\n",
              "    </tr>\n",
              "    <tr>\n",
              "      <th>7</th>\n",
              "      <td>Downtown Toronto (St. James Town / Cabbagetown)</td>\n",
              "      <td>York (Runnymede / The Junction North)</td>\n",
              "      <td>2022-04-02 5:10 PM</td>\n",
              "    </tr>\n",
              "    <tr>\n",
              "      <th>8</th>\n",
              "      <td>Downtown Toronto (Underground city)</td>\n",
              "      <td>Central Toronto (Summerhill West / Rathnelly /...</td>\n",
              "      <td>2022-04-02 5:21 PM</td>\n",
              "    </tr>\n",
              "    <tr>\n",
              "      <th>9</th>\n",
              "      <td>Downtown Toronto (Church and Wellesley)</td>\n",
              "      <td>East Toronto (The Danforth West / Riverdale)</td>\n",
              "      <td>2022-04-02 7:21 PM</td>\n",
              "    </tr>\n",
              "    <tr>\n",
              "      <th>10</th>\n",
              "      <td>Downtown Toronto (Richmond / Adelaide / King)</td>\n",
              "      <td>East York (Parkview Hill / Woodbine Gardens)</td>\n",
              "      <td>2022-04-02 7:15 PM</td>\n",
              "    </tr>\n",
              "    <tr>\n",
              "      <th>11</th>\n",
              "      <td>Downtown Toronto (Rosedale)</td>\n",
              "      <td>Downtown Toronto (Central Bay Street)</td>\n",
              "      <td>2022-04-02 5:00 PM</td>\n",
              "    </tr>\n",
              "    <tr>\n",
              "      <th>12</th>\n",
              "      <td>Downtown Toronto (University of Toronto / Harb...</td>\n",
              "      <td>North York (Humber Summit)</td>\n",
              "      <td>2022-04-02 6:49 PM</td>\n",
              "    </tr>\n",
              "    <tr>\n",
              "      <th>13</th>\n",
              "      <td>Downtown Toronto (St. James Park)</td>\n",
              "      <td>Central Toronto (The Annex / North Midtown / Y...</td>\n",
              "      <td>2022-04-02 5:56 PM</td>\n",
              "    </tr>\n",
              "    <tr>\n",
              "      <th>14</th>\n",
              "      <td>Downtown Toronto (St. James Park)</td>\n",
              "      <td>East Toronto (India Bazaar / The Beaches West)</td>\n",
              "      <td>2022-04-02 7:24 PM</td>\n",
              "    </tr>\n",
              "  </tbody>\n",
              "</table>\n",
              "</div>"
            ],
            "text/plain": [
              "                                           restaurant  \\\n",
              "0               Downtown Toronto (Central Bay Street)   \n",
              "1                         Downtown Toronto (Christie)   \n",
              "2                          Downtown Toronto (Ryerson)   \n",
              "3                   Downtown Toronto (St. James Park)   \n",
              "4   Downtown Toronto (Kensington Market / Chinatow...   \n",
              "5                         Downtown Toronto (Rosedale)   \n",
              "6    Downtown Toronto (Regent Park / Port of Toronto)   \n",
              "7     Downtown Toronto (St. James Town / Cabbagetown)   \n",
              "8                 Downtown Toronto (Underground city)   \n",
              "9             Downtown Toronto (Church and Wellesley)   \n",
              "10      Downtown Toronto (Richmond / Adelaide / King)   \n",
              "11                        Downtown Toronto (Rosedale)   \n",
              "12  Downtown Toronto (University of Toronto / Harb...   \n",
              "13                  Downtown Toronto (St. James Park)   \n",
              "14                  Downtown Toronto (St. James Park)   \n",
              "\n",
              "                                             customer estimated availability  \n",
              "0   North York (Armour Heights / Wilson Heights / ...     2022-04-02 5:17 PM  \n",
              "1   West Toronto (Brockton / Parkdale Village / Ex...     2022-04-02 5:49 PM  \n",
              "2                           York (Fairbank / Oakwood)     2022-04-02 6:17 PM  \n",
              "3                          East Toronto (The Beaches)     2022-04-02 5:53 PM  \n",
              "4               Downtown Toronto (Central Bay Street)     2022-04-02 5:24 PM  \n",
              "5   Downtown Toronto (CN Tower / King and Spadina ...     2022-04-02 7:35 PM  \n",
              "6   Downtown Toronto (Toronto Dominion Centre / De...     2022-04-02 6:21 PM  \n",
              "7               York (Runnymede / The Junction North)     2022-04-02 5:10 PM  \n",
              "8   Central Toronto (Summerhill West / Rathnelly /...     2022-04-02 5:21 PM  \n",
              "9        East Toronto (The Danforth West / Riverdale)     2022-04-02 7:21 PM  \n",
              "10       East York (Parkview Hill / Woodbine Gardens)     2022-04-02 7:15 PM  \n",
              "11              Downtown Toronto (Central Bay Street)     2022-04-02 5:00 PM  \n",
              "12                         North York (Humber Summit)     2022-04-02 6:49 PM  \n",
              "13  Central Toronto (The Annex / North Midtown / Y...     2022-04-02 5:56 PM  \n",
              "14     East Toronto (India Bazaar / The Beaches West)     2022-04-02 7:24 PM  "
            ]
          },
          "execution_count": 490,
          "metadata": {},
          "output_type": "execute_result"
        }
      ],
      "source": [
        "dfOrders"
      ]
    },
    {
      "cell_type": "code",
      "execution_count": null,
      "id": "65d58dcd",
      "metadata": {
        "id": "65d58dcd",
        "outputId": "dcf4f518-2051-4196-8fd9-b9e08e347d9d"
      },
      "outputs": [
        {
          "data": {
            "text/html": [
              "<div>\n",
              "<style scoped>\n",
              "    .dataframe tbody tr th:only-of-type {\n",
              "        vertical-align: middle;\n",
              "    }\n",
              "\n",
              "    .dataframe tbody tr th {\n",
              "        vertical-align: top;\n",
              "    }\n",
              "\n",
              "    .dataframe thead th {\n",
              "        text-align: right;\n",
              "    }\n",
              "</style>\n",
              "<table border=\"1\" class=\"dataframe\">\n",
              "  <thead>\n",
              "    <tr style=\"text-align: right;\">\n",
              "      <th></th>\n",
              "      <th>start region</th>\n",
              "      <th>velocity</th>\n",
              "    </tr>\n",
              "  </thead>\n",
              "  <tbody>\n",
              "    <tr>\n",
              "      <th>0</th>\n",
              "      <td>Downtown Toronto (Richmond / Adelaide / King)</td>\n",
              "      <td>20</td>\n",
              "    </tr>\n",
              "    <tr>\n",
              "      <th>1</th>\n",
              "      <td>Downtown Toronto (St. James Park)</td>\n",
              "      <td>20</td>\n",
              "    </tr>\n",
              "    <tr>\n",
              "      <th>2</th>\n",
              "      <td>Downtown Toronto (Church and Wellesley)</td>\n",
              "      <td>20</td>\n",
              "    </tr>\n",
              "    <tr>\n",
              "      <th>3</th>\n",
              "      <td>Downtown Toronto (Christie)</td>\n",
              "      <td>20</td>\n",
              "    </tr>\n",
              "    <tr>\n",
              "      <th>4</th>\n",
              "      <td>Downtown Toronto (Church and Wellesley)</td>\n",
              "      <td>20</td>\n",
              "    </tr>\n",
              "    <tr>\n",
              "      <th>5</th>\n",
              "      <td>Downtown Toronto Stn A PO Boxes 25 The Esplana...</td>\n",
              "      <td>20</td>\n",
              "    </tr>\n",
              "    <tr>\n",
              "      <th>6</th>\n",
              "      <td>Downtown Toronto (CN Tower / King and Spadina ...</td>\n",
              "      <td>20</td>\n",
              "    </tr>\n",
              "    <tr>\n",
              "      <th>7</th>\n",
              "      <td>Downtown Toronto (Rosedale)</td>\n",
              "      <td>20</td>\n",
              "    </tr>\n",
              "    <tr>\n",
              "      <th>8</th>\n",
              "      <td>Downtown Toronto (University of Toronto / Harb...</td>\n",
              "      <td>20</td>\n",
              "    </tr>\n",
              "    <tr>\n",
              "      <th>9</th>\n",
              "      <td>Downtown Toronto (Ryerson)</td>\n",
              "      <td>20</td>\n",
              "    </tr>\n",
              "  </tbody>\n",
              "</table>\n",
              "</div>"
            ],
            "text/plain": [
              "                                        start region  velocity\n",
              "0      Downtown Toronto (Richmond / Adelaide / King)        20\n",
              "1                  Downtown Toronto (St. James Park)        20\n",
              "2            Downtown Toronto (Church and Wellesley)        20\n",
              "3                        Downtown Toronto (Christie)        20\n",
              "4            Downtown Toronto (Church and Wellesley)        20\n",
              "5  Downtown Toronto Stn A PO Boxes 25 The Esplana...        20\n",
              "6  Downtown Toronto (CN Tower / King and Spadina ...        20\n",
              "7                        Downtown Toronto (Rosedale)        20\n",
              "8  Downtown Toronto (University of Toronto / Harb...        20\n",
              "9                         Downtown Toronto (Ryerson)        20"
            ]
          },
          "execution_count": 491,
          "metadata": {},
          "output_type": "execute_result"
        }
      ],
      "source": [
        "dfDrivers"
      ]
    },
    {
      "cell_type": "code",
      "execution_count": null,
      "id": "1e3a17a5",
      "metadata": {
        "scrolled": true,
        "id": "1e3a17a5",
        "outputId": "2fc969ac-6ca9-49a4-c3ab-708992e20e52"
      },
      "outputs": [
        {
          "data": {
            "text/html": [
              "<div>\n",
              "<style scoped>\n",
              "    .dataframe tbody tr th:only-of-type {\n",
              "        vertical-align: middle;\n",
              "    }\n",
              "\n",
              "    .dataframe tbody tr th {\n",
              "        vertical-align: top;\n",
              "    }\n",
              "\n",
              "    .dataframe thead th {\n",
              "        text-align: right;\n",
              "    }\n",
              "</style>\n",
              "<table border=\"1\" class=\"dataframe\">\n",
              "  <thead>\n",
              "    <tr style=\"text-align: right;\">\n",
              "      <th></th>\n",
              "      <th>origin</th>\n",
              "      <th>destination</th>\n",
              "      <th>distance</th>\n",
              "    </tr>\n",
              "  </thead>\n",
              "  <tbody>\n",
              "    <tr>\n",
              "      <th>0</th>\n",
              "      <td>Scarborough (Malvern / Rouge River)</td>\n",
              "      <td>Scarborough (Rouge Hill / Port Union / Highlan...</td>\n",
              "      <td>3.931478</td>\n",
              "    </tr>\n",
              "    <tr>\n",
              "      <th>1</th>\n",
              "      <td>Scarborough (Malvern / Rouge River)</td>\n",
              "      <td>Scarborough (Guildwood / Morningside / Ellesmere)</td>\n",
              "      <td>4.864191</td>\n",
              "    </tr>\n",
              "    <tr>\n",
              "      <th>2</th>\n",
              "      <td>Scarborough (Malvern / Rouge River)</td>\n",
              "      <td>Scarborough (Woburn)</td>\n",
              "      <td>4.778347</td>\n",
              "    </tr>\n",
              "    <tr>\n",
              "      <th>3</th>\n",
              "      <td>Scarborough (Malvern / Rouge River)</td>\n",
              "      <td>Scarborough (Cedarbrae)</td>\n",
              "      <td>6.009861</td>\n",
              "    </tr>\n",
              "    <tr>\n",
              "      <th>4</th>\n",
              "      <td>Scarborough (Malvern / Rouge River)</td>\n",
              "      <td>Scarborough (Eglinton)</td>\n",
              "      <td>7.876162</td>\n",
              "    </tr>\n",
              "    <tr>\n",
              "      <th>...</th>\n",
              "      <td>...</td>\n",
              "      <td>...</td>\n",
              "      <td>...</td>\n",
              "    </tr>\n",
              "    <tr>\n",
              "      <th>10297</th>\n",
              "      <td>Etobicoke (South Steeles / Silverstone / Humbe...</td>\n",
              "      <td>Etobicoke (Westmount)</td>\n",
              "      <td>6.971037</td>\n",
              "    </tr>\n",
              "    <tr>\n",
              "      <th>10298</th>\n",
              "      <td>Etobicoke Northwest (Clairville / Humberwood /...</td>\n",
              "      <td>Etobicoke (Westmount)</td>\n",
              "      <td>5.185601</td>\n",
              "    </tr>\n",
              "    <tr>\n",
              "      <th>10299</th>\n",
              "      <td>Etobicoke (South Steeles / Silverstone / Humbe...</td>\n",
              "      <td>Etobicoke (Kingsview Village / St. Phillips / ...</td>\n",
              "      <td>6.390667</td>\n",
              "    </tr>\n",
              "    <tr>\n",
              "      <th>10300</th>\n",
              "      <td>Etobicoke Northwest (Clairville / Humberwood /...</td>\n",
              "      <td>Etobicoke (Kingsview Village / St. Phillips / ...</td>\n",
              "      <td>3.793723</td>\n",
              "    </tr>\n",
              "    <tr>\n",
              "      <th>10301</th>\n",
              "      <td>Etobicoke Northwest (Clairville / Humberwood /...</td>\n",
              "      <td>Etobicoke (South Steeles / Silverstone / Humbe...</td>\n",
              "      <td>3.213377</td>\n",
              "    </tr>\n",
              "  </tbody>\n",
              "</table>\n",
              "<p>10302 rows × 3 columns</p>\n",
              "</div>"
            ],
            "text/plain": [
              "                                                  origin  \\\n",
              "0                    Scarborough (Malvern / Rouge River)   \n",
              "1                    Scarborough (Malvern / Rouge River)   \n",
              "2                    Scarborough (Malvern / Rouge River)   \n",
              "3                    Scarborough (Malvern / Rouge River)   \n",
              "4                    Scarborough (Malvern / Rouge River)   \n",
              "...                                                  ...   \n",
              "10297  Etobicoke (South Steeles / Silverstone / Humbe...   \n",
              "10298  Etobicoke Northwest (Clairville / Humberwood /...   \n",
              "10299  Etobicoke (South Steeles / Silverstone / Humbe...   \n",
              "10300  Etobicoke Northwest (Clairville / Humberwood /...   \n",
              "10301  Etobicoke Northwest (Clairville / Humberwood /...   \n",
              "\n",
              "                                             destination  distance  \n",
              "0      Scarborough (Rouge Hill / Port Union / Highlan...  3.931478  \n",
              "1      Scarborough (Guildwood / Morningside / Ellesmere)  4.864191  \n",
              "2                                   Scarborough (Woburn)  4.778347  \n",
              "3                                Scarborough (Cedarbrae)  6.009861  \n",
              "4                                 Scarborough (Eglinton)  7.876162  \n",
              "...                                                  ...       ...  \n",
              "10297                              Etobicoke (Westmount)  6.971037  \n",
              "10298                              Etobicoke (Westmount)  5.185601  \n",
              "10299  Etobicoke (Kingsview Village / St. Phillips / ...  6.390667  \n",
              "10300  Etobicoke (Kingsview Village / St. Phillips / ...  3.793723  \n",
              "10301  Etobicoke (South Steeles / Silverstone / Humbe...  3.213377  \n",
              "\n",
              "[10302 rows x 3 columns]"
            ]
          },
          "execution_count": 492,
          "metadata": {},
          "output_type": "execute_result"
        }
      ],
      "source": [
        "dfDistance = pd.read_csv(\"distances.csv\")\n",
        "dfDistance"
      ]
    },
    {
      "cell_type": "code",
      "execution_count": null,
      "id": "83949edd",
      "metadata": {
        "id": "83949edd",
        "outputId": "052c91db-a2a5-4559-f8b2-a44ac0dd02a1"
      },
      "outputs": [
        {
          "data": {
            "text/html": [
              "<div>\n",
              "<style scoped>\n",
              "    .dataframe tbody tr th:only-of-type {\n",
              "        vertical-align: middle;\n",
              "    }\n",
              "\n",
              "    .dataframe tbody tr th {\n",
              "        vertical-align: top;\n",
              "    }\n",
              "\n",
              "    .dataframe thead th {\n",
              "        text-align: right;\n",
              "    }\n",
              "</style>\n",
              "<table border=\"1\" class=\"dataframe\">\n",
              "  <thead>\n",
              "    <tr style=\"text-align: right;\">\n",
              "      <th></th>\n",
              "      <th>name</th>\n",
              "      <th>province</th>\n",
              "      <th>code</th>\n",
              "      <th>latitude</th>\n",
              "      <th>longitude</th>\n",
              "    </tr>\n",
              "  </thead>\n",
              "  <tbody>\n",
              "    <tr>\n",
              "      <th>0</th>\n",
              "      <td>Scarborough (Malvern / Rouge River)</td>\n",
              "      <td>Ontario</td>\n",
              "      <td>M1B</td>\n",
              "      <td>43.8113</td>\n",
              "      <td>-79.1930</td>\n",
              "    </tr>\n",
              "    <tr>\n",
              "      <th>1</th>\n",
              "      <td>Scarborough (Rouge Hill / Port Union / Highlan...</td>\n",
              "      <td>Ontario</td>\n",
              "      <td>M1C</td>\n",
              "      <td>43.7878</td>\n",
              "      <td>-79.1564</td>\n",
              "    </tr>\n",
              "    <tr>\n",
              "      <th>2</th>\n",
              "      <td>Scarborough (Guildwood / Morningside / Ellesmere)</td>\n",
              "      <td>Ontario</td>\n",
              "      <td>M1E</td>\n",
              "      <td>43.7678</td>\n",
              "      <td>-79.1866</td>\n",
              "    </tr>\n",
              "    <tr>\n",
              "      <th>3</th>\n",
              "      <td>Scarborough (Woburn)</td>\n",
              "      <td>Ontario</td>\n",
              "      <td>M1G</td>\n",
              "      <td>43.7712</td>\n",
              "      <td>-79.2144</td>\n",
              "    </tr>\n",
              "    <tr>\n",
              "      <th>4</th>\n",
              "      <td>Scarborough (Cedarbrae)</td>\n",
              "      <td>Ontario</td>\n",
              "      <td>M1H</td>\n",
              "      <td>43.7686</td>\n",
              "      <td>-79.2389</td>\n",
              "    </tr>\n",
              "    <tr>\n",
              "      <th>...</th>\n",
              "      <td>...</td>\n",
              "      <td>...</td>\n",
              "      <td>...</td>\n",
              "      <td>...</td>\n",
              "      <td>...</td>\n",
              "    </tr>\n",
              "    <tr>\n",
              "      <th>97</th>\n",
              "      <td>Weston</td>\n",
              "      <td>Ontario</td>\n",
              "      <td>M9N</td>\n",
              "      <td>43.7068</td>\n",
              "      <td>-79.5170</td>\n",
              "    </tr>\n",
              "    <tr>\n",
              "      <th>98</th>\n",
              "      <td>Etobicoke (Westmount)</td>\n",
              "      <td>Ontario</td>\n",
              "      <td>M9P</td>\n",
              "      <td>43.6949</td>\n",
              "      <td>-79.5323</td>\n",
              "    </tr>\n",
              "    <tr>\n",
              "      <th>99</th>\n",
              "      <td>Etobicoke (Kingsview Village / St. Phillips / ...</td>\n",
              "      <td>Ontario</td>\n",
              "      <td>M9R</td>\n",
              "      <td>43.6898</td>\n",
              "      <td>-79.5582</td>\n",
              "    </tr>\n",
              "    <tr>\n",
              "      <th>100</th>\n",
              "      <td>Etobicoke (South Steeles / Silverstone / Humbe...</td>\n",
              "      <td>Ontario</td>\n",
              "      <td>M9V</td>\n",
              "      <td>43.7432</td>\n",
              "      <td>-79.5876</td>\n",
              "    </tr>\n",
              "    <tr>\n",
              "      <th>101</th>\n",
              "      <td>Etobicoke Northwest (Clairville / Humberwood /...</td>\n",
              "      <td>Ontario</td>\n",
              "      <td>M9W</td>\n",
              "      <td>43.7144</td>\n",
              "      <td>-79.5909</td>\n",
              "    </tr>\n",
              "  </tbody>\n",
              "</table>\n",
              "<p>102 rows × 5 columns</p>\n",
              "</div>"
            ],
            "text/plain": [
              "                                                  name province code  \\\n",
              "0                  Scarborough (Malvern / Rouge River)  Ontario  M1B   \n",
              "1    Scarborough (Rouge Hill / Port Union / Highlan...  Ontario  M1C   \n",
              "2    Scarborough (Guildwood / Morningside / Ellesmere)  Ontario  M1E   \n",
              "3                                 Scarborough (Woburn)  Ontario  M1G   \n",
              "4                              Scarborough (Cedarbrae)  Ontario  M1H   \n",
              "..                                                 ...      ...  ...   \n",
              "97                                              Weston  Ontario  M9N   \n",
              "98                               Etobicoke (Westmount)  Ontario  M9P   \n",
              "99   Etobicoke (Kingsview Village / St. Phillips / ...  Ontario  M9R   \n",
              "100  Etobicoke (South Steeles / Silverstone / Humbe...  Ontario  M9V   \n",
              "101  Etobicoke Northwest (Clairville / Humberwood /...  Ontario  M9W   \n",
              "\n",
              "     latitude  longitude  \n",
              "0     43.8113   -79.1930  \n",
              "1     43.7878   -79.1564  \n",
              "2     43.7678   -79.1866  \n",
              "3     43.7712   -79.2144  \n",
              "4     43.7686   -79.2389  \n",
              "..        ...        ...  \n",
              "97    43.7068   -79.5170  \n",
              "98    43.6949   -79.5323  \n",
              "99    43.6898   -79.5582  \n",
              "100   43.7432   -79.5876  \n",
              "101   43.7144   -79.5909  \n",
              "\n",
              "[102 rows x 5 columns]"
            ]
          },
          "execution_count": 493,
          "metadata": {},
          "output_type": "execute_result"
        }
      ],
      "source": [
        "dfRegions=pd.read_csv('regions.csv')\n",
        "dfRegions"
      ]
    },
    {
      "cell_type": "markdown",
      "id": "b2634e1f",
      "metadata": {
        "id": "b2634e1f"
      },
      "source": [
        "### K Mean Clustering"
      ]
    },
    {
      "cell_type": "code",
      "execution_count": null,
      "id": "d85cc524",
      "metadata": {
        "scrolled": true,
        "id": "d85cc524",
        "outputId": "3ea09298-0a1c-45b1-831c-d1e7280a4492"
      },
      "outputs": [
        {
          "data": {
            "text/html": [
              "<div>\n",
              "<style scoped>\n",
              "    .dataframe tbody tr th:only-of-type {\n",
              "        vertical-align: middle;\n",
              "    }\n",
              "\n",
              "    .dataframe tbody tr th {\n",
              "        vertical-align: top;\n",
              "    }\n",
              "\n",
              "    .dataframe thead th {\n",
              "        text-align: right;\n",
              "    }\n",
              "</style>\n",
              "<table border=\"1\" class=\"dataframe\">\n",
              "  <thead>\n",
              "    <tr style=\"text-align: right;\">\n",
              "      <th></th>\n",
              "      <th>name</th>\n",
              "      <th>customer</th>\n",
              "      <th>estimated availability</th>\n",
              "      <th>latitude</th>\n",
              "      <th>longitude</th>\n",
              "    </tr>\n",
              "  </thead>\n",
              "  <tbody>\n",
              "    <tr>\n",
              "      <th>0</th>\n",
              "      <td>Downtown Toronto (Central Bay Street)</td>\n",
              "      <td>North York (Armour Heights / Wilson Heights / ...</td>\n",
              "      <td>2022-04-02 5:17 PM</td>\n",
              "      <td>43.6564</td>\n",
              "      <td>-79.3860</td>\n",
              "    </tr>\n",
              "    <tr>\n",
              "      <th>1</th>\n",
              "      <td>Downtown Toronto (Christie)</td>\n",
              "      <td>West Toronto (Brockton / Parkdale Village / Ex...</td>\n",
              "      <td>2022-04-02 5:49 PM</td>\n",
              "      <td>43.6683</td>\n",
              "      <td>-79.4205</td>\n",
              "    </tr>\n",
              "    <tr>\n",
              "      <th>2</th>\n",
              "      <td>Downtown Toronto (Ryerson)</td>\n",
              "      <td>York (Fairbank / Oakwood)</td>\n",
              "      <td>2022-04-02 6:17 PM</td>\n",
              "      <td>43.6572</td>\n",
              "      <td>-79.3783</td>\n",
              "    </tr>\n",
              "    <tr>\n",
              "      <th>3</th>\n",
              "      <td>Downtown Toronto (St. James Park)</td>\n",
              "      <td>East Toronto (The Beaches)</td>\n",
              "      <td>2022-04-02 5:53 PM</td>\n",
              "      <td>43.6513</td>\n",
              "      <td>-79.3756</td>\n",
              "    </tr>\n",
              "    <tr>\n",
              "      <th>4</th>\n",
              "      <td>Downtown Toronto (Kensington Market / Chinatow...</td>\n",
              "      <td>Downtown Toronto (Central Bay Street)</td>\n",
              "      <td>2022-04-02 5:24 PM</td>\n",
              "      <td>43.6541</td>\n",
              "      <td>-79.3978</td>\n",
              "    </tr>\n",
              "    <tr>\n",
              "      <th>5</th>\n",
              "      <td>Downtown Toronto (Rosedale)</td>\n",
              "      <td>Downtown Toronto (CN Tower / King and Spadina ...</td>\n",
              "      <td>2022-04-02 7:35 PM</td>\n",
              "      <td>43.6827</td>\n",
              "      <td>-79.3730</td>\n",
              "    </tr>\n",
              "    <tr>\n",
              "      <th>6</th>\n",
              "      <td>Downtown Toronto (Regent Park / Port of Toronto)</td>\n",
              "      <td>Downtown Toronto (Toronto Dominion Centre / De...</td>\n",
              "      <td>2022-04-02 6:21 PM</td>\n",
              "      <td>43.6555</td>\n",
              "      <td>-79.3626</td>\n",
              "    </tr>\n",
              "    <tr>\n",
              "      <th>7</th>\n",
              "      <td>Downtown Toronto (St. James Town / Cabbagetown)</td>\n",
              "      <td>York (Runnymede / The Junction North)</td>\n",
              "      <td>2022-04-02 5:10 PM</td>\n",
              "      <td>43.6684</td>\n",
              "      <td>-79.3689</td>\n",
              "    </tr>\n",
              "    <tr>\n",
              "      <th>8</th>\n",
              "      <td>Downtown Toronto (Underground city)</td>\n",
              "      <td>Central Toronto (Summerhill West / Rathnelly /...</td>\n",
              "      <td>2022-04-02 5:21 PM</td>\n",
              "      <td>43.6492</td>\n",
              "      <td>-79.3823</td>\n",
              "    </tr>\n",
              "    <tr>\n",
              "      <th>9</th>\n",
              "      <td>Downtown Toronto (Church and Wellesley)</td>\n",
              "      <td>East Toronto (The Danforth West / Riverdale)</td>\n",
              "      <td>2022-04-02 7:21 PM</td>\n",
              "      <td>43.6656</td>\n",
              "      <td>-79.3830</td>\n",
              "    </tr>\n",
              "    <tr>\n",
              "      <th>10</th>\n",
              "      <td>Downtown Toronto (Richmond / Adelaide / King)</td>\n",
              "      <td>East York (Parkview Hill / Woodbine Gardens)</td>\n",
              "      <td>2022-04-02 7:15 PM</td>\n",
              "      <td>43.6496</td>\n",
              "      <td>-79.3833</td>\n",
              "    </tr>\n",
              "    <tr>\n",
              "      <th>11</th>\n",
              "      <td>Downtown Toronto (Rosedale)</td>\n",
              "      <td>Downtown Toronto (Central Bay Street)</td>\n",
              "      <td>2022-04-02 5:00 PM</td>\n",
              "      <td>43.6827</td>\n",
              "      <td>-79.3730</td>\n",
              "    </tr>\n",
              "    <tr>\n",
              "      <th>12</th>\n",
              "      <td>Downtown Toronto (University of Toronto / Harb...</td>\n",
              "      <td>North York (Humber Summit)</td>\n",
              "      <td>2022-04-02 6:49 PM</td>\n",
              "      <td>43.6629</td>\n",
              "      <td>-79.3987</td>\n",
              "    </tr>\n",
              "    <tr>\n",
              "      <th>13</th>\n",
              "      <td>Downtown Toronto (St. James Park)</td>\n",
              "      <td>Central Toronto (The Annex / North Midtown / Y...</td>\n",
              "      <td>2022-04-02 5:56 PM</td>\n",
              "      <td>43.6513</td>\n",
              "      <td>-79.3756</td>\n",
              "    </tr>\n",
              "    <tr>\n",
              "      <th>14</th>\n",
              "      <td>Downtown Toronto (St. James Park)</td>\n",
              "      <td>East Toronto (India Bazaar / The Beaches West)</td>\n",
              "      <td>2022-04-02 7:24 PM</td>\n",
              "      <td>43.6513</td>\n",
              "      <td>-79.3756</td>\n",
              "    </tr>\n",
              "  </tbody>\n",
              "</table>\n",
              "</div>"
            ],
            "text/plain": [
              "                                                 name  \\\n",
              "0               Downtown Toronto (Central Bay Street)   \n",
              "1                         Downtown Toronto (Christie)   \n",
              "2                          Downtown Toronto (Ryerson)   \n",
              "3                   Downtown Toronto (St. James Park)   \n",
              "4   Downtown Toronto (Kensington Market / Chinatow...   \n",
              "5                         Downtown Toronto (Rosedale)   \n",
              "6    Downtown Toronto (Regent Park / Port of Toronto)   \n",
              "7     Downtown Toronto (St. James Town / Cabbagetown)   \n",
              "8                 Downtown Toronto (Underground city)   \n",
              "9             Downtown Toronto (Church and Wellesley)   \n",
              "10      Downtown Toronto (Richmond / Adelaide / King)   \n",
              "11                        Downtown Toronto (Rosedale)   \n",
              "12  Downtown Toronto (University of Toronto / Harb...   \n",
              "13                  Downtown Toronto (St. James Park)   \n",
              "14                  Downtown Toronto (St. James Park)   \n",
              "\n",
              "                                             customer estimated availability  \\\n",
              "0   North York (Armour Heights / Wilson Heights / ...     2022-04-02 5:17 PM   \n",
              "1   West Toronto (Brockton / Parkdale Village / Ex...     2022-04-02 5:49 PM   \n",
              "2                           York (Fairbank / Oakwood)     2022-04-02 6:17 PM   \n",
              "3                          East Toronto (The Beaches)     2022-04-02 5:53 PM   \n",
              "4               Downtown Toronto (Central Bay Street)     2022-04-02 5:24 PM   \n",
              "5   Downtown Toronto (CN Tower / King and Spadina ...     2022-04-02 7:35 PM   \n",
              "6   Downtown Toronto (Toronto Dominion Centre / De...     2022-04-02 6:21 PM   \n",
              "7               York (Runnymede / The Junction North)     2022-04-02 5:10 PM   \n",
              "8   Central Toronto (Summerhill West / Rathnelly /...     2022-04-02 5:21 PM   \n",
              "9        East Toronto (The Danforth West / Riverdale)     2022-04-02 7:21 PM   \n",
              "10       East York (Parkview Hill / Woodbine Gardens)     2022-04-02 7:15 PM   \n",
              "11              Downtown Toronto (Central Bay Street)     2022-04-02 5:00 PM   \n",
              "12                         North York (Humber Summit)     2022-04-02 6:49 PM   \n",
              "13  Central Toronto (The Annex / North Midtown / Y...     2022-04-02 5:56 PM   \n",
              "14     East Toronto (India Bazaar / The Beaches West)     2022-04-02 7:24 PM   \n",
              "\n",
              "    latitude  longitude  \n",
              "0    43.6564   -79.3860  \n",
              "1    43.6683   -79.4205  \n",
              "2    43.6572   -79.3783  \n",
              "3    43.6513   -79.3756  \n",
              "4    43.6541   -79.3978  \n",
              "5    43.6827   -79.3730  \n",
              "6    43.6555   -79.3626  \n",
              "7    43.6684   -79.3689  \n",
              "8    43.6492   -79.3823  \n",
              "9    43.6656   -79.3830  \n",
              "10   43.6496   -79.3833  \n",
              "11   43.6827   -79.3730  \n",
              "12   43.6629   -79.3987  \n",
              "13   43.6513   -79.3756  \n",
              "14   43.6513   -79.3756  "
            ]
          },
          "execution_count": 494,
          "metadata": {},
          "output_type": "execute_result"
        }
      ],
      "source": [
        "#find the long lat for each restaurant in the orders\n",
        "df_1=dfOrders.copy()\n",
        "df_1=df_1.rename(columns={'restaurant':'name'})\n",
        "df_1=pd.merge(df_1,dfRegions[['name','latitude','longitude']],on='name',how='left')\n",
        "df_1"
      ]
    },
    {
      "cell_type": "code",
      "execution_count": null,
      "id": "a2353cef",
      "metadata": {
        "id": "a2353cef",
        "outputId": "e1390bd1-85be-4dfe-827f-91ebb01351b7"
      },
      "outputs": [
        {
          "data": {
            "text/html": [
              "<div>\n",
              "<style scoped>\n",
              "    .dataframe tbody tr th:only-of-type {\n",
              "        vertical-align: middle;\n",
              "    }\n",
              "\n",
              "    .dataframe tbody tr th {\n",
              "        vertical-align: top;\n",
              "    }\n",
              "\n",
              "    .dataframe thead th {\n",
              "        text-align: right;\n",
              "    }\n",
              "</style>\n",
              "<table border=\"1\" class=\"dataframe\">\n",
              "  <thead>\n",
              "    <tr style=\"text-align: right;\">\n",
              "      <th></th>\n",
              "      <th>name</th>\n",
              "      <th>customer</th>\n",
              "      <th>estimated availability</th>\n",
              "      <th>latitude</th>\n",
              "      <th>longitude</th>\n",
              "    </tr>\n",
              "  </thead>\n",
              "  <tbody>\n",
              "    <tr>\n",
              "      <th>0</th>\n",
              "      <td>Downtown Toronto (Central Bay Street)</td>\n",
              "      <td>North York (Armour Heights / Wilson Heights / ...</td>\n",
              "      <td>2022-04-02 17:17:00</td>\n",
              "      <td>43.6564</td>\n",
              "      <td>-79.3860</td>\n",
              "    </tr>\n",
              "    <tr>\n",
              "      <th>1</th>\n",
              "      <td>Downtown Toronto (Christie)</td>\n",
              "      <td>West Toronto (Brockton / Parkdale Village / Ex...</td>\n",
              "      <td>2022-04-02 17:49:00</td>\n",
              "      <td>43.6683</td>\n",
              "      <td>-79.4205</td>\n",
              "    </tr>\n",
              "    <tr>\n",
              "      <th>2</th>\n",
              "      <td>Downtown Toronto (Ryerson)</td>\n",
              "      <td>York (Fairbank / Oakwood)</td>\n",
              "      <td>2022-04-02 18:17:00</td>\n",
              "      <td>43.6572</td>\n",
              "      <td>-79.3783</td>\n",
              "    </tr>\n",
              "    <tr>\n",
              "      <th>3</th>\n",
              "      <td>Downtown Toronto (St. James Park)</td>\n",
              "      <td>East Toronto (The Beaches)</td>\n",
              "      <td>2022-04-02 17:53:00</td>\n",
              "      <td>43.6513</td>\n",
              "      <td>-79.3756</td>\n",
              "    </tr>\n",
              "    <tr>\n",
              "      <th>4</th>\n",
              "      <td>Downtown Toronto (Kensington Market / Chinatow...</td>\n",
              "      <td>Downtown Toronto (Central Bay Street)</td>\n",
              "      <td>2022-04-02 17:24:00</td>\n",
              "      <td>43.6541</td>\n",
              "      <td>-79.3978</td>\n",
              "    </tr>\n",
              "    <tr>\n",
              "      <th>5</th>\n",
              "      <td>Downtown Toronto (Rosedale)</td>\n",
              "      <td>Downtown Toronto (CN Tower / King and Spadina ...</td>\n",
              "      <td>2022-04-02 19:35:00</td>\n",
              "      <td>43.6827</td>\n",
              "      <td>-79.3730</td>\n",
              "    </tr>\n",
              "    <tr>\n",
              "      <th>6</th>\n",
              "      <td>Downtown Toronto (Regent Park / Port of Toronto)</td>\n",
              "      <td>Downtown Toronto (Toronto Dominion Centre / De...</td>\n",
              "      <td>2022-04-02 18:21:00</td>\n",
              "      <td>43.6555</td>\n",
              "      <td>-79.3626</td>\n",
              "    </tr>\n",
              "    <tr>\n",
              "      <th>7</th>\n",
              "      <td>Downtown Toronto (St. James Town / Cabbagetown)</td>\n",
              "      <td>York (Runnymede / The Junction North)</td>\n",
              "      <td>2022-04-02 17:10:00</td>\n",
              "      <td>43.6684</td>\n",
              "      <td>-79.3689</td>\n",
              "    </tr>\n",
              "    <tr>\n",
              "      <th>8</th>\n",
              "      <td>Downtown Toronto (Underground city)</td>\n",
              "      <td>Central Toronto (Summerhill West / Rathnelly /...</td>\n",
              "      <td>2022-04-02 17:21:00</td>\n",
              "      <td>43.6492</td>\n",
              "      <td>-79.3823</td>\n",
              "    </tr>\n",
              "    <tr>\n",
              "      <th>9</th>\n",
              "      <td>Downtown Toronto (Church and Wellesley)</td>\n",
              "      <td>East Toronto (The Danforth West / Riverdale)</td>\n",
              "      <td>2022-04-02 19:21:00</td>\n",
              "      <td>43.6656</td>\n",
              "      <td>-79.3830</td>\n",
              "    </tr>\n",
              "    <tr>\n",
              "      <th>10</th>\n",
              "      <td>Downtown Toronto (Richmond / Adelaide / King)</td>\n",
              "      <td>East York (Parkview Hill / Woodbine Gardens)</td>\n",
              "      <td>2022-04-02 19:15:00</td>\n",
              "      <td>43.6496</td>\n",
              "      <td>-79.3833</td>\n",
              "    </tr>\n",
              "    <tr>\n",
              "      <th>11</th>\n",
              "      <td>Downtown Toronto (Rosedale)</td>\n",
              "      <td>Downtown Toronto (Central Bay Street)</td>\n",
              "      <td>2022-04-02 17:00:00</td>\n",
              "      <td>43.6827</td>\n",
              "      <td>-79.3730</td>\n",
              "    </tr>\n",
              "    <tr>\n",
              "      <th>12</th>\n",
              "      <td>Downtown Toronto (University of Toronto / Harb...</td>\n",
              "      <td>North York (Humber Summit)</td>\n",
              "      <td>2022-04-02 18:49:00</td>\n",
              "      <td>43.6629</td>\n",
              "      <td>-79.3987</td>\n",
              "    </tr>\n",
              "    <tr>\n",
              "      <th>13</th>\n",
              "      <td>Downtown Toronto (St. James Park)</td>\n",
              "      <td>Central Toronto (The Annex / North Midtown / Y...</td>\n",
              "      <td>2022-04-02 17:56:00</td>\n",
              "      <td>43.6513</td>\n",
              "      <td>-79.3756</td>\n",
              "    </tr>\n",
              "    <tr>\n",
              "      <th>14</th>\n",
              "      <td>Downtown Toronto (St. James Park)</td>\n",
              "      <td>East Toronto (India Bazaar / The Beaches West)</td>\n",
              "      <td>2022-04-02 19:24:00</td>\n",
              "      <td>43.6513</td>\n",
              "      <td>-79.3756</td>\n",
              "    </tr>\n",
              "  </tbody>\n",
              "</table>\n",
              "</div>"
            ],
            "text/plain": [
              "                                                 name  \\\n",
              "0               Downtown Toronto (Central Bay Street)   \n",
              "1                         Downtown Toronto (Christie)   \n",
              "2                          Downtown Toronto (Ryerson)   \n",
              "3                   Downtown Toronto (St. James Park)   \n",
              "4   Downtown Toronto (Kensington Market / Chinatow...   \n",
              "5                         Downtown Toronto (Rosedale)   \n",
              "6    Downtown Toronto (Regent Park / Port of Toronto)   \n",
              "7     Downtown Toronto (St. James Town / Cabbagetown)   \n",
              "8                 Downtown Toronto (Underground city)   \n",
              "9             Downtown Toronto (Church and Wellesley)   \n",
              "10      Downtown Toronto (Richmond / Adelaide / King)   \n",
              "11                        Downtown Toronto (Rosedale)   \n",
              "12  Downtown Toronto (University of Toronto / Harb...   \n",
              "13                  Downtown Toronto (St. James Park)   \n",
              "14                  Downtown Toronto (St. James Park)   \n",
              "\n",
              "                                             customer estimated availability  \\\n",
              "0   North York (Armour Heights / Wilson Heights / ...    2022-04-02 17:17:00   \n",
              "1   West Toronto (Brockton / Parkdale Village / Ex...    2022-04-02 17:49:00   \n",
              "2                           York (Fairbank / Oakwood)    2022-04-02 18:17:00   \n",
              "3                          East Toronto (The Beaches)    2022-04-02 17:53:00   \n",
              "4               Downtown Toronto (Central Bay Street)    2022-04-02 17:24:00   \n",
              "5   Downtown Toronto (CN Tower / King and Spadina ...    2022-04-02 19:35:00   \n",
              "6   Downtown Toronto (Toronto Dominion Centre / De...    2022-04-02 18:21:00   \n",
              "7               York (Runnymede / The Junction North)    2022-04-02 17:10:00   \n",
              "8   Central Toronto (Summerhill West / Rathnelly /...    2022-04-02 17:21:00   \n",
              "9        East Toronto (The Danforth West / Riverdale)    2022-04-02 19:21:00   \n",
              "10       East York (Parkview Hill / Woodbine Gardens)    2022-04-02 19:15:00   \n",
              "11              Downtown Toronto (Central Bay Street)    2022-04-02 17:00:00   \n",
              "12                         North York (Humber Summit)    2022-04-02 18:49:00   \n",
              "13  Central Toronto (The Annex / North Midtown / Y...    2022-04-02 17:56:00   \n",
              "14     East Toronto (India Bazaar / The Beaches West)    2022-04-02 19:24:00   \n",
              "\n",
              "    latitude  longitude  \n",
              "0    43.6564   -79.3860  \n",
              "1    43.6683   -79.4205  \n",
              "2    43.6572   -79.3783  \n",
              "3    43.6513   -79.3756  \n",
              "4    43.6541   -79.3978  \n",
              "5    43.6827   -79.3730  \n",
              "6    43.6555   -79.3626  \n",
              "7    43.6684   -79.3689  \n",
              "8    43.6492   -79.3823  \n",
              "9    43.6656   -79.3830  \n",
              "10   43.6496   -79.3833  \n",
              "11   43.6827   -79.3730  \n",
              "12   43.6629   -79.3987  \n",
              "13   43.6513   -79.3756  \n",
              "14   43.6513   -79.3756  "
            ]
          },
          "execution_count": 495,
          "metadata": {},
          "output_type": "execute_result"
        }
      ],
      "source": [
        "df_1['estimated availability'] = pd.to_datetime(df_1['estimated availability'])\n",
        "df_1"
      ]
    },
    {
      "cell_type": "code",
      "execution_count": null,
      "id": "7a4d1cbf",
      "metadata": {
        "id": "7a4d1cbf"
      },
      "outputs": [],
      "source": [
        "import keras\n",
        "from matplotlib import pyplot\n",
        "from sklearn import preprocessing\n",
        "from keras.models import Sequential\n",
        "from keras.layers import Dense\n",
        "from sklearn.inspection import permutation_importance\n",
        "from sklearn.preprocessing import StandardScaler\n",
        "from sklearn.cluster import KMeans \n",
        "from sklearn.pipeline import make_pipeline"
      ]
    },
    {
      "cell_type": "code",
      "execution_count": null,
      "id": "e16fda68",
      "metadata": {
        "id": "e16fda68"
      },
      "outputs": [],
      "source": [
        "df_2=df_1.copy()\n",
        "df_2=df_2.drop(columns=['name','customer','estimated availability'])"
      ]
    },
    {
      "cell_type": "code",
      "execution_count": null,
      "id": "04951d80",
      "metadata": {
        "id": "04951d80",
        "outputId": "4e83ee5e-2f29-466c-8ddd-bd1c24aa095a"
      },
      "outputs": [
        {
          "data": {
            "text/html": [
              "<div>\n",
              "<style scoped>\n",
              "    .dataframe tbody tr th:only-of-type {\n",
              "        vertical-align: middle;\n",
              "    }\n",
              "\n",
              "    .dataframe tbody tr th {\n",
              "        vertical-align: top;\n",
              "    }\n",
              "\n",
              "    .dataframe thead th {\n",
              "        text-align: right;\n",
              "    }\n",
              "</style>\n",
              "<table border=\"1\" class=\"dataframe\">\n",
              "  <thead>\n",
              "    <tr style=\"text-align: right;\">\n",
              "      <th></th>\n",
              "      <th>0</th>\n",
              "      <th>1</th>\n",
              "    </tr>\n",
              "  </thead>\n",
              "  <tbody>\n",
              "    <tr>\n",
              "      <th>0</th>\n",
              "      <td>0.214925</td>\n",
              "      <td>0.595855</td>\n",
              "    </tr>\n",
              "    <tr>\n",
              "      <th>1</th>\n",
              "      <td>0.570149</td>\n",
              "      <td>0.000000</td>\n",
              "    </tr>\n",
              "    <tr>\n",
              "      <th>2</th>\n",
              "      <td>0.238806</td>\n",
              "      <td>0.728843</td>\n",
              "    </tr>\n",
              "    <tr>\n",
              "      <th>3</th>\n",
              "      <td>0.062687</td>\n",
              "      <td>0.775475</td>\n",
              "    </tr>\n",
              "    <tr>\n",
              "      <th>4</th>\n",
              "      <td>0.146269</td>\n",
              "      <td>0.392055</td>\n",
              "    </tr>\n",
              "  </tbody>\n",
              "</table>\n",
              "</div>"
            ],
            "text/plain": [
              "          0         1\n",
              "0  0.214925  0.595855\n",
              "1  0.570149  0.000000\n",
              "2  0.238806  0.728843\n",
              "3  0.062687  0.775475\n",
              "4  0.146269  0.392055"
            ]
          },
          "execution_count": 498,
          "metadata": {},
          "output_type": "execute_result"
        }
      ],
      "source": [
        "scaler = preprocessing.MinMaxScaler()\n",
        "scaled_df = scaler.fit_transform(df_2)\n",
        "#Converting the numpy array into a pandas DataFrame\n",
        "scaled_df = pd.DataFrame(scaled_df)\n",
        "scaled_df.head(5)"
      ]
    },
    {
      "cell_type": "code",
      "execution_count": null,
      "id": "df3400ec",
      "metadata": {
        "id": "df3400ec"
      },
      "outputs": [],
      "source": [
        "scaled_df.columns=['latitude','longitude']"
      ]
    },
    {
      "cell_type": "code",
      "execution_count": null,
      "id": "aae93137",
      "metadata": {
        "id": "aae93137",
        "outputId": "0442f53d-d548-4f9f-bedc-0cebb0b6040d"
      },
      "outputs": [
        {
          "data": {
            "text/plain": [
              "array([[0.21492537, 0.59585492],\n",
              "       [0.57014925, 0.        ],\n",
              "       [0.23880597, 0.72884283],\n",
              "       [0.06268657, 0.77547496],\n",
              "       [0.14626866, 0.39205527],\n",
              "       [1.        , 0.82037997],\n",
              "       [0.1880597 , 1.        ],\n",
              "       [0.57313433, 0.89119171],\n",
              "       [0.        , 0.6597582 ],\n",
              "       [0.48955224, 0.64766839],\n",
              "       [0.0119403 , 0.64248705],\n",
              "       [1.        , 0.82037997],\n",
              "       [0.40895522, 0.37651123],\n",
              "       [0.06268657, 0.77547496],\n",
              "       [0.06268657, 0.77547496]])"
            ]
          },
          "execution_count": 500,
          "metadata": {},
          "output_type": "execute_result"
        }
      ],
      "source": [
        "x_array = scaled_df.values\n",
        "x_array"
      ]
    },
    {
      "cell_type": "code",
      "execution_count": null,
      "id": "62ea460e",
      "metadata": {
        "id": "62ea460e"
      },
      "outputs": [],
      "source": [
        "ks = range(1,10)\n",
        "inertias = []\n",
        "centroids = []\n",
        "scaler = StandardScaler()"
      ]
    },
    {
      "cell_type": "code",
      "execution_count": null,
      "id": "df6287fe",
      "metadata": {
        "id": "df6287fe",
        "outputId": "bfc7690a-a6de-45bf-87ed-510ca742404a"
      },
      "outputs": [
        {
          "name": "stderr",
          "output_type": "stream",
          "text": [
            "Z:\\ProgramData\\Anaconda3\\lib\\site-packages\\sklearn\\cluster\\_kmeans.py:1036: UserWarning: KMeans is known to have a memory leak on Windows with MKL, when there are less chunks than available threads. You can avoid it by setting the environment variable OMP_NUM_THREADS=1.\n",
            "  warnings.warn(\n"
          ]
        }
      ],
      "source": [
        "for k in ks:\n",
        "    model = KMeans(n_clusters = k)\n",
        "    pipeline = make_pipeline(scaler,model)\n",
        "    pipeline.fit(scaled_df)\n",
        "    inertias.append(pipeline.named_steps['kmeans'].inertia_)\n",
        "    centroids.append(pipeline.named_steps['kmeans'].cluster_centers_)"
      ]
    },
    {
      "cell_type": "code",
      "execution_count": null,
      "id": "0a09e35d",
      "metadata": {
        "id": "0a09e35d",
        "outputId": "c4fdde50-7357-42f7-f15b-6adb2ad86c74"
      },
      "outputs": [
        {
          "data": {
            "text/plain": [
              "([<matplotlib.axis.XTick at 0x21ceaa33b50>,\n",
              "  <matplotlib.axis.XTick at 0x21ceaa33820>,\n",
              "  <matplotlib.axis.XTick at 0x21ceaa33e20>,\n",
              "  <matplotlib.axis.XTick at 0x21cebc1e9d0>,\n",
              "  <matplotlib.axis.XTick at 0x21ceaf8f520>,\n",
              "  <matplotlib.axis.XTick at 0x21ceb814c40>,\n",
              "  <matplotlib.axis.XTick at 0x21ceb814b20>,\n",
              "  <matplotlib.axis.XTick at 0x21cebc11370>,\n",
              "  <matplotlib.axis.XTick at 0x21cebc11ac0>],\n",
              " [Text(0, 0, ''),\n",
              "  Text(0, 0, ''),\n",
              "  Text(0, 0, ''),\n",
              "  Text(0, 0, ''),\n",
              "  Text(0, 0, ''),\n",
              "  Text(0, 0, ''),\n",
              "  Text(0, 0, ''),\n",
              "  Text(0, 0, ''),\n",
              "  Text(0, 0, '')])"
            ]
          },
          "execution_count": 503,
          "metadata": {},
          "output_type": "execute_result"
        },
        {
          "data": {
            "image/png": "[encoded data removed]",
            "text/plain": [
              "<Figure size 432x288 with 1 Axes>"
            ]
          },
          "metadata": {},
          "output_type": "display_data"
        }
      ],
      "source": [
        "plt.plot(ks, inertias, '-o')\n",
        "plt.xlabel('numer of clusters, k')\n",
        "plt.ylabel('inertia')\n",
        "plt.xticks(ks)"
      ]
    },
    {
      "cell_type": "markdown",
      "id": "a1c6ecdb",
      "metadata": {
        "id": "a1c6ecdb"
      },
      "source": [
        "#### --> 6 clusters"
      ]
    },
    {
      "cell_type": "code",
      "execution_count": null,
      "id": "6bd9e48b",
      "metadata": {
        "id": "6bd9e48b"
      },
      "outputs": [],
      "source": [
        "import random\n",
        "model=KMeans(n_clusters=6, random_state = 17)"
      ]
    },
    {
      "cell_type": "code",
      "execution_count": null,
      "id": "c238b4e2",
      "metadata": {
        "id": "c238b4e2",
        "outputId": "d26cf6d2-0c8a-413a-ad53-368065020b2e"
      },
      "outputs": [
        {
          "data": {
            "text/plain": [
              "KMeans(n_clusters=6, random_state=17)"
            ]
          },
          "execution_count": 505,
          "metadata": {},
          "output_type": "execute_result"
        }
      ],
      "source": [
        "model.fit(scaled_df)"
      ]
    },
    {
      "cell_type": "code",
      "execution_count": null,
      "id": "f7649921",
      "metadata": {
        "id": "f7649921",
        "outputId": "f81f147b-3000-4dc7-b4c3-70bf6c2d8889"
      },
      "outputs": [
        {
          "data": {
            "text/plain": [
              "array([1, 0, 3, 3, 1, 4, 5, 2, 3, 2, 3, 4, 1, 3, 3])"
            ]
          },
          "execution_count": 506,
          "metadata": {},
          "output_type": "execute_result"
        }
      ],
      "source": [
        "labels=model.predict(scaled_df)\n",
        "labels"
      ]
    },
    {
      "cell_type": "code",
      "execution_count": null,
      "id": "11b3ccb0",
      "metadata": {
        "id": "11b3ccb0",
        "outputId": "c0ee4c54-7324-46be-f634-699d366be241"
      },
      "outputs": [
        {
          "data": {
            "text/html": [
              "<div>\n",
              "<style scoped>\n",
              "    .dataframe tbody tr th:only-of-type {\n",
              "        vertical-align: middle;\n",
              "    }\n",
              "\n",
              "    .dataframe tbody tr th {\n",
              "        vertical-align: top;\n",
              "    }\n",
              "\n",
              "    .dataframe thead th {\n",
              "        text-align: right;\n",
              "    }\n",
              "</style>\n",
              "<table border=\"1\" class=\"dataframe\">\n",
              "  <thead>\n",
              "    <tr style=\"text-align: right;\">\n",
              "      <th></th>\n",
              "      <th>name</th>\n",
              "      <th>customer</th>\n",
              "      <th>estimated availability</th>\n",
              "      <th>latitude</th>\n",
              "      <th>longitude</th>\n",
              "      <th>label</th>\n",
              "    </tr>\n",
              "  </thead>\n",
              "  <tbody>\n",
              "    <tr>\n",
              "      <th>0</th>\n",
              "      <td>Downtown Toronto (Central Bay Street)</td>\n",
              "      <td>North York (Armour Heights / Wilson Heights / ...</td>\n",
              "      <td>2022-04-02 17:17:00</td>\n",
              "      <td>43.6564</td>\n",
              "      <td>-79.3860</td>\n",
              "      <td>1</td>\n",
              "    </tr>\n",
              "    <tr>\n",
              "      <th>1</th>\n",
              "      <td>Downtown Toronto (Christie)</td>\n",
              "      <td>West Toronto (Brockton / Parkdale Village / Ex...</td>\n",
              "      <td>2022-04-02 17:49:00</td>\n",
              "      <td>43.6683</td>\n",
              "      <td>-79.4205</td>\n",
              "      <td>0</td>\n",
              "    </tr>\n",
              "    <tr>\n",
              "      <th>2</th>\n",
              "      <td>Downtown Toronto (Ryerson)</td>\n",
              "      <td>York (Fairbank / Oakwood)</td>\n",
              "      <td>2022-04-02 18:17:00</td>\n",
              "      <td>43.6572</td>\n",
              "      <td>-79.3783</td>\n",
              "      <td>3</td>\n",
              "    </tr>\n",
              "    <tr>\n",
              "      <th>3</th>\n",
              "      <td>Downtown Toronto (St. James Park)</td>\n",
              "      <td>East Toronto (The Beaches)</td>\n",
              "      <td>2022-04-02 17:53:00</td>\n",
              "      <td>43.6513</td>\n",
              "      <td>-79.3756</td>\n",
              "      <td>3</td>\n",
              "    </tr>\n",
              "    <tr>\n",
              "      <th>4</th>\n",
              "      <td>Downtown Toronto (Kensington Market / Chinatow...</td>\n",
              "      <td>Downtown Toronto (Central Bay Street)</td>\n",
              "      <td>2022-04-02 17:24:00</td>\n",
              "      <td>43.6541</td>\n",
              "      <td>-79.3978</td>\n",
              "      <td>1</td>\n",
              "    </tr>\n",
              "    <tr>\n",
              "      <th>5</th>\n",
              "      <td>Downtown Toronto (Rosedale)</td>\n",
              "      <td>Downtown Toronto (CN Tower / King and Spadina ...</td>\n",
              "      <td>2022-04-02 19:35:00</td>\n",
              "      <td>43.6827</td>\n",
              "      <td>-79.3730</td>\n",
              "      <td>4</td>\n",
              "    </tr>\n",
              "    <tr>\n",
              "      <th>6</th>\n",
              "      <td>Downtown Toronto (Regent Park / Port of Toronto)</td>\n",
              "      <td>Downtown Toronto (Toronto Dominion Centre / De...</td>\n",
              "      <td>2022-04-02 18:21:00</td>\n",
              "      <td>43.6555</td>\n",
              "      <td>-79.3626</td>\n",
              "      <td>5</td>\n",
              "    </tr>\n",
              "    <tr>\n",
              "      <th>7</th>\n",
              "      <td>Downtown Toronto (St. James Town / Cabbagetown)</td>\n",
              "      <td>York (Runnymede / The Junction North)</td>\n",
              "      <td>2022-04-02 17:10:00</td>\n",
              "      <td>43.6684</td>\n",
              "      <td>-79.3689</td>\n",
              "      <td>2</td>\n",
              "    </tr>\n",
              "    <tr>\n",
              "      <th>8</th>\n",
              "      <td>Downtown Toronto (Underground city)</td>\n",
              "      <td>Central Toronto (Summerhill West / Rathnelly /...</td>\n",
              "      <td>2022-04-02 17:21:00</td>\n",
              "      <td>43.6492</td>\n",
              "      <td>-79.3823</td>\n",
              "      <td>3</td>\n",
              "    </tr>\n",
              "    <tr>\n",
              "      <th>9</th>\n",
              "      <td>Downtown Toronto (Church and Wellesley)</td>\n",
              "      <td>East Toronto (The Danforth West / Riverdale)</td>\n",
              "      <td>2022-04-02 19:21:00</td>\n",
              "      <td>43.6656</td>\n",
              "      <td>-79.3830</td>\n",
              "      <td>2</td>\n",
              "    </tr>\n",
              "    <tr>\n",
              "      <th>10</th>\n",
              "      <td>Downtown Toronto (Richmond / Adelaide / King)</td>\n",
              "      <td>East York (Parkview Hill / Woodbine Gardens)</td>\n",
              "      <td>2022-04-02 19:15:00</td>\n",
              "      <td>43.6496</td>\n",
              "      <td>-79.3833</td>\n",
              "      <td>3</td>\n",
              "    </tr>\n",
              "    <tr>\n",
              "      <th>11</th>\n",
              "      <td>Downtown Toronto (Rosedale)</td>\n",
              "      <td>Downtown Toronto (Central Bay Street)</td>\n",
              "      <td>2022-04-02 17:00:00</td>\n",
              "      <td>43.6827</td>\n",
              "      <td>-79.3730</td>\n",
              "      <td>4</td>\n",
              "    </tr>\n",
              "    <tr>\n",
              "      <th>12</th>\n",
              "      <td>Downtown Toronto (University of Toronto / Harb...</td>\n",
              "      <td>North York (Humber Summit)</td>\n",
              "      <td>2022-04-02 18:49:00</td>\n",
              "      <td>43.6629</td>\n",
              "      <td>-79.3987</td>\n",
              "      <td>1</td>\n",
              "    </tr>\n",
              "    <tr>\n",
              "      <th>13</th>\n",
              "      <td>Downtown Toronto (St. James Park)</td>\n",
              "      <td>Central Toronto (The Annex / North Midtown / Y...</td>\n",
              "      <td>2022-04-02 17:56:00</td>\n",
              "      <td>43.6513</td>\n",
              "      <td>-79.3756</td>\n",
              "      <td>3</td>\n",
              "    </tr>\n",
              "    <tr>\n",
              "      <th>14</th>\n",
              "      <td>Downtown Toronto (St. James Park)</td>\n",
              "      <td>East Toronto (India Bazaar / The Beaches West)</td>\n",
              "      <td>2022-04-02 19:24:00</td>\n",
              "      <td>43.6513</td>\n",
              "      <td>-79.3756</td>\n",
              "      <td>3</td>\n",
              "    </tr>\n",
              "  </tbody>\n",
              "</table>\n",
              "</div>"
            ],
            "text/plain": [
              "                                                 name  \\\n",
              "0               Downtown Toronto (Central Bay Street)   \n",
              "1                         Downtown Toronto (Christie)   \n",
              "2                          Downtown Toronto (Ryerson)   \n",
              "3                   Downtown Toronto (St. James Park)   \n",
              "4   Downtown Toronto (Kensington Market / Chinatow...   \n",
              "5                         Downtown Toronto (Rosedale)   \n",
              "6    Downtown Toronto (Regent Park / Port of Toronto)   \n",
              "7     Downtown Toronto (St. James Town / Cabbagetown)   \n",
              "8                 Downtown Toronto (Underground city)   \n",
              "9             Downtown Toronto (Church and Wellesley)   \n",
              "10      Downtown Toronto (Richmond / Adelaide / King)   \n",
              "11                        Downtown Toronto (Rosedale)   \n",
              "12  Downtown Toronto (University of Toronto / Harb...   \n",
              "13                  Downtown Toronto (St. James Park)   \n",
              "14                  Downtown Toronto (St. James Park)   \n",
              "\n",
              "                                             customer estimated availability  \\\n",
              "0   North York (Armour Heights / Wilson Heights / ...    2022-04-02 17:17:00   \n",
              "1   West Toronto (Brockton / Parkdale Village / Ex...    2022-04-02 17:49:00   \n",
              "2                           York (Fairbank / Oakwood)    2022-04-02 18:17:00   \n",
              "3                          East Toronto (The Beaches)    2022-04-02 17:53:00   \n",
              "4               Downtown Toronto (Central Bay Street)    2022-04-02 17:24:00   \n",
              "5   Downtown Toronto (CN Tower / King and Spadina ...    2022-04-02 19:35:00   \n",
              "6   Downtown Toronto (Toronto Dominion Centre / De...    2022-04-02 18:21:00   \n",
              "7               York (Runnymede / The Junction North)    2022-04-02 17:10:00   \n",
              "8   Central Toronto (Summerhill West / Rathnelly /...    2022-04-02 17:21:00   \n",
              "9        East Toronto (The Danforth West / Riverdale)    2022-04-02 19:21:00   \n",
              "10       East York (Parkview Hill / Woodbine Gardens)    2022-04-02 19:15:00   \n",
              "11              Downtown Toronto (Central Bay Street)    2022-04-02 17:00:00   \n",
              "12                         North York (Humber Summit)    2022-04-02 18:49:00   \n",
              "13  Central Toronto (The Annex / North Midtown / Y...    2022-04-02 17:56:00   \n",
              "14     East Toronto (India Bazaar / The Beaches West)    2022-04-02 19:24:00   \n",
              "\n",
              "    latitude  longitude  label  \n",
              "0    43.6564   -79.3860      1  \n",
              "1    43.6683   -79.4205      0  \n",
              "2    43.6572   -79.3783      3  \n",
              "3    43.6513   -79.3756      3  \n",
              "4    43.6541   -79.3978      1  \n",
              "5    43.6827   -79.3730      4  \n",
              "6    43.6555   -79.3626      5  \n",
              "7    43.6684   -79.3689      2  \n",
              "8    43.6492   -79.3823      3  \n",
              "9    43.6656   -79.3830      2  \n",
              "10   43.6496   -79.3833      3  \n",
              "11   43.6827   -79.3730      4  \n",
              "12   43.6629   -79.3987      1  \n",
              "13   43.6513   -79.3756      3  \n",
              "14   43.6513   -79.3756      3  "
            ]
          },
          "execution_count": 507,
          "metadata": {},
          "output_type": "execute_result"
        }
      ],
      "source": [
        "#add labels to original data set\n",
        "df_3=df_1.copy()\n",
        "df_3['label']=labels\n",
        "df_3"
      ]
    },
    {
      "cell_type": "code",
      "execution_count": null,
      "id": "5b3d5188",
      "metadata": {
        "id": "5b3d5188",
        "outputId": "d6d0b838-ed34-4be5-bf4b-6cb1b80c783d"
      },
      "outputs": [
        {
          "data": {
            "text/html": [
              "<div>\n",
              "<style scoped>\n",
              "    .dataframe tbody tr th:only-of-type {\n",
              "        vertical-align: middle;\n",
              "    }\n",
              "\n",
              "    .dataframe tbody tr th {\n",
              "        vertical-align: top;\n",
              "    }\n",
              "\n",
              "    .dataframe thead th {\n",
              "        text-align: right;\n",
              "    }\n",
              "</style>\n",
              "<table border=\"1\" class=\"dataframe\">\n",
              "  <thead>\n",
              "    <tr style=\"text-align: right;\">\n",
              "      <th></th>\n",
              "      <th>label</th>\n",
              "      <th>latitude</th>\n",
              "      <th>longitude</th>\n",
              "    </tr>\n",
              "  </thead>\n",
              "  <tbody>\n",
              "    <tr>\n",
              "      <th>0</th>\n",
              "      <td>0</td>\n",
              "      <td>43.66830</td>\n",
              "      <td>-79.420500</td>\n",
              "    </tr>\n",
              "    <tr>\n",
              "      <th>1</th>\n",
              "      <td>1</td>\n",
              "      <td>43.65780</td>\n",
              "      <td>-79.394167</td>\n",
              "    </tr>\n",
              "    <tr>\n",
              "      <th>2</th>\n",
              "      <td>2</td>\n",
              "      <td>43.66700</td>\n",
              "      <td>-79.375950</td>\n",
              "    </tr>\n",
              "    <tr>\n",
              "      <th>3</th>\n",
              "      <td>3</td>\n",
              "      <td>43.65165</td>\n",
              "      <td>-79.378450</td>\n",
              "    </tr>\n",
              "    <tr>\n",
              "      <th>4</th>\n",
              "      <td>4</td>\n",
              "      <td>43.68270</td>\n",
              "      <td>-79.373000</td>\n",
              "    </tr>\n",
              "    <tr>\n",
              "      <th>5</th>\n",
              "      <td>5</td>\n",
              "      <td>43.65550</td>\n",
              "      <td>-79.362600</td>\n",
              "    </tr>\n",
              "  </tbody>\n",
              "</table>\n",
              "</div>"
            ],
            "text/plain": [
              "   label  latitude  longitude\n",
              "0      0  43.66830 -79.420500\n",
              "1      1  43.65780 -79.394167\n",
              "2      2  43.66700 -79.375950\n",
              "3      3  43.65165 -79.378450\n",
              "4      4  43.68270 -79.373000\n",
              "5      5  43.65550 -79.362600"
            ]
          },
          "execution_count": 508,
          "metadata": {},
          "output_type": "execute_result"
        }
      ],
      "source": [
        "#find the center of each cluster\n",
        "df_4=df_3.groupby(['label']).agg({'latitude': 'mean','longitude':'mean'})\n",
        "df_4.reset_index()"
      ]
    },
    {
      "cell_type": "code",
      "execution_count": null,
      "id": "048f7000",
      "metadata": {
        "scrolled": false,
        "id": "048f7000",
        "outputId": "fa769f54-f5ad-4a05-c34d-550268283b33"
      },
      "outputs": [
        {
          "data": {
            "text/html": [
              "<div>\n",
              "<style scoped>\n",
              "    .dataframe tbody tr th:only-of-type {\n",
              "        vertical-align: middle;\n",
              "    }\n",
              "\n",
              "    .dataframe tbody tr th {\n",
              "        vertical-align: top;\n",
              "    }\n",
              "\n",
              "    .dataframe thead th {\n",
              "        text-align: right;\n",
              "    }\n",
              "</style>\n",
              "<table border=\"1\" class=\"dataframe\">\n",
              "  <thead>\n",
              "    <tr style=\"text-align: right;\">\n",
              "      <th></th>\n",
              "      <th>name</th>\n",
              "      <th>velocity</th>\n",
              "      <th>latitude</th>\n",
              "      <th>longitude</th>\n",
              "    </tr>\n",
              "  </thead>\n",
              "  <tbody>\n",
              "    <tr>\n",
              "      <th>0</th>\n",
              "      <td>Downtown Toronto (Richmond / Adelaide / King)</td>\n",
              "      <td>20</td>\n",
              "      <td>43.6496</td>\n",
              "      <td>-79.3833</td>\n",
              "    </tr>\n",
              "    <tr>\n",
              "      <th>1</th>\n",
              "      <td>Downtown Toronto (St. James Park)</td>\n",
              "      <td>20</td>\n",
              "      <td>43.6513</td>\n",
              "      <td>-79.3756</td>\n",
              "    </tr>\n",
              "    <tr>\n",
              "      <th>2</th>\n",
              "      <td>Downtown Toronto (Church and Wellesley)</td>\n",
              "      <td>20</td>\n",
              "      <td>43.6656</td>\n",
              "      <td>-79.3830</td>\n",
              "    </tr>\n",
              "    <tr>\n",
              "      <th>3</th>\n",
              "      <td>Downtown Toronto (Christie)</td>\n",
              "      <td>20</td>\n",
              "      <td>43.6683</td>\n",
              "      <td>-79.4205</td>\n",
              "    </tr>\n",
              "    <tr>\n",
              "      <th>4</th>\n",
              "      <td>Downtown Toronto (Church and Wellesley)</td>\n",
              "      <td>20</td>\n",
              "      <td>43.6656</td>\n",
              "      <td>-79.3830</td>\n",
              "    </tr>\n",
              "    <tr>\n",
              "      <th>5</th>\n",
              "      <td>Downtown Toronto Stn A PO Boxes 25 The Esplana...</td>\n",
              "      <td>20</td>\n",
              "      <td>43.6437</td>\n",
              "      <td>-79.3787</td>\n",
              "    </tr>\n",
              "    <tr>\n",
              "      <th>6</th>\n",
              "      <td>Downtown Toronto (CN Tower / King and Spadina ...</td>\n",
              "      <td>20</td>\n",
              "      <td>43.6404</td>\n",
              "      <td>-79.3995</td>\n",
              "    </tr>\n",
              "    <tr>\n",
              "      <th>7</th>\n",
              "      <td>Downtown Toronto (Rosedale)</td>\n",
              "      <td>20</td>\n",
              "      <td>43.6827</td>\n",
              "      <td>-79.3730</td>\n",
              "    </tr>\n",
              "    <tr>\n",
              "      <th>8</th>\n",
              "      <td>Downtown Toronto (University of Toronto / Harb...</td>\n",
              "      <td>20</td>\n",
              "      <td>43.6629</td>\n",
              "      <td>-79.3987</td>\n",
              "    </tr>\n",
              "    <tr>\n",
              "      <th>9</th>\n",
              "      <td>Downtown Toronto (Ryerson)</td>\n",
              "      <td>20</td>\n",
              "      <td>43.6572</td>\n",
              "      <td>-79.3783</td>\n",
              "    </tr>\n",
              "  </tbody>\n",
              "</table>\n",
              "</div>"
            ],
            "text/plain": [
              "                                                name  velocity  latitude  \\\n",
              "0      Downtown Toronto (Richmond / Adelaide / King)        20   43.6496   \n",
              "1                  Downtown Toronto (St. James Park)        20   43.6513   \n",
              "2            Downtown Toronto (Church and Wellesley)        20   43.6656   \n",
              "3                        Downtown Toronto (Christie)        20   43.6683   \n",
              "4            Downtown Toronto (Church and Wellesley)        20   43.6656   \n",
              "5  Downtown Toronto Stn A PO Boxes 25 The Esplana...        20   43.6437   \n",
              "6  Downtown Toronto (CN Tower / King and Spadina ...        20   43.6404   \n",
              "7                        Downtown Toronto (Rosedale)        20   43.6827   \n",
              "8  Downtown Toronto (University of Toronto / Harb...        20   43.6629   \n",
              "9                         Downtown Toronto (Ryerson)        20   43.6572   \n",
              "\n",
              "   longitude  \n",
              "0   -79.3833  \n",
              "1   -79.3756  \n",
              "2   -79.3830  \n",
              "3   -79.4205  \n",
              "4   -79.3830  \n",
              "5   -79.3787  \n",
              "6   -79.3995  \n",
              "7   -79.3730  \n",
              "8   -79.3987  \n",
              "9   -79.3783  "
            ]
          },
          "execution_count": 509,
          "metadata": {},
          "output_type": "execute_result"
        }
      ],
      "source": [
        "#find drivers' long lat\n",
        "dfDrivers_2=dfDrivers.copy()\n",
        "dfDrivers_2=dfDrivers_2.rename(columns={'start region':'name'})\n",
        "dfDrivers_2=pd.merge(dfDrivers_2,dfRegions[['name','latitude','longitude']],on='name',how='left')\n",
        "dfDrivers_2"
      ]
    },
    {
      "cell_type": "code",
      "execution_count": null,
      "id": "e5520005",
      "metadata": {
        "id": "e5520005",
        "outputId": "03f52bbc-1dbe-4443-85b3-c4bd12835f5d"
      },
      "outputs": [
        {
          "name": "stdout",
          "output_type": "stream",
          "text": [
            "Requirement already satisfied: geopy in z:\\programdata\\anaconda3\\lib\\site-packages (2.2.0)\n",
            "Requirement already satisfied: geographiclib<2,>=1.49 in z:\\programdata\\anaconda3\\lib\\site-packages (from geopy) (1.52)\n"
          ]
        }
      ],
      "source": [
        "!pip install geopy"
      ]
    },
    {
      "cell_type": "code",
      "execution_count": null,
      "id": "331fbd38",
      "metadata": {
        "id": "331fbd38"
      },
      "outputs": [],
      "source": [
        "#calculate the distance\n",
        "import geopy.distance\n",
        "\n",
        "dfDrivers_2['c1']=0\n",
        "dfDrivers_2['c2']=0\n",
        "dfDrivers_2['c3']=0\n",
        "dfDrivers_2['c4']=0\n",
        "dfDrivers_2['c5']=0\n",
        "dfDrivers_2['c6']=0"
      ]
    },
    {
      "cell_type": "code",
      "execution_count": null,
      "id": "f0705753",
      "metadata": {
        "scrolled": true,
        "id": "f0705753"
      },
      "outputs": [],
      "source": [
        "for i in range(6):\n",
        "    for j in range(len(dfDrivers_2['name'])):\n",
        "        coords_1 = (df_4.loc[i,'latitude'], df_4.loc[i,'longitude'])\n",
        "        coords_2 = (dfDrivers_2.loc[j,'latitude'], dfDrivers_2.loc[j,'longitude'])\n",
        "        dfDrivers_2.iloc[[j],[i+4]]=geopy.distance.geodesic(coords_1, coords_2).km\n",
        "        #print(k)\n",
        "\n",
        "#dfDrivers_2.iloc[[j],[i+4]]=\n",
        "#print geopy.distance.geodesic(coords_1, coords_2).km"
      ]
    },
    {
      "cell_type": "code",
      "execution_count": null,
      "id": "063fe96d",
      "metadata": {
        "scrolled": false,
        "id": "063fe96d",
        "outputId": "b0659f0d-431e-4697-a47f-a14e6ac82b42"
      },
      "outputs": [
        {
          "data": {
            "text/html": [
              "<div>\n",
              "<style scoped>\n",
              "    .dataframe tbody tr th:only-of-type {\n",
              "        vertical-align: middle;\n",
              "    }\n",
              "\n",
              "    .dataframe tbody tr th {\n",
              "        vertical-align: top;\n",
              "    }\n",
              "\n",
              "    .dataframe thead th {\n",
              "        text-align: right;\n",
              "    }\n",
              "</style>\n",
              "<table border=\"1\" class=\"dataframe\">\n",
              "  <thead>\n",
              "    <tr style=\"text-align: right;\">\n",
              "      <th></th>\n",
              "      <th>name</th>\n",
              "      <th>velocity</th>\n",
              "      <th>latitude</th>\n",
              "      <th>longitude</th>\n",
              "      <th>c1</th>\n",
              "      <th>c2</th>\n",
              "      <th>c3</th>\n",
              "      <th>c4</th>\n",
              "      <th>c5</th>\n",
              "      <th>c6</th>\n",
              "    </tr>\n",
              "  </thead>\n",
              "  <tbody>\n",
              "    <tr>\n",
              "      <th>0</th>\n",
              "      <td>Downtown Toronto (Richmond / Adelaide / King)</td>\n",
              "      <td>20</td>\n",
              "      <td>43.6496</td>\n",
              "      <td>-79.3833</td>\n",
              "      <td>3.649792</td>\n",
              "      <td>1.264324</td>\n",
              "      <td>2.022108</td>\n",
              "      <td>0.452740</td>\n",
              "      <td>3.770261</td>\n",
              "      <td>1.793980</td>\n",
              "    </tr>\n",
              "    <tr>\n",
              "      <th>1</th>\n",
              "      <td>Downtown Toronto (St. James Park)</td>\n",
              "      <td>20</td>\n",
              "      <td>43.6513</td>\n",
              "      <td>-79.3756</td>\n",
              "      <td>4.084700</td>\n",
              "      <td>1.662793</td>\n",
              "      <td>1.744586</td>\n",
              "      <td>0.233187</td>\n",
              "      <td>3.495017</td>\n",
              "      <td>1.147864</td>\n",
              "    </tr>\n",
              "    <tr>\n",
              "      <th>2</th>\n",
              "      <td>Downtown Toronto (Church and Wellesley)</td>\n",
              "      <td>20</td>\n",
              "      <td>43.6656</td>\n",
              "      <td>-79.3830</td>\n",
              "      <td>3.039346</td>\n",
              "      <td>1.249926</td>\n",
              "      <td>0.589505</td>\n",
              "      <td>1.592786</td>\n",
              "      <td>2.063978</td>\n",
              "      <td>1.991720</td>\n",
              "    </tr>\n",
              "    <tr>\n",
              "      <th>3</th>\n",
              "      <td>Downtown Toronto (Christie)</td>\n",
              "      <td>20</td>\n",
              "      <td>43.6683</td>\n",
              "      <td>-79.4205</td>\n",
              "      <td>0.000000</td>\n",
              "      <td>2.423305</td>\n",
              "      <td>3.595973</td>\n",
              "      <td>3.863542</td>\n",
              "      <td>4.151201</td>\n",
              "      <td>4.881962</td>\n",
              "    </tr>\n",
              "    <tr>\n",
              "      <th>4</th>\n",
              "      <td>Downtown Toronto (Church and Wellesley)</td>\n",
              "      <td>20</td>\n",
              "      <td>43.6656</td>\n",
              "      <td>-79.3830</td>\n",
              "      <td>3.039346</td>\n",
              "      <td>1.249926</td>\n",
              "      <td>0.589505</td>\n",
              "      <td>1.592786</td>\n",
              "      <td>2.063978</td>\n",
              "      <td>1.991720</td>\n",
              "    </tr>\n",
              "    <tr>\n",
              "      <th>5</th>\n",
              "      <td>Downtown Toronto Stn A PO Boxes 25 The Esplana...</td>\n",
              "      <td>20</td>\n",
              "      <td>43.6437</td>\n",
              "      <td>-79.3787</td>\n",
              "      <td>4.340537</td>\n",
              "      <td>2.002783</td>\n",
              "      <td>2.598246</td>\n",
              "      <td>0.883518</td>\n",
              "      <td>4.357443</td>\n",
              "      <td>1.845525</td>\n",
              "    </tr>\n",
              "    <tr>\n",
              "      <th>6</th>\n",
              "      <td>Downtown Toronto (CN Tower / King and Spadina ...</td>\n",
              "      <td>20</td>\n",
              "      <td>43.6404</td>\n",
              "      <td>-79.3995</td>\n",
              "      <td>3.532552</td>\n",
              "      <td>1.980539</td>\n",
              "      <td>3.513359</td>\n",
              "      <td>2.108724</td>\n",
              "      <td>5.163019</td>\n",
              "      <td>3.417234</td>\n",
              "    </tr>\n",
              "    <tr>\n",
              "      <th>7</th>\n",
              "      <td>Downtown Toronto (Rosedale)</td>\n",
              "      <td>20</td>\n",
              "      <td>43.6827</td>\n",
              "      <td>-79.3730</td>\n",
              "      <td>4.151201</td>\n",
              "      <td>3.250817</td>\n",
              "      <td>1.760510</td>\n",
              "      <td>3.477724</td>\n",
              "      <td>0.000000</td>\n",
              "      <td>3.136316</td>\n",
              "    </tr>\n",
              "    <tr>\n",
              "      <th>8</th>\n",
              "      <td>Downtown Toronto (University of Toronto / Harb...</td>\n",
              "      <td>20</td>\n",
              "      <td>43.6629</td>\n",
              "      <td>-79.3987</td>\n",
              "      <td>1.857830</td>\n",
              "      <td>0.674384</td>\n",
              "      <td>1.890627</td>\n",
              "      <td>2.056855</td>\n",
              "      <td>3.022447</td>\n",
              "      <td>3.025810</td>\n",
              "    </tr>\n",
              "    <tr>\n",
              "      <th>9</th>\n",
              "      <td>Downtown Toronto (Ryerson)</td>\n",
              "      <td>20</td>\n",
              "      <td>43.6572</td>\n",
              "      <td>-79.3783</td>\n",
              "      <td>3.620347</td>\n",
              "      <td>1.281638</td>\n",
              "      <td>1.105211</td>\n",
              "      <td>0.616754</td>\n",
              "      <td>2.865260</td>\n",
              "      <td>1.280490</td>\n",
              "    </tr>\n",
              "  </tbody>\n",
              "</table>\n",
              "</div>"
            ],
            "text/plain": [
              "                                                name  velocity  latitude  \\\n",
              "0      Downtown Toronto (Richmond / Adelaide / King)        20   43.6496   \n",
              "1                  Downtown Toronto (St. James Park)        20   43.6513   \n",
              "2            Downtown Toronto (Church and Wellesley)        20   43.6656   \n",
              "3                        Downtown Toronto (Christie)        20   43.6683   \n",
              "4            Downtown Toronto (Church and Wellesley)        20   43.6656   \n",
              "5  Downtown Toronto Stn A PO Boxes 25 The Esplana...        20   43.6437   \n",
              "6  Downtown Toronto (CN Tower / King and Spadina ...        20   43.6404   \n",
              "7                        Downtown Toronto (Rosedale)        20   43.6827   \n",
              "8  Downtown Toronto (University of Toronto / Harb...        20   43.6629   \n",
              "9                         Downtown Toronto (Ryerson)        20   43.6572   \n",
              "\n",
              "   longitude        c1        c2        c3        c4        c5        c6  \n",
              "0   -79.3833  3.649792  1.264324  2.022108  0.452740  3.770261  1.793980  \n",
              "1   -79.3756  4.084700  1.662793  1.744586  0.233187  3.495017  1.147864  \n",
              "2   -79.3830  3.039346  1.249926  0.589505  1.592786  2.063978  1.991720  \n",
              "3   -79.4205  0.000000  2.423305  3.595973  3.863542  4.151201  4.881962  \n",
              "4   -79.3830  3.039346  1.249926  0.589505  1.592786  2.063978  1.991720  \n",
              "5   -79.3787  4.340537  2.002783  2.598246  0.883518  4.357443  1.845525  \n",
              "6   -79.3995  3.532552  1.980539  3.513359  2.108724  5.163019  3.417234  \n",
              "7   -79.3730  4.151201  3.250817  1.760510  3.477724  0.000000  3.136316  \n",
              "8   -79.3987  1.857830  0.674384  1.890627  2.056855  3.022447  3.025810  \n",
              "9   -79.3783  3.620347  1.281638  1.105211  0.616754  2.865260  1.280490  "
            ]
          },
          "execution_count": 513,
          "metadata": {},
          "output_type": "execute_result"
        }
      ],
      "source": [
        "dfDrivers_2"
      ]
    },
    {
      "cell_type": "markdown",
      "id": "c83f7aac",
      "metadata": {
        "id": "c83f7aac"
      },
      "source": [
        "#### For each cluster get the top two closet drivers if there are more than three restaurants in the cluster, other wise, get one "
      ]
    },
    {
      "cell_type": "code",
      "execution_count": null,
      "id": "85dbf015",
      "metadata": {
        "id": "85dbf015",
        "outputId": "77814ed3-0e57-49a5-e099-8af9c26d29d5"
      },
      "outputs": [
        {
          "name": "stdout",
          "output_type": "stream",
          "text": [
            "3    0.0\n",
            "Name: c1, dtype: float64\n"
          ]
        }
      ],
      "source": [
        "if (labels == 0).sum() <= 3:\n",
        "    print(dfDrivers_2['c1'].nsmallest(1))\n",
        "else:\n",
        "    print(dfDrivers_2['c1'].nsmallest(2))"
      ]
    },
    {
      "cell_type": "code",
      "execution_count": null,
      "id": "2349585c",
      "metadata": {
        "scrolled": true,
        "id": "2349585c",
        "outputId": "13858477-2936-4826-d7aa-32b98e1b436a"
      },
      "outputs": [
        {
          "name": "stdout",
          "output_type": "stream",
          "text": [
            "8    0.674384\n",
            "Name: c2, dtype: float64\n"
          ]
        }
      ],
      "source": [
        "if (labels == 1).sum() <= 3:\n",
        "    print(dfDrivers_2['c2'].nsmallest(1))\n",
        "else:\n",
        "    print(dfDrivers_2['c2'].nsmallest(3))"
      ]
    },
    {
      "cell_type": "code",
      "execution_count": null,
      "id": "63e0e83a",
      "metadata": {
        "id": "63e0e83a",
        "outputId": "c0e15c65-8e14-4712-f402-b83ab0e15230"
      },
      "outputs": [
        {
          "name": "stdout",
          "output_type": "stream",
          "text": [
            "2    0.589505\n",
            "Name: c3, dtype: float64\n"
          ]
        }
      ],
      "source": [
        "if (labels == 2).sum() <= 3:\n",
        "    print(dfDrivers_2['c3'].nsmallest(1))\n",
        "else:\n",
        "    print(dfDrivers_2['c3'].nsmallest(2))"
      ]
    },
    {
      "cell_type": "code",
      "execution_count": null,
      "id": "925e5f05",
      "metadata": {
        "id": "925e5f05",
        "outputId": "d3e028b5-2f1a-4bc5-aa91-cdbf4ed82df8"
      },
      "outputs": [
        {
          "name": "stdout",
          "output_type": "stream",
          "text": [
            "1    0.233187\n",
            "0    0.452740\n",
            "Name: c4, dtype: float64\n"
          ]
        }
      ],
      "source": [
        "if (labels == 3).sum() <= 3:\n",
        "    print(dfDrivers_2['c4'].nsmallest(1))\n",
        "else:\n",
        "    print(dfDrivers_2['c4'].nsmallest(2))"
      ]
    },
    {
      "cell_type": "code",
      "execution_count": null,
      "id": "e8301e87",
      "metadata": {
        "id": "e8301e87",
        "outputId": "6e264161-2b86-42ed-f369-24e4d99d3604"
      },
      "outputs": [
        {
          "name": "stdout",
          "output_type": "stream",
          "text": [
            "7    0.0\n",
            "Name: c5, dtype: float64\n"
          ]
        }
      ],
      "source": [
        "if (labels == 4).sum() <= 3:\n",
        "    print(dfDrivers_2['c5'].nsmallest(1))\n",
        "else:\n",
        "    print(dfDrivers_2['c5'].nsmallest(2))"
      ]
    },
    {
      "cell_type": "code",
      "execution_count": null,
      "id": "3bb90acb",
      "metadata": {
        "id": "3bb90acb",
        "outputId": "930acf8b-cd17-4a17-979c-c763db878184"
      },
      "outputs": [
        {
          "name": "stdout",
          "output_type": "stream",
          "text": [
            "1    1.147864\n",
            "9    1.280490\n",
            "Name: c6, dtype: float64\n"
          ]
        }
      ],
      "source": [
        "if (labels == 5).sum() <= 3:\n",
        "    print(dfDrivers_2['c6'].nsmallest(2))\n",
        "else:\n",
        "    print(dfDrivers_2['c6'].nsmallest(2))"
      ]
    },
    {
      "cell_type": "markdown",
      "id": "b414e37c",
      "metadata": {
        "id": "b414e37c"
      },
      "source": [
        "#### Going to use driver 3 for cluster 0; driver 8 for cluster 1; driver 2 for cluster 2; drivers 1,0 for cluster 3; driver 7  for cluster 4；driver 9 for cluster 5\n",
        "\n",
        "This is because cluster 3 has the biggest number of restaurants. Other clusters only have 1-3 restaurants\n",
        "\n",
        "below are driver table created "
      ]
    },
    {
      "cell_type": "code",
      "execution_count": null,
      "id": "ffe8d5a6",
      "metadata": {
        "id": "ffe8d5a6",
        "outputId": "aff21912-13e2-45d2-da7c-55129682f75d"
      },
      "outputs": [
        {
          "data": {
            "text/html": [
              "<div>\n",
              "<style scoped>\n",
              "    .dataframe tbody tr th:only-of-type {\n",
              "        vertical-align: middle;\n",
              "    }\n",
              "\n",
              "    .dataframe tbody tr th {\n",
              "        vertical-align: top;\n",
              "    }\n",
              "\n",
              "    .dataframe thead th {\n",
              "        text-align: right;\n",
              "    }\n",
              "</style>\n",
              "<table border=\"1\" class=\"dataframe\">\n",
              "  <thead>\n",
              "    <tr style=\"text-align: right;\">\n",
              "      <th></th>\n",
              "      <th>name</th>\n",
              "      <th>velocity</th>\n",
              "      <th>latitude</th>\n",
              "      <th>longitude</th>\n",
              "      <th>c1</th>\n",
              "      <th>c2</th>\n",
              "      <th>c3</th>\n",
              "      <th>c4</th>\n",
              "      <th>c5</th>\n",
              "      <th>c6</th>\n",
              "    </tr>\n",
              "  </thead>\n",
              "  <tbody>\n",
              "    <tr>\n",
              "      <th>3</th>\n",
              "      <td>Downtown Toronto (Christie)</td>\n",
              "      <td>20</td>\n",
              "      <td>43.6683</td>\n",
              "      <td>-79.4205</td>\n",
              "      <td>0.0</td>\n",
              "      <td>2.423305</td>\n",
              "      <td>3.595973</td>\n",
              "      <td>3.863542</td>\n",
              "      <td>4.151201</td>\n",
              "      <td>4.881962</td>\n",
              "    </tr>\n",
              "  </tbody>\n",
              "</table>\n",
              "</div>"
            ],
            "text/plain": [
              "                          name  velocity  latitude  longitude   c1        c2  \\\n",
              "3  Downtown Toronto (Christie)        20   43.6683   -79.4205  0.0  2.423305   \n",
              "\n",
              "         c3        c4        c5        c6  \n",
              "3  3.595973  3.863542  4.151201  4.881962  "
            ]
          },
          "execution_count": 520,
          "metadata": {},
          "output_type": "execute_result"
        }
      ],
      "source": [
        "dfDrivers_cluster0 = dfDrivers_2.loc[[3]]\n",
        "dfDrivers_cluster0"
      ]
    },
    {
      "cell_type": "code",
      "execution_count": null,
      "id": "a06dabdf",
      "metadata": {
        "id": "a06dabdf",
        "outputId": "777261c9-14af-4ab9-8e8d-08156419abf6"
      },
      "outputs": [
        {
          "data": {
            "text/html": [
              "<div>\n",
              "<style scoped>\n",
              "    .dataframe tbody tr th:only-of-type {\n",
              "        vertical-align: middle;\n",
              "    }\n",
              "\n",
              "    .dataframe tbody tr th {\n",
              "        vertical-align: top;\n",
              "    }\n",
              "\n",
              "    .dataframe thead th {\n",
              "        text-align: right;\n",
              "    }\n",
              "</style>\n",
              "<table border=\"1\" class=\"dataframe\">\n",
              "  <thead>\n",
              "    <tr style=\"text-align: right;\">\n",
              "      <th></th>\n",
              "      <th>name</th>\n",
              "      <th>velocity</th>\n",
              "      <th>latitude</th>\n",
              "      <th>longitude</th>\n",
              "      <th>c1</th>\n",
              "      <th>c2</th>\n",
              "      <th>c3</th>\n",
              "      <th>c4</th>\n",
              "      <th>c5</th>\n",
              "      <th>c6</th>\n",
              "    </tr>\n",
              "  </thead>\n",
              "  <tbody>\n",
              "    <tr>\n",
              "      <th>8</th>\n",
              "      <td>Downtown Toronto (University of Toronto / Harb...</td>\n",
              "      <td>20</td>\n",
              "      <td>43.6629</td>\n",
              "      <td>-79.3987</td>\n",
              "      <td>1.85783</td>\n",
              "      <td>0.674384</td>\n",
              "      <td>1.890627</td>\n",
              "      <td>2.056855</td>\n",
              "      <td>3.022447</td>\n",
              "      <td>3.02581</td>\n",
              "    </tr>\n",
              "  </tbody>\n",
              "</table>\n",
              "</div>"
            ],
            "text/plain": [
              "                                                name  velocity  latitude  \\\n",
              "8  Downtown Toronto (University of Toronto / Harb...        20   43.6629   \n",
              "\n",
              "   longitude       c1        c2        c3        c4        c5       c6  \n",
              "8   -79.3987  1.85783  0.674384  1.890627  2.056855  3.022447  3.02581  "
            ]
          },
          "execution_count": 521,
          "metadata": {},
          "output_type": "execute_result"
        }
      ],
      "source": [
        "dfDrivers_cluster1 = dfDrivers_2.loc[[8]]\n",
        "dfDrivers_cluster1"
      ]
    },
    {
      "cell_type": "code",
      "execution_count": null,
      "id": "74af7b82",
      "metadata": {
        "scrolled": true,
        "id": "74af7b82",
        "outputId": "d2ac0d0c-95aa-47cb-8411-ef63804dce11"
      },
      "outputs": [
        {
          "data": {
            "text/html": [
              "<div>\n",
              "<style scoped>\n",
              "    .dataframe tbody tr th:only-of-type {\n",
              "        vertical-align: middle;\n",
              "    }\n",
              "\n",
              "    .dataframe tbody tr th {\n",
              "        vertical-align: top;\n",
              "    }\n",
              "\n",
              "    .dataframe thead th {\n",
              "        text-align: right;\n",
              "    }\n",
              "</style>\n",
              "<table border=\"1\" class=\"dataframe\">\n",
              "  <thead>\n",
              "    <tr style=\"text-align: right;\">\n",
              "      <th></th>\n",
              "      <th>name</th>\n",
              "      <th>velocity</th>\n",
              "      <th>latitude</th>\n",
              "      <th>longitude</th>\n",
              "      <th>c1</th>\n",
              "      <th>c2</th>\n",
              "      <th>c3</th>\n",
              "      <th>c4</th>\n",
              "      <th>c5</th>\n",
              "      <th>c6</th>\n",
              "    </tr>\n",
              "  </thead>\n",
              "  <tbody>\n",
              "    <tr>\n",
              "      <th>2</th>\n",
              "      <td>Downtown Toronto (Church and Wellesley)</td>\n",
              "      <td>20</td>\n",
              "      <td>43.6656</td>\n",
              "      <td>-79.383</td>\n",
              "      <td>3.039346</td>\n",
              "      <td>1.249926</td>\n",
              "      <td>0.589505</td>\n",
              "      <td>1.592786</td>\n",
              "      <td>2.063978</td>\n",
              "      <td>1.99172</td>\n",
              "    </tr>\n",
              "  </tbody>\n",
              "</table>\n",
              "</div>"
            ],
            "text/plain": [
              "                                      name  velocity  latitude  longitude  \\\n",
              "2  Downtown Toronto (Church and Wellesley)        20   43.6656    -79.383   \n",
              "\n",
              "         c1        c2        c3        c4        c5       c6  \n",
              "2  3.039346  1.249926  0.589505  1.592786  2.063978  1.99172  "
            ]
          },
          "execution_count": 522,
          "metadata": {},
          "output_type": "execute_result"
        }
      ],
      "source": [
        "dfDrivers_cluster2 = dfDrivers_2.loc[[2]]\n",
        "dfDrivers_cluster2"
      ]
    },
    {
      "cell_type": "code",
      "execution_count": null,
      "id": "393502f5",
      "metadata": {
        "id": "393502f5",
        "outputId": "a42800f2-ba7a-4f99-f01f-7d82920d3962"
      },
      "outputs": [
        {
          "data": {
            "text/html": [
              "<div>\n",
              "<style scoped>\n",
              "    .dataframe tbody tr th:only-of-type {\n",
              "        vertical-align: middle;\n",
              "    }\n",
              "\n",
              "    .dataframe tbody tr th {\n",
              "        vertical-align: top;\n",
              "    }\n",
              "\n",
              "    .dataframe thead th {\n",
              "        text-align: right;\n",
              "    }\n",
              "</style>\n",
              "<table border=\"1\" class=\"dataframe\">\n",
              "  <thead>\n",
              "    <tr style=\"text-align: right;\">\n",
              "      <th></th>\n",
              "      <th>name</th>\n",
              "      <th>velocity</th>\n",
              "      <th>latitude</th>\n",
              "      <th>longitude</th>\n",
              "      <th>c1</th>\n",
              "      <th>c2</th>\n",
              "      <th>c3</th>\n",
              "      <th>c4</th>\n",
              "      <th>c5</th>\n",
              "      <th>c6</th>\n",
              "    </tr>\n",
              "  </thead>\n",
              "  <tbody>\n",
              "    <tr>\n",
              "      <th>1</th>\n",
              "      <td>Downtown Toronto (St. James Park)</td>\n",
              "      <td>20</td>\n",
              "      <td>43.6513</td>\n",
              "      <td>-79.3756</td>\n",
              "      <td>4.084700</td>\n",
              "      <td>1.662793</td>\n",
              "      <td>1.744586</td>\n",
              "      <td>0.233187</td>\n",
              "      <td>3.495017</td>\n",
              "      <td>1.147864</td>\n",
              "    </tr>\n",
              "    <tr>\n",
              "      <th>0</th>\n",
              "      <td>Downtown Toronto (Richmond / Adelaide / King)</td>\n",
              "      <td>20</td>\n",
              "      <td>43.6496</td>\n",
              "      <td>-79.3833</td>\n",
              "      <td>3.649792</td>\n",
              "      <td>1.264324</td>\n",
              "      <td>2.022108</td>\n",
              "      <td>0.452740</td>\n",
              "      <td>3.770261</td>\n",
              "      <td>1.793980</td>\n",
              "    </tr>\n",
              "  </tbody>\n",
              "</table>\n",
              "</div>"
            ],
            "text/plain": [
              "                                            name  velocity  latitude  \\\n",
              "1              Downtown Toronto (St. James Park)        20   43.6513   \n",
              "0  Downtown Toronto (Richmond / Adelaide / King)        20   43.6496   \n",
              "\n",
              "   longitude        c1        c2        c3        c4        c5        c6  \n",
              "1   -79.3756  4.084700  1.662793  1.744586  0.233187  3.495017  1.147864  \n",
              "0   -79.3833  3.649792  1.264324  2.022108  0.452740  3.770261  1.793980  "
            ]
          },
          "execution_count": 523,
          "metadata": {},
          "output_type": "execute_result"
        }
      ],
      "source": [
        "dfDrivers_cluster3 = dfDrivers_2.loc[[1, 0]]\n",
        "dfDrivers_cluster3"
      ]
    },
    {
      "cell_type": "code",
      "execution_count": null,
      "id": "84476c09",
      "metadata": {
        "id": "84476c09",
        "outputId": "606bd4b7-4140-4091-ad2e-702577d25752"
      },
      "outputs": [
        {
          "data": {
            "text/html": [
              "<div>\n",
              "<style scoped>\n",
              "    .dataframe tbody tr th:only-of-type {\n",
              "        vertical-align: middle;\n",
              "    }\n",
              "\n",
              "    .dataframe tbody tr th {\n",
              "        vertical-align: top;\n",
              "    }\n",
              "\n",
              "    .dataframe thead th {\n",
              "        text-align: right;\n",
              "    }\n",
              "</style>\n",
              "<table border=\"1\" class=\"dataframe\">\n",
              "  <thead>\n",
              "    <tr style=\"text-align: right;\">\n",
              "      <th></th>\n",
              "      <th>name</th>\n",
              "      <th>velocity</th>\n",
              "      <th>latitude</th>\n",
              "      <th>longitude</th>\n",
              "      <th>c1</th>\n",
              "      <th>c2</th>\n",
              "      <th>c3</th>\n",
              "      <th>c4</th>\n",
              "      <th>c5</th>\n",
              "      <th>c6</th>\n",
              "    </tr>\n",
              "  </thead>\n",
              "  <tbody>\n",
              "    <tr>\n",
              "      <th>7</th>\n",
              "      <td>Downtown Toronto (Rosedale)</td>\n",
              "      <td>20</td>\n",
              "      <td>43.6827</td>\n",
              "      <td>-79.373</td>\n",
              "      <td>4.151201</td>\n",
              "      <td>3.250817</td>\n",
              "      <td>1.76051</td>\n",
              "      <td>3.477724</td>\n",
              "      <td>0.0</td>\n",
              "      <td>3.136316</td>\n",
              "    </tr>\n",
              "  </tbody>\n",
              "</table>\n",
              "</div>"
            ],
            "text/plain": [
              "                          name  velocity  latitude  longitude        c1  \\\n",
              "7  Downtown Toronto (Rosedale)        20   43.6827    -79.373  4.151201   \n",
              "\n",
              "         c2       c3        c4   c5        c6  \n",
              "7  3.250817  1.76051  3.477724  0.0  3.136316  "
            ]
          },
          "execution_count": 524,
          "metadata": {},
          "output_type": "execute_result"
        }
      ],
      "source": [
        "dfDrivers_cluster4 = dfDrivers_2.loc[[7]]\n",
        "dfDrivers_cluster4"
      ]
    },
    {
      "cell_type": "code",
      "execution_count": null,
      "id": "8723b0fe",
      "metadata": {
        "id": "8723b0fe",
        "outputId": "e92c920d-435d-458f-9342-5af0189ddf92"
      },
      "outputs": [
        {
          "data": {
            "text/html": [
              "<div>\n",
              "<style scoped>\n",
              "    .dataframe tbody tr th:only-of-type {\n",
              "        vertical-align: middle;\n",
              "    }\n",
              "\n",
              "    .dataframe tbody tr th {\n",
              "        vertical-align: top;\n",
              "    }\n",
              "\n",
              "    .dataframe thead th {\n",
              "        text-align: right;\n",
              "    }\n",
              "</style>\n",
              "<table border=\"1\" class=\"dataframe\">\n",
              "  <thead>\n",
              "    <tr style=\"text-align: right;\">\n",
              "      <th></th>\n",
              "      <th>name</th>\n",
              "      <th>velocity</th>\n",
              "      <th>latitude</th>\n",
              "      <th>longitude</th>\n",
              "      <th>c1</th>\n",
              "      <th>c2</th>\n",
              "      <th>c3</th>\n",
              "      <th>c4</th>\n",
              "      <th>c5</th>\n",
              "      <th>c6</th>\n",
              "    </tr>\n",
              "  </thead>\n",
              "  <tbody>\n",
              "    <tr>\n",
              "      <th>9</th>\n",
              "      <td>Downtown Toronto (Ryerson)</td>\n",
              "      <td>20</td>\n",
              "      <td>43.6572</td>\n",
              "      <td>-79.3783</td>\n",
              "      <td>3.620347</td>\n",
              "      <td>1.281638</td>\n",
              "      <td>1.105211</td>\n",
              "      <td>0.616754</td>\n",
              "      <td>2.86526</td>\n",
              "      <td>1.28049</td>\n",
              "    </tr>\n",
              "  </tbody>\n",
              "</table>\n",
              "</div>"
            ],
            "text/plain": [
              "                         name  velocity  latitude  longitude        c1  \\\n",
              "9  Downtown Toronto (Ryerson)        20   43.6572   -79.3783  3.620347   \n",
              "\n",
              "         c2        c3        c4       c5       c6  \n",
              "9  1.281638  1.105211  0.616754  2.86526  1.28049  "
            ]
          },
          "execution_count": 525,
          "metadata": {},
          "output_type": "execute_result"
        }
      ],
      "source": [
        "dfDrivers_cluster5 = dfDrivers_2.loc[[9]]\n",
        "dfDrivers_cluster5"
      ]
    },
    {
      "cell_type": "markdown",
      "id": "9dae916a",
      "metadata": {
        "id": "9dae916a"
      },
      "source": [
        "# Run Model by Clusters (Model from Part 3 will be used)\n",
        "\n",
        "cluster_optiaml_distances will be created to store the optimal distance from each cluster\n",
        "\n",
        "total_distance will be the total distance of three clusters"
      ]
    },
    {
      "cell_type": "code",
      "execution_count": null,
      "id": "41035791",
      "metadata": {
        "id": "41035791"
      },
      "outputs": [],
      "source": [
        "cluster_optiaml_distances = []\n",
        "total_distance = 0"
      ]
    },
    {
      "cell_type": "markdown",
      "id": "b486fba3",
      "metadata": {
        "id": "b486fba3"
      },
      "source": [
        "### Create Orders table for each cluster"
      ]
    },
    {
      "cell_type": "code",
      "execution_count": null,
      "id": "a4825453",
      "metadata": {
        "id": "a4825453"
      },
      "outputs": [],
      "source": [
        "#cluster 0\n",
        "dfOrdersA=dfOrders.copy()\n",
        "dfOrdersA['label']=labels\n",
        "dfOrdersA=dfOrdersA[dfOrdersA['label']==0]\n",
        "dfOrdersA=dfOrdersA.drop(columns=['label'])\n",
        "dfOrdersA=dfOrdersA.rename(columns={'name':'restaurant'})\n",
        "dfOrdersA=dfOrdersA.set_index('restaurant')\n",
        "\n",
        "#cluster 1\n",
        "dfOrdersB=dfOrders.copy()\n",
        "dfOrdersB['label']=labels\n",
        "dfOrdersB=dfOrdersB[dfOrdersB['label']==1]\n",
        "dfOrdersB=dfOrdersB.drop(columns=['label'])\n",
        "dfOrdersB=dfOrdersB.rename(columns={'name':'restaurant'})\n",
        "dfOrdersB=dfOrdersB.set_index('restaurant')\n",
        "\n",
        "#cluster 2\n",
        "dfOrdersC=dfOrders.copy()\n",
        "dfOrdersC['label']=labels\n",
        "dfOrdersC=dfOrdersC[dfOrdersC['label']==2]\n",
        "dfOrdersC=dfOrdersC.drop(columns=['label'])\n",
        "dfOrdersC=dfOrdersC.rename(columns={'name':'restaurant'})\n",
        "dfOrdersC=dfOrdersC.set_index('restaurant')\n",
        "\n",
        "#cluster 3\n",
        "dfOrdersD=dfOrders.copy()\n",
        "dfOrdersD['label']=labels\n",
        "dfOrdersD=dfOrdersD[dfOrdersD['label']==3]\n",
        "dfOrdersD=dfOrdersD.drop(columns=['label'])\n",
        "dfOrdersD=dfOrdersD.rename(columns={'name':'restaurant'})\n",
        "dfOrdersD=dfOrdersD.set_index('restaurant')\n",
        "\n",
        "#cluster 4\n",
        "dfOrdersE=dfOrders.copy()\n",
        "dfOrdersE['label']=labels\n",
        "dfOrdersE=dfOrdersE[dfOrdersE['label']==4]\n",
        "dfOrdersE=dfOrdersE.drop(columns=['label'])\n",
        "dfOrdersE=dfOrdersE.rename(columns={'name':'restaurant'})\n",
        "dfOrdersE=dfOrdersE.set_index('restaurant')\n",
        "\n",
        "#cluster 5\n",
        "dfOrdersF=dfOrders.copy()\n",
        "dfOrdersF['label']=labels\n",
        "dfOrdersF=dfOrdersF[dfOrdersF['label']==5]\n",
        "dfOrdersF=dfOrdersF.drop(columns=['label'])\n",
        "dfOrdersF=dfOrdersF.rename(columns={'name':'restaurant'})\n",
        "dfOrdersF=dfOrdersF.set_index('restaurant')"
      ]
    },
    {
      "cell_type": "code",
      "execution_count": null,
      "id": "b6cbd6fa",
      "metadata": {
        "id": "b6cbd6fa",
        "outputId": "4cef5301-b8a3-4478-8e9e-cef87ffb6837"
      },
      "outputs": [
        {
          "data": {
            "text/html": [
              "<div>\n",
              "<style scoped>\n",
              "    .dataframe tbody tr th:only-of-type {\n",
              "        vertical-align: middle;\n",
              "    }\n",
              "\n",
              "    .dataframe tbody tr th {\n",
              "        vertical-align: top;\n",
              "    }\n",
              "\n",
              "    .dataframe thead th {\n",
              "        text-align: right;\n",
              "    }\n",
              "</style>\n",
              "<table border=\"1\" class=\"dataframe\">\n",
              "  <thead>\n",
              "    <tr style=\"text-align: right;\">\n",
              "      <th></th>\n",
              "      <th>customer</th>\n",
              "      <th>estimated availability</th>\n",
              "    </tr>\n",
              "    <tr>\n",
              "      <th>restaurant</th>\n",
              "      <th></th>\n",
              "      <th></th>\n",
              "    </tr>\n",
              "  </thead>\n",
              "  <tbody>\n",
              "    <tr>\n",
              "      <th>Downtown Toronto (Christie)</th>\n",
              "      <td>West Toronto (Brockton / Parkdale Village / Ex...</td>\n",
              "      <td>2022-04-02 5:49 PM</td>\n",
              "    </tr>\n",
              "  </tbody>\n",
              "</table>\n",
              "</div>"
            ],
            "text/plain": [
              "                                                                      customer  \\\n",
              "restaurant                                                                       \n",
              "Downtown Toronto (Christie)  West Toronto (Brockton / Parkdale Village / Ex...   \n",
              "\n",
              "                            estimated availability  \n",
              "restaurant                                          \n",
              "Downtown Toronto (Christie)     2022-04-02 5:49 PM  "
            ]
          },
          "execution_count": 528,
          "metadata": {},
          "output_type": "execute_result"
        }
      ],
      "source": [
        "dfOrdersA"
      ]
    },
    {
      "cell_type": "markdown",
      "id": "c0951944",
      "metadata": {
        "id": "c0951944"
      },
      "source": [
        "## Initiliaze dictionaries and  functions to be used"
      ]
    },
    {
      "cell_type": "code",
      "execution_count": null,
      "id": "a90ee518",
      "metadata": {
        "id": "a90ee518"
      },
      "outputs": [],
      "source": [
        "regions = list(dfRegions[\"name\"].unique())\n",
        "\n",
        "distancedictionary = {}\n",
        "for i in regions:\n",
        "    for j in regions:\n",
        "        if i == j:\n",
        "            distancedictionary[(i,j)] = float(0)\n",
        "        else: \n",
        "            distancedictionary[(i,j)] = float(dfDistance[(dfDistance[\"origin\"] == i)&(dfDistance[\"destination\"] == j)][\"distance\"])"
      ]
    },
    {
      "cell_type": "code",
      "execution_count": null,
      "id": "a03bbc52",
      "metadata": {
        "id": "a03bbc52"
      },
      "outputs": [],
      "source": [
        "#fucntion to calculate time difference in minutes\n",
        "def getTimeDifference(TimeStart, TimeEnd):\n",
        "    TimeStart = datetime.datetime.strptime(TimeStart, '%Y-%m-%d %H:%M %p')\n",
        "    TimeEnd = datetime.datetime.strptime(TimeEnd, '%Y-%m-%d %H:%M %p')\n",
        "    timeDiff = TimeEnd - TimeStart\n",
        "    return timeDiff.total_seconds() / 60"
      ]
    },
    {
      "cell_type": "code",
      "execution_count": null,
      "id": "c8474c01",
      "metadata": {
        "id": "c8474c01"
      },
      "outputs": [],
      "source": [
        "#initialie model and objective sense\n",
        "\n",
        "def initializeModel():\n",
        "    \"\"\"initialize part 4 model\"\"\"\n",
        "    flowModel = pulp.LpProblem(name=\"Part 4 Solution\", sense=pulp.LpMinimize)\n",
        "    return flowModel"
      ]
    },
    {
      "cell_type": "code",
      "execution_count": null,
      "id": "8c8079ee",
      "metadata": {
        "id": "8c8079ee"
      },
      "outputs": [],
      "source": [
        "def createOneDriverConstraints(flowModel, W):\n",
        "    \"\"\"create constraints for part 4 model\"\"\"\n",
        "    #update startarc\n",
        "    \n",
        "    #Constraint: every location must be visited once\n",
        "    for j in endarc:\n",
        "        flowModel+= pulp.lpSum( [xvar[i,j,t] for i in startarc for t in steps]) ==1\n",
        "\n",
        "    #Constraint: conservation of flow (go to node j in step t then start at node j in step t+1) \n",
        "    for t in steps[:-1]:\n",
        "        for j in endarc:\n",
        "            flowModel += (pulp.lpSum([xvar[(i, j, t)]] for i in startarc) == pulp.lpSum([xvar[(j, k, t+1)]] for k in endarc))\n",
        "\n",
        "\n",
        "    # during the first step downtown rosedale has an outflow of 1, others are zero\n",
        "    flowModel += pulp.lpSum([xvar[(0, j, 1)] for j in endarc]) == 1\n",
        "    for i in startarc:\n",
        "        if i != 0:\n",
        "            flowModel += pulp.lpSum([xvar[(i, j, 1)]  for j in endarc]) == 0\n",
        "\n",
        "    #Constraint: precedence must occur (must pick up food before dropping off at customer)\n",
        "    for t in steps:\n",
        "        for j in endarc:\n",
        "            if j > len(customers):\n",
        "                if t == 1:\n",
        "                    flowModel += pulp.lpSum(xvar[i, j, t] for i in startarc) == 0 \n",
        "                else:\n",
        "                    flowModel += pulp.lpSum(xvar[(i, j, t)] for i in startarc) <= pulp.lpSum(xvar[(i, j-len(customers), past_t)] for i in startarc for past_t in steps[:t-1])\n",
        "\n",
        "    ## Constraints added for part 2\n",
        "    #Constraint: the first step downtown rosedale to the first restaurant has timestamp equal to the restaurant's ready time.\n",
        "    flowModel += dvar[1] == pulp.lpSum([order_availability[j-1] * xvar[(0,j,1)]] for j in endarc if j <= len(customers))\n",
        "\n",
        "    #set time at each step based on the distance and the speed 20km/h\n",
        "    for v in drivers:\n",
        "        for t in steps:\n",
        "            if t != 1:\n",
        "                for j in endarc:\n",
        "                    for i in endarc:\n",
        "                        if i > len(customers):\n",
        "                            #add 5 mins since leaving from customers\n",
        "                            flowModel += dvar[t] >= (dvar[t-1] + pulp.lpSum([distancedictionary[(rescustlist[i],rescustlist[j])] / driversVelocity[v] * 60 * xvar[(i, j, t)]]\n",
        "                                                                  + (5 * xvar[(i,j,t)]))) \n",
        "                        else:\n",
        "                            #leave time must be greater than last timestamp + travel time\n",
        "                            flowModel += dvar[t] >= dvar[t-1] + pulp.lpSum([distancedictionary[(rescustlist[i],rescustlist[j])] / driversVelocity[v] * 60 * xvar[(i, j, t)]])\n",
        "\n",
        "                            #leave time must be greater than order ready time + travel time\n",
        "                            flowModel += dvar[t] >= pulp.lpSum(xvar[(i,j,t)] * order_availability[i-1]) + pulp.lpSum([distancedictionary[(rescustlist[i],rescustlist[j])] / driversVelocity[v] * 60 * xvar[(i, j, t)]])\n",
        "\n",
        "    #Constraint: average wating time < W (W=120minuets)\n",
        "    u = 999999\n",
        "    for j in endarc:\n",
        "        if j > len(customers):\n",
        "            for t in steps:\n",
        "                for i in startarc:\n",
        "                    flowModel += wvar[j] >= 0\n",
        "                    flowModel += wvar[j] >= dvar[t] - order_availability[(j-len(customers)-1)] - u*(1 - xvar[(i, j, t)])\n",
        "                    flowModel += wvar[j] <= dvar[t] - order_availability[(j-len(customers)-1)] + u*(1 - xvar[(i, j, t)])\n",
        "\n",
        "    flowModel += pulp.lpSum([wvar[j] for j in range(len(customers) + 1, len(endarc) + 1)]) / len(customers) <= W\n"
      ]
    },
    {
      "cell_type": "code",
      "execution_count": null,
      "id": "5688bf87",
      "metadata": {
        "id": "5688bf87"
      },
      "outputs": [],
      "source": [
        "def createMultipleDriverConstraints(flowModel, W):\n",
        "    \"\"\"create constraints for part 4 model\"\"\"\n",
        "    #Constraint: every location must be visited by exactly one vehicle\n",
        "    for j in endarc:\n",
        "        flowModel+= pulp.lpSum( [xvar[i,j,v,t] for v in drivers for i in ([v] + startarc) for t in steps]) == 1\n",
        "\n",
        "\n",
        "    #Constraint: conservation of flow (go to node j in step t then start at node j in step t+1) \n",
        "    for v in drivers:\n",
        "        for t in steps[:-1]:\n",
        "            for j in endarc:\n",
        "                flowModel += (pulp.lpSum([xvar[(i,j,v,t)]] for i in ([v] + startarc)) == pulp.lpSum([xvar[(j, k, v, t+1)]] for k in endarc))\n",
        "\n",
        "    # during the first step downtown rosedale has an outflow of 1, others are zero\n",
        "    # drivers can't all start at step 1 now since there are 3 drivers\n",
        "    for v in drivers:\n",
        "        flowModel += pulp.lpSum([xvar[(v, j, v, t)] for j in endarc for t in steps]) == 1\n",
        "    for v in drivers:\n",
        "        for i in ([v] + startarc):\n",
        "            flowModel += pulp.lpSum([xvar[(i, j, v, 1)]  for j in endarc]) == 0\n",
        "\n",
        "    #Constraint: precedence must occur (must pick up food before dropping off at customer)\n",
        "    for v in drivers:\n",
        "        for t in steps:\n",
        "            for j in endarc:\n",
        "                if j >= len(drivers + customers): #if arriving at customers' location\n",
        "                    flowModel += pulp.lpSum(xvar[(i, j, v, t)] for i in ([v] + startarc)) <= pulp.lpSum(xvar[(i, j-len(customers), v, past_t)] for i in ([v] + startarc) for past_t in steps[:t-1])                  \n",
        "\n",
        "    ## Constraints added for part 2\n",
        "    #Constraint: the arrival at the first restaurant has timestamp equal to the restaurant's ready time.\n",
        "    for v in drivers:\n",
        "        for t in steps:\n",
        "            flowModel += dvar[t, v] >= pulp.lpSum([order_availability[j-len(drivers)] * xvar[(0,j,v,t)]] for j in endarc if j < len(drivers + customers))\n",
        "\n",
        "    #set time at each step based on the distance and the speed 40km/h\n",
        "    for v in drivers:\n",
        "        for t in steps:\n",
        "            if t != 1:\n",
        "                for j in endarc:\n",
        "                    for i in startarc:\n",
        "                        if i >= len(drivers + customers):\n",
        "                            #add 5 mins since leaving from customers\n",
        "                            flowModel += dvar[t, v] >= (dvar[t-1, v] + pulp.lpSum([distancedictionary[(rescustlist[i],rescustlist[j])] / driversVelocity[v] * 60 * xvar[(i, j, v, t)]]\n",
        "                                                                  + (5 * xvar[(i,j,v,t)]))) \n",
        "                        else:\n",
        "                            #leave time must be greater than last timestamp + travel time\n",
        "                            flowModel += dvar[t, v] >= dvar[t-1, v] + pulp.lpSum([distancedictionary[(rescustlist[i],rescustlist[j])] / driversVelocity[v] * 60 * xvar[(i, j, v, t)]])\n",
        "\n",
        "                            #leave time must be greater than order ready time + travel time\n",
        "                            flowModel += dvar[t, v] >= pulp.lpSum(xvar[(i,j,v,t)] * order_availability[i-len(drivers)]) + pulp.lpSum([distancedictionary[(rescustlist[i],rescustlist[j])] / driversVelocity[v] * 60 * xvar[(i, j, v, t)]])\n",
        "\n",
        "    #Constraint: average wating time < W (W=60minuets)\n",
        "    u = 999999\n",
        "    for v in drivers:\n",
        "        for j in endarc:\n",
        "            if j >= len(drivers + customers):\n",
        "                for t in steps:\n",
        "                    for i in ([v] + startarc):\n",
        "                        flowModel += wvar[j] >= 0\n",
        "                        flowModel += wvar[j] >= dvar[t, v] - order_availability[(j-len(customers)-len(drivers))] - u*(1 - xvar[(i, j, v, t)])\n",
        "                        flowModel += wvar[j] <= dvar[t, v] - order_availability[(j-len(customers)-len(drivers))] + u*(1 - xvar[(i, j, v, t)])\n",
        "\n",
        "    flowModel += pulp.lpSum([wvar[j] for j in range(len(drivers + customers), len(rescustlist))]) / len(customers) <= W"
      ]
    },
    {
      "cell_type": "code",
      "execution_count": null,
      "id": "707b9772",
      "metadata": {
        "id": "707b9772"
      },
      "outputs": [],
      "source": [
        "def addOneDriverObjective(flowModel):\n",
        "    \"\"\"add objetive for part4 model\"\"\"\n",
        "    objective=0\n",
        "    for i in startarc:\n",
        "        for j in endarc:\n",
        "            if i != j:\n",
        "                objective += pulp.lpSum([distancedictionary[(rescustlist[i],rescustlist[j])] * xvar[(i, j, t)] for t in steps])\n",
        "                \n",
        "    flowModel+=objective"
      ]
    },
    {
      "cell_type": "code",
      "execution_count": null,
      "id": "eab9059f",
      "metadata": {
        "id": "eab9059f"
      },
      "outputs": [],
      "source": [
        "def addObjective(flowModel):\n",
        "    \"\"\"add objetive for part4 model\"\"\"\n",
        "    objective=0\n",
        "    for v in drivers:\n",
        "        for i in ([v] + startarc):\n",
        "            for j in endarc:\n",
        "                if i != j:\n",
        "                    objective += pulp.lpSum([distancedictionary[(rescustlist[i],rescustlist[j])] * xvar[(i, j, v, t)] for t in steps])\n",
        "\n",
        "    flowModel+=objective"
      ]
    },
    {
      "cell_type": "markdown",
      "id": "eacab596",
      "metadata": {
        "id": "eacab596"
      },
      "source": [
        "## Use for loop to run the model on each cluster"
      ]
    },
    {
      "cell_type": "code",
      "execution_count": null,
      "id": "7885dfb8",
      "metadata": {
        "scrolled": true,
        "id": "7885dfb8",
        "outputId": "6ae955c8-69bf-4e3c-aab2-03b114c14f3a"
      },
      "outputs": [
        {
          "name": "stdout",
          "output_type": "stream",
          "text": [
            "Running model on cluster 0\n",
            "Status: Optimal\n",
            "Time elapsed: 0.03391265869140625\n",
            "Total distance:3.4240960245910577\n",
            "\n",
            "1\n",
            "Driving from Downtown Toronto (Christie) To \n",
            "Downtown Toronto (Christie) for pickup\n",
            "\n",
            "2\n",
            "Driving from Downtown Toronto (Christie) To \n",
            "West Toronto (Brockton / Parkdale Village / Exhibition Place) for delivery\n",
            "Customer wait time is 10.272288 minutes\n",
            "\n",
            "Running model on cluster 1\n",
            "Status: Optimal\n",
            "Time elapsed: 0.312716007232666\n",
            "Total distance:22.635589136873666\n",
            "\n",
            "1\n",
            "Driving from Downtown Toronto (University of Toronto / Harbord) To \n",
            "Downtown Toronto (University of Toronto / Harbord) for pickup\n",
            "\n",
            "2\n",
            "Driving from Downtown Toronto (University of Toronto / Harbord) To \n",
            "Downtown Toronto (Kensington Market / Chinatown / Grange Park) for pickup\n",
            "\n",
            "3\n",
            "Driving from Downtown Toronto (Kensington Market / Chinatown / Grange Park) To \n",
            "Downtown Toronto (Central Bay Street) for delivery\n",
            "Customer wait time is 90.893057 minutes\n",
            "\n",
            "4\n",
            "Driving from Downtown Toronto (Central Bay Street) To \n",
            "Downtown Toronto (Central Bay Street) for pickup\n",
            "\n",
            "5\n",
            "Driving from Downtown Toronto (Central Bay Street) To \n",
            "North York (Armour Heights / Wilson Heights / Downsview North) for delivery\n",
            "Customer wait time is 138.48796 minutes\n",
            "\n",
            "6\n",
            "Driving from North York (Armour Heights / Wilson Heights / Downsview North) To \n",
            "North York (Humber Summit) for delivery\n",
            "Customer wait time is 77.906767 minutes\n",
            "\n",
            "Running model on cluster 2\n",
            "Status: Optimal\n",
            "Time elapsed: 0.08178877830505371\n",
            "Total distance:13.452678867822758\n",
            "\n",
            "1\n",
            "Driving from Downtown Toronto (Church and Wellesley) To \n",
            "Downtown Toronto (Church and Wellesley) for pickup\n",
            "\n",
            "2\n",
            "Driving from Downtown Toronto (Church and Wellesley) To \n",
            "Downtown Toronto (St. James Town / Cabbagetown) for pickup\n",
            "\n",
            "3\n",
            "Driving from Downtown Toronto (St. James Town / Cabbagetown) To \n",
            "East Toronto (The Danforth West / Riverdale) for delivery\n",
            "Customer wait time is 8.9163483 minutes\n",
            "\n",
            "4\n",
            "Driving from East Toronto (The Danforth West / Riverdale) To \n",
            "York (Runnymede / The Junction North) for delivery\n",
            "Customer wait time is 176.35804 minutes\n",
            "\n",
            "Running model on cluster 3\n",
            "Status: Optimal\n",
            "Time elapsed: 95.21263885498047\n",
            "Total distance:20.754556218835834\n",
            "\n",
            "Driver: 1\n",
            "step 1\n",
            "\n",
            "step 2\n",
            "\n",
            "step 3\n",
            "\n",
            "step 4\n",
            "\n",
            "step 5\n",
            "\n",
            "step 6\n",
            "\n",
            "step 7\n",
            "Driving from Downtown Toronto (St. James Park) To \n",
            "Downtown Toronto (St. James Park) for pickup\n",
            "\n",
            "step 8\n",
            "Driving from Downtown Toronto (St. James Park) To \n",
            "Downtown Toronto (Underground city) for pickup\n",
            "\n",
            "step 9\n",
            "Driving from Downtown Toronto (Underground city) To \n",
            "Downtown Toronto (Ryerson) for pickup\n",
            "\n",
            "step 10\n",
            "Driving from Downtown Toronto (Ryerson) To \n",
            "Central Toronto (The Annex / North Midtown / Yorkville) for delivery\n",
            "Customer wait time is 29.179757 minutes\n",
            "\n",
            "step 11\n",
            "Driving from Central Toronto (The Annex / North Midtown / Yorkville) To \n",
            "Central Toronto (Summerhill West / Rathnelly / South Hill / Forest Hill SE / Deer Park) for delivery\n",
            "Customer wait time is 73.356546 minutes\n",
            "\n",
            "step 12\n",
            "Driving from Central Toronto (Summerhill West / Rathnelly / South Hill / Forest Hill SE / Deer Park) To \n",
            "York (Fairbank / Oakwood) for delivery\n",
            "Customer wait time is 34.020877 minutes\n",
            "\n",
            "Driver: 2\n",
            "step 1\n",
            "\n",
            "step 2\n",
            "\n",
            "step 3\n",
            "\n",
            "step 4\n",
            "\n",
            "step 5\n",
            "\n",
            "step 6\n",
            "\n",
            "step 7\n",
            "Driving from Downtown Toronto (Richmond / Adelaide / King) To \n",
            "Downtown Toronto (Richmond / Adelaide / King) for pickup\n",
            "\n",
            "step 8\n",
            "Driving from Downtown Toronto (Richmond / Adelaide / King) To \n",
            "Downtown Toronto (St. James Park) for pickup\n",
            "\n",
            "step 9\n",
            "Driving from Downtown Toronto (St. James Park) To \n",
            "Downtown Toronto (St. James Park) for pickup\n",
            "\n",
            "step 10\n",
            "Driving from Downtown Toronto (St. James Park) To \n",
            "East Toronto (India Bazaar / The Beaches West) for delivery\n",
            "Customer wait time is 15.697767 minutes\n",
            "\n",
            "step 11\n",
            "Driving from East Toronto (India Bazaar / The Beaches West) To \n",
            "East Toronto (The Beaches) for delivery\n",
            "Customer wait time is 117.68733 minutes\n",
            "\n",
            "step 12\n",
            "Driving from East Toronto (The Beaches) To \n",
            "East York (Parkview Hill / Woodbine Gardens) for delivery\n",
            "Customer wait time is 50.699307 minutes\n",
            "\n",
            "Running model on cluster 4\n",
            "Status: Optimal\n",
            "Time elapsed: 0.07263016700744629\n",
            "Total distance:5.190227351163807\n",
            "\n",
            "1\n",
            "Driving from Downtown Toronto (Rosedale) To \n",
            "Downtown Toronto (Rosedale) for pickup\n",
            "\n",
            "2\n",
            "Driving from Downtown Toronto (Rosedale) To \n",
            "Downtown Toronto (Rosedale) for pickup\n",
            "\n",
            "3\n",
            "Driving from Downtown Toronto (Rosedale) To \n",
            "Downtown Toronto (Central Bay Street) for delivery\n",
            "Customer wait time is 164.3172 minutes\n",
            "\n",
            "4\n",
            "Driving from Downtown Toronto (Central Bay Street) To \n",
            "Downtown Toronto (CN Tower / King and Spadina / Railway Lands / Harbourfront West / Bathurst Quay / South Niagara / YTZ) for delivery\n",
            "Customer wait time is 20.570682 minutes\n",
            "\n",
            "Running model on cluster 5\n",
            "Status: Optimal\n",
            "Time elapsed: 0.03390932083129883\n",
            "Total distance:3.128229542486113\n",
            "\n",
            "1\n",
            "Driving from Downtown Toronto (Ryerson) To \n",
            "Downtown Toronto (Regent Park / Port of Toronto) for pickup\n",
            "\n",
            "2\n",
            "Driving from Downtown Toronto (Regent Park / Port of Toronto) To \n",
            "Downtown Toronto (Toronto Dominion Centre / Design Exchange) for delivery\n",
            "Customer wait time is 5.5533442 minutes\n",
            "\n"
          ]
        }
      ],
      "source": [
        "cluster_optiaml_distances = []\n",
        "total_distance = 0\n",
        "wait_times = []\n",
        "W = 120 #set W\n",
        "\n",
        "for i in range(6):\n",
        "    \n",
        "    print ('Running model on cluster ' + str(i))\n",
        "    \n",
        "    #assign orders and drivers table for different clusters ------------------------------------------\n",
        "    if i == 0:\n",
        "        dfOrders_new = dfOrdersA\n",
        "        dfDrivers_new = dfDrivers_cluster0\n",
        "    elif i == 1:\n",
        "        dfOrders_new = dfOrdersB\n",
        "        dfDrivers_new = dfDrivers_cluster1\n",
        "    elif i == 2:\n",
        "        dfOrders_new = dfOrdersC\n",
        "        dfDrivers_new = dfDrivers_cluster2\n",
        "    elif i == 3:\n",
        "        dfOrders_new = dfOrdersD\n",
        "        dfDrivers_new = dfDrivers_cluster3\n",
        "    elif i == 4:\n",
        "        dfOrders_new = dfOrdersE\n",
        "        dfDrivers_new = dfDrivers_cluster4\n",
        "    elif i == 5:\n",
        "        dfOrders_new = dfOrdersF\n",
        "        dfDrivers_new = dfDrivers_cluster5\n",
        "    \n",
        "    \n",
        "    \n",
        "    if len(list(dfDrivers_new['name'])) > 1:\n",
        "        #sets-------------------------------------------\n",
        "\n",
        "        #restaurants\n",
        "        restaurants= list(dfOrders_new.index)\n",
        "\n",
        "        #customers\n",
        "        customers=list(dfOrders_new['customer'])\n",
        "\n",
        "        #number of trips\n",
        "        numtrips=len((customers+restaurants))\n",
        "\n",
        "        #estimated availability for orders\n",
        "        order_availability = [getTimeDifference('2022-04-02 0:00 AM', item) for item in list(dfOrders_new['estimated availability'])]\n",
        "\n",
        "        #drivers start region\n",
        "        driversStartRegion =list(dfDrivers_new['name'])\n",
        "\n",
        "        #drivers speed per minute\n",
        "        driversVelocity = list(dfDrivers_new['velocity'])\n",
        "\n",
        "        #drivers list\n",
        "        drivers = list(range(len(driversStartRegion)))\n",
        "\n",
        "        #restaurant-customer list\n",
        "        rescustlist=driversStartRegion+restaurants+customers\n",
        "\n",
        "        #steps\n",
        "        steps = list(range(1, len(rescustlist)-len(drivers)+1))\n",
        "\n",
        "        #starting points\n",
        "        startarc = list(range(len(drivers), len(rescustlist)))\n",
        "\n",
        "        #ending points\n",
        "        endarc = startarc.copy()\n",
        "\n",
        "\n",
        "        # Run Model --------------------------------------------------------------\n",
        "        \n",
        "        #variables: if driver v travelling from resteurant i to customer j at step t\n",
        "        xvar = pulp.LpVariable.dict(\"x\", (drivers + startarc, endarc, drivers, steps), cat=pulp.LpBinary)\n",
        "\n",
        "        #variable: total travel time at each step for each driver\n",
        "        dvar = pulp.LpVariable.dict(\"d\", (steps, drivers), cat=pulp.LpContinuous)\n",
        "\n",
        "        #variable: wait time for each customer \n",
        "        wvar = pulp.LpVariable.dict(\"w\", (endarc), cat=pulp.LpContinuous)\n",
        "\n",
        "        flowModel = initializeModel() #initialize model\n",
        "        createMultipleDriverConstraints(flowModel, W) #create constraints\n",
        "        addMultipleDriverObjective(flowModel) #add objective\n",
        "\n",
        "        # Solve model\n",
        "        flowModel.solve(pulp.PULP_CBC_CMD(timeLimit=150))\n",
        "        print(\"Status:\", pulp.LpStatus[flowModel.status])\n",
        "        print(\"Time elapsed:\", flowModel.solutionTime)\n",
        "        \n",
        "        #Print Solution ----------------------------------------\n",
        "        print(\"Total distance:\" + str(pulp.value(flowModel.objective))+'\\n')\n",
        "\n",
        "        for v in drivers:\n",
        "            print(f'Driver: {drivers[v] + 1}')\n",
        "            for t in steps:\n",
        "                print('step ' + str(t))\n",
        "                for i in (drivers + startarc):\n",
        "                    for j in endarc:\n",
        "                        if xvar[i,j,v,t].varValue and xvar[i,j,v,t].varValue >= 1.0:\n",
        "                            if j < len(drivers + customers):\n",
        "                                if i < len(drivers):\n",
        "                                    print(f'Driving from {rescustlist[v]} To \\n{rescustlist[j]} for pickup')\n",
        "                                else:\n",
        "                                    print(f'Driving from {rescustlist[i]} To \\n{rescustlist[j]} for pickup')\n",
        "                            else:\n",
        "                                print(f'Driving from {rescustlist[i]} To \\n{rescustlist[j]} for delivery') \n",
        "                                print(f'Customer wait time is {wvar[j].varValue} minutes')\n",
        "                                wait_times.append(wvar[j].varValue)\n",
        "                print() \n",
        "    \n",
        "    else:\n",
        "        #sets-------------------------------------------\n",
        "\n",
        "        #restaurants\n",
        "        restaurants= list(dfOrders_new.index)\n",
        "\n",
        "        #customers\n",
        "        customers=list(dfOrders_new['customer'])\n",
        "\n",
        "        #number of trips\n",
        "        numtrips=len((customers+restaurants))\n",
        "\n",
        "        #estimated availability for orders\n",
        "        order_availability = [getTimeDifference('2022-04-02 0:00 AM', item) for item in list(dfOrders_new['estimated availability'])]\n",
        "\n",
        "        #drivers start region\n",
        "        driversStartRegion =list(dfDrivers_new['name'])\n",
        "\n",
        "        #drivers speed per minute\n",
        "        driversVelocity = list(dfDrivers_new['velocity'])\n",
        "\n",
        "        #drivers list\n",
        "        drivers = list(range(len(driversStartRegion)))\n",
        "\n",
        "        #restaurant-customer list\n",
        "        rescustlist=driversStartRegion+restaurants+customers\n",
        "\n",
        "        #steps\n",
        "        steps = list(range(1, len(rescustlist)))\n",
        "\n",
        "        #starting points\n",
        "        startarc = list(range(len(rescustlist)))\n",
        "\n",
        "        #ending points\n",
        "        endarc = steps.copy()\n",
        "        \n",
        "        #variables: if driver travelling from resteurant i to customer j at step t\n",
        "        xvar = pulp.LpVariable.dict(\"x\", (startarc, endarc, steps), cat=pulp.LpBinary)\n",
        "\n",
        "        #variable: total travel time at each step for each driver\n",
        "        dvar = pulp.LpVariable.dict(\"d\", (steps), cat=pulp.LpContinuous)\n",
        "\n",
        "        #variable: wait time for each customer \n",
        "        wvar = pulp.LpVariable.dict(\"w\", (endarc), cat=pulp.LpContinuous)\n",
        "\n",
        "        flowModel = initializeModel() #initialize model\n",
        "        createOneDriverConstraints(flowModel, W) #create constraints\n",
        "        addOneDriverObjective(flowModel) #add objective\n",
        "\n",
        "        # Solve model\n",
        "        flowModel.solve(pulp.PULP_CBC_CMD(timeLimit=150))\n",
        "        print(\"Status:\", pulp.LpStatus[flowModel.status])\n",
        "        print(\"Time elapsed:\", flowModel.solutionTime)\n",
        "        \n",
        "        # Print solution -------------------\n",
        "        print(\"Total distance:\" + str(pulp.value(flowModel.objective))+'\\n')\n",
        "\n",
        "        for t in steps:\n",
        "            print(t)\n",
        "            for i in startarc:\n",
        "                for j in endarc:\n",
        "                    if xvar[i,j,t].varValue >= 1.0:\n",
        "                        if j <= len(customers):\n",
        "                            print(f'Driving from {rescustlist[i]} To \\n{rescustlist[j]} for pickup')\n",
        "                        else:\n",
        "                            print(f'Driving from {rescustlist[i]} To \\n{rescustlist[j]} for delivery') \n",
        "                            print(f'Customer wait time is {wvar[(j)].varValue} minutes')\n",
        "                            wait_times.append(wvar[j].varValue)\n",
        "            print()  \n",
        "    \n",
        "     \n",
        "    \n",
        "    # Store Distance information -------------------------------\n",
        "    cluster_optiaml_distances.append(pulp.value(flowModel.objective))\n",
        "    total_distance += pulp.value(flowModel.objective)\n",
        "    "
      ]
    },
    {
      "cell_type": "code",
      "execution_count": null,
      "id": "cbbf6c83",
      "metadata": {
        "scrolled": true,
        "id": "cbbf6c83",
        "outputId": "f54523e6-5f97-4e3a-a040-893c49f2dac2"
      },
      "outputs": [
        {
          "data": {
            "text/plain": [
              "[3.4240960245910577,\n",
              " 22.635589136873666,\n",
              " 13.452678867822758,\n",
              " 20.754556218835834,\n",
              " 5.190227351163807,\n",
              " 3.128229542486113]"
            ]
          },
          "execution_count": 538,
          "metadata": {},
          "output_type": "execute_result"
        }
      ],
      "source": [
        "cluster_optiaml_distances"
      ]
    },
    {
      "cell_type": "markdown",
      "id": "4faafdd2",
      "metadata": {
        "id": "4faafdd2"
      },
      "source": [
        "### Total Distance Travelled:"
      ]
    },
    {
      "cell_type": "code",
      "execution_count": null,
      "id": "97f5829f",
      "metadata": {
        "id": "97f5829f",
        "outputId": "1363f8b0-ead3-4b17-e133-494a98e7e9a3"
      },
      "outputs": [
        {
          "data": {
            "text/plain": [
              "68.58537714177324"
            ]
          },
          "execution_count": 539,
          "metadata": {},
          "output_type": "execute_result"
        }
      ],
      "source": [
        "total_distance"
      ]
    },
    {
      "cell_type": "markdown",
      "id": "07808893",
      "metadata": {
        "id": "07808893"
      },
      "source": [
        "### Average Wait Time:"
      ]
    },
    {
      "cell_type": "code",
      "execution_count": null,
      "id": "f76bacdf",
      "metadata": {
        "id": "f76bacdf",
        "outputId": "9519ed41-8fa2-4d56-c4ed-81218dcee919"
      },
      "outputs": [
        {
          "data": {
            "text/plain": [
              "67.5944847"
            ]
          },
          "execution_count": 540,
          "metadata": {},
          "output_type": "execute_result"
        }
      ],
      "source": [
        "sum(wait_times)/len(wait_times)"
      ]
    },
    {
      "cell_type": "markdown",
      "id": "15297de1",
      "metadata": {
        "id": "15297de1"
      },
      "source": [
        "# Apply this Clustering Method on part3_small"
      ]
    },
    {
      "cell_type": "code",
      "execution_count": null,
      "id": "6839a776",
      "metadata": {
        "id": "6839a776"
      },
      "outputs": [],
      "source": [
        "dfOrders=pd.read_csv('part3_small.csv')\n",
        "dfDrivers=pd.read_csv('part3_drivers.csv')"
      ]
    },
    {
      "cell_type": "code",
      "execution_count": null,
      "metadata": {
        "id": "tL7Vx4J0B12K",
        "outputId": "457bfd44-9904-4224-d3f8-8f8d0f7a30c3"
      },
      "outputs": [
        {
          "data": {
            "text/html": [
              "<div>\n",
              "<style scoped>\n",
              "    .dataframe tbody tr th:only-of-type {\n",
              "        vertical-align: middle;\n",
              "    }\n",
              "\n",
              "    .dataframe tbody tr th {\n",
              "        vertical-align: top;\n",
              "    }\n",
              "\n",
              "    .dataframe thead th {\n",
              "        text-align: right;\n",
              "    }\n",
              "</style>\n",
              "<table border=\"1\" class=\"dataframe\">\n",
              "  <thead>\n",
              "    <tr style=\"text-align: right;\">\n",
              "      <th></th>\n",
              "      <th>restaurant</th>\n",
              "      <th>customer</th>\n",
              "      <th>estimated availability</th>\n",
              "    </tr>\n",
              "  </thead>\n",
              "  <tbody>\n",
              "    <tr>\n",
              "      <th>0</th>\n",
              "      <td>Downtown Toronto (Central Bay Street)</td>\n",
              "      <td>North York (Armour Heights / Wilson Heights / ...</td>\n",
              "      <td>2022-04-02 5:17 PM</td>\n",
              "    </tr>\n",
              "    <tr>\n",
              "      <th>1</th>\n",
              "      <td>Downtown Toronto (Christie)</td>\n",
              "      <td>West Toronto (Brockton / Parkdale Village / Ex...</td>\n",
              "      <td>2022-04-02 5:49 PM</td>\n",
              "    </tr>\n",
              "    <tr>\n",
              "      <th>2</th>\n",
              "      <td>Downtown Toronto (Ryerson)</td>\n",
              "      <td>York (Fairbank / Oakwood)</td>\n",
              "      <td>2022-04-02 6:17 PM</td>\n",
              "    </tr>\n",
              "    <tr>\n",
              "      <th>3</th>\n",
              "      <td>Downtown Toronto (St. James Park)</td>\n",
              "      <td>East Toronto (The Beaches)</td>\n",
              "      <td>2022-04-02 5:53 PM</td>\n",
              "    </tr>\n",
              "    <tr>\n",
              "      <th>4</th>\n",
              "      <td>Downtown Toronto (Kensington Market / Chinatow...</td>\n",
              "      <td>Downtown Toronto (Central Bay Street)</td>\n",
              "      <td>2022-04-02 5:24 PM</td>\n",
              "    </tr>\n",
              "  </tbody>\n",
              "</table>\n",
              "</div>"
            ],
            "text/plain": [
              "                                          restaurant  \\\n",
              "0              Downtown Toronto (Central Bay Street)   \n",
              "1                        Downtown Toronto (Christie)   \n",
              "2                         Downtown Toronto (Ryerson)   \n",
              "3                  Downtown Toronto (St. James Park)   \n",
              "4  Downtown Toronto (Kensington Market / Chinatow...   \n",
              "\n",
              "                                            customer estimated availability  \n",
              "0  North York (Armour Heights / Wilson Heights / ...     2022-04-02 5:17 PM  \n",
              "1  West Toronto (Brockton / Parkdale Village / Ex...     2022-04-02 5:49 PM  \n",
              "2                          York (Fairbank / Oakwood)     2022-04-02 6:17 PM  \n",
              "3                         East Toronto (The Beaches)     2022-04-02 5:53 PM  \n",
              "4              Downtown Toronto (Central Bay Street)     2022-04-02 5:24 PM  "
            ]
          },
          "execution_count": 542,
          "metadata": {},
          "output_type": "execute_result"
        }
      ],
      "source": [
        "dfOrders"
      ],
      "id": "tL7Vx4J0B12K"
    },
    {
      "cell_type": "code",
      "execution_count": null,
      "metadata": {
        "id": "nU1WOtuCB12K",
        "outputId": "0f4c3f74-709f-41e4-aa3d-c71e9593248b"
      },
      "outputs": [
        {
          "data": {
            "text/html": [
              "<div>\n",
              "<style scoped>\n",
              "    .dataframe tbody tr th:only-of-type {\n",
              "        vertical-align: middle;\n",
              "    }\n",
              "\n",
              "    .dataframe tbody tr th {\n",
              "        vertical-align: top;\n",
              "    }\n",
              "\n",
              "    .dataframe thead th {\n",
              "        text-align: right;\n",
              "    }\n",
              "</style>\n",
              "<table border=\"1\" class=\"dataframe\">\n",
              "  <thead>\n",
              "    <tr style=\"text-align: right;\">\n",
              "      <th></th>\n",
              "      <th>start region</th>\n",
              "      <th>velocity</th>\n",
              "    </tr>\n",
              "  </thead>\n",
              "  <tbody>\n",
              "    <tr>\n",
              "      <th>0</th>\n",
              "      <td>Downtown Toronto (Richmond / Adelaide / King)</td>\n",
              "      <td>40</td>\n",
              "    </tr>\n",
              "    <tr>\n",
              "      <th>1</th>\n",
              "      <td>Downtown Toronto (St. James Park)</td>\n",
              "      <td>35</td>\n",
              "    </tr>\n",
              "    <tr>\n",
              "      <th>2</th>\n",
              "      <td>Downtown Toronto (Church and Wellesley)</td>\n",
              "      <td>32</td>\n",
              "    </tr>\n",
              "  </tbody>\n",
              "</table>\n",
              "</div>"
            ],
            "text/plain": [
              "                                    start region  velocity\n",
              "0  Downtown Toronto (Richmond / Adelaide / King)        40\n",
              "1              Downtown Toronto (St. James Park)        35\n",
              "2        Downtown Toronto (Church and Wellesley)        32"
            ]
          },
          "execution_count": 543,
          "metadata": {},
          "output_type": "execute_result"
        }
      ],
      "source": [
        "dfDrivers"
      ],
      "id": "nU1WOtuCB12K"
    },
    {
      "cell_type": "markdown",
      "metadata": {
        "id": "oppAYIFQB12K"
      },
      "source": [
        "### K Mean Clustering"
      ],
      "id": "oppAYIFQB12K"
    },
    {
      "cell_type": "code",
      "execution_count": null,
      "metadata": {
        "scrolled": true,
        "id": "1F5DT7THB12K",
        "outputId": "5b70833f-c675-4902-ad43-60d03d7b755e"
      },
      "outputs": [
        {
          "data": {
            "text/html": [
              "<div>\n",
              "<style scoped>\n",
              "    .dataframe tbody tr th:only-of-type {\n",
              "        vertical-align: middle;\n",
              "    }\n",
              "\n",
              "    .dataframe tbody tr th {\n",
              "        vertical-align: top;\n",
              "    }\n",
              "\n",
              "    .dataframe thead th {\n",
              "        text-align: right;\n",
              "    }\n",
              "</style>\n",
              "<table border=\"1\" class=\"dataframe\">\n",
              "  <thead>\n",
              "    <tr style=\"text-align: right;\">\n",
              "      <th></th>\n",
              "      <th>name</th>\n",
              "      <th>customer</th>\n",
              "      <th>estimated availability</th>\n",
              "      <th>latitude</th>\n",
              "      <th>longitude</th>\n",
              "    </tr>\n",
              "  </thead>\n",
              "  <tbody>\n",
              "    <tr>\n",
              "      <th>0</th>\n",
              "      <td>Downtown Toronto (Central Bay Street)</td>\n",
              "      <td>North York (Armour Heights / Wilson Heights / ...</td>\n",
              "      <td>2022-04-02 5:17 PM</td>\n",
              "      <td>43.6564</td>\n",
              "      <td>-79.3860</td>\n",
              "    </tr>\n",
              "    <tr>\n",
              "      <th>1</th>\n",
              "      <td>Downtown Toronto (Christie)</td>\n",
              "      <td>West Toronto (Brockton / Parkdale Village / Ex...</td>\n",
              "      <td>2022-04-02 5:49 PM</td>\n",
              "      <td>43.6683</td>\n",
              "      <td>-79.4205</td>\n",
              "    </tr>\n",
              "    <tr>\n",
              "      <th>2</th>\n",
              "      <td>Downtown Toronto (Ryerson)</td>\n",
              "      <td>York (Fairbank / Oakwood)</td>\n",
              "      <td>2022-04-02 6:17 PM</td>\n",
              "      <td>43.6572</td>\n",
              "      <td>-79.3783</td>\n",
              "    </tr>\n",
              "    <tr>\n",
              "      <th>3</th>\n",
              "      <td>Downtown Toronto (St. James Park)</td>\n",
              "      <td>East Toronto (The Beaches)</td>\n",
              "      <td>2022-04-02 5:53 PM</td>\n",
              "      <td>43.6513</td>\n",
              "      <td>-79.3756</td>\n",
              "    </tr>\n",
              "    <tr>\n",
              "      <th>4</th>\n",
              "      <td>Downtown Toronto (Kensington Market / Chinatow...</td>\n",
              "      <td>Downtown Toronto (Central Bay Street)</td>\n",
              "      <td>2022-04-02 5:24 PM</td>\n",
              "      <td>43.6541</td>\n",
              "      <td>-79.3978</td>\n",
              "    </tr>\n",
              "  </tbody>\n",
              "</table>\n",
              "</div>"
            ],
            "text/plain": [
              "                                                name  \\\n",
              "0              Downtown Toronto (Central Bay Street)   \n",
              "1                        Downtown Toronto (Christie)   \n",
              "2                         Downtown Toronto (Ryerson)   \n",
              "3                  Downtown Toronto (St. James Park)   \n",
              "4  Downtown Toronto (Kensington Market / Chinatow...   \n",
              "\n",
              "                                            customer estimated availability  \\\n",
              "0  North York (Armour Heights / Wilson Heights / ...     2022-04-02 5:17 PM   \n",
              "1  West Toronto (Brockton / Parkdale Village / Ex...     2022-04-02 5:49 PM   \n",
              "2                          York (Fairbank / Oakwood)     2022-04-02 6:17 PM   \n",
              "3                         East Toronto (The Beaches)     2022-04-02 5:53 PM   \n",
              "4              Downtown Toronto (Central Bay Street)     2022-04-02 5:24 PM   \n",
              "\n",
              "   latitude  longitude  \n",
              "0   43.6564   -79.3860  \n",
              "1   43.6683   -79.4205  \n",
              "2   43.6572   -79.3783  \n",
              "3   43.6513   -79.3756  \n",
              "4   43.6541   -79.3978  "
            ]
          },
          "execution_count": 544,
          "metadata": {},
          "output_type": "execute_result"
        }
      ],
      "source": [
        "#find the long lat for each restaurant in the orders\n",
        "df_1=dfOrders.copy()\n",
        "df_1=df_1.rename(columns={'restaurant':'name'})\n",
        "df_1=pd.merge(df_1,dfRegions[['name','latitude','longitude']],on='name',how='left')\n",
        "df_1"
      ],
      "id": "1F5DT7THB12K"
    },
    {
      "cell_type": "code",
      "execution_count": null,
      "metadata": {
        "id": "eriW5K9MB12L",
        "outputId": "f6326769-9f85-4c80-b87b-d6d504f59711"
      },
      "outputs": [
        {
          "data": {
            "text/html": [
              "<div>\n",
              "<style scoped>\n",
              "    .dataframe tbody tr th:only-of-type {\n",
              "        vertical-align: middle;\n",
              "    }\n",
              "\n",
              "    .dataframe tbody tr th {\n",
              "        vertical-align: top;\n",
              "    }\n",
              "\n",
              "    .dataframe thead th {\n",
              "        text-align: right;\n",
              "    }\n",
              "</style>\n",
              "<table border=\"1\" class=\"dataframe\">\n",
              "  <thead>\n",
              "    <tr style=\"text-align: right;\">\n",
              "      <th></th>\n",
              "      <th>name</th>\n",
              "      <th>customer</th>\n",
              "      <th>estimated availability</th>\n",
              "      <th>latitude</th>\n",
              "      <th>longitude</th>\n",
              "    </tr>\n",
              "  </thead>\n",
              "  <tbody>\n",
              "    <tr>\n",
              "      <th>0</th>\n",
              "      <td>Downtown Toronto (Central Bay Street)</td>\n",
              "      <td>North York (Armour Heights / Wilson Heights / ...</td>\n",
              "      <td>2022-04-02 17:17:00</td>\n",
              "      <td>43.6564</td>\n",
              "      <td>-79.3860</td>\n",
              "    </tr>\n",
              "    <tr>\n",
              "      <th>1</th>\n",
              "      <td>Downtown Toronto (Christie)</td>\n",
              "      <td>West Toronto (Brockton / Parkdale Village / Ex...</td>\n",
              "      <td>2022-04-02 17:49:00</td>\n",
              "      <td>43.6683</td>\n",
              "      <td>-79.4205</td>\n",
              "    </tr>\n",
              "    <tr>\n",
              "      <th>2</th>\n",
              "      <td>Downtown Toronto (Ryerson)</td>\n",
              "      <td>York (Fairbank / Oakwood)</td>\n",
              "      <td>2022-04-02 18:17:00</td>\n",
              "      <td>43.6572</td>\n",
              "      <td>-79.3783</td>\n",
              "    </tr>\n",
              "    <tr>\n",
              "      <th>3</th>\n",
              "      <td>Downtown Toronto (St. James Park)</td>\n",
              "      <td>East Toronto (The Beaches)</td>\n",
              "      <td>2022-04-02 17:53:00</td>\n",
              "      <td>43.6513</td>\n",
              "      <td>-79.3756</td>\n",
              "    </tr>\n",
              "    <tr>\n",
              "      <th>4</th>\n",
              "      <td>Downtown Toronto (Kensington Market / Chinatow...</td>\n",
              "      <td>Downtown Toronto (Central Bay Street)</td>\n",
              "      <td>2022-04-02 17:24:00</td>\n",
              "      <td>43.6541</td>\n",
              "      <td>-79.3978</td>\n",
              "    </tr>\n",
              "  </tbody>\n",
              "</table>\n",
              "</div>"
            ],
            "text/plain": [
              "                                                name  \\\n",
              "0              Downtown Toronto (Central Bay Street)   \n",
              "1                        Downtown Toronto (Christie)   \n",
              "2                         Downtown Toronto (Ryerson)   \n",
              "3                  Downtown Toronto (St. James Park)   \n",
              "4  Downtown Toronto (Kensington Market / Chinatow...   \n",
              "\n",
              "                                            customer estimated availability  \\\n",
              "0  North York (Armour Heights / Wilson Heights / ...    2022-04-02 17:17:00   \n",
              "1  West Toronto (Brockton / Parkdale Village / Ex...    2022-04-02 17:49:00   \n",
              "2                          York (Fairbank / Oakwood)    2022-04-02 18:17:00   \n",
              "3                         East Toronto (The Beaches)    2022-04-02 17:53:00   \n",
              "4              Downtown Toronto (Central Bay Street)    2022-04-02 17:24:00   \n",
              "\n",
              "   latitude  longitude  \n",
              "0   43.6564   -79.3860  \n",
              "1   43.6683   -79.4205  \n",
              "2   43.6572   -79.3783  \n",
              "3   43.6513   -79.3756  \n",
              "4   43.6541   -79.3978  "
            ]
          },
          "execution_count": 545,
          "metadata": {},
          "output_type": "execute_result"
        }
      ],
      "source": [
        "df_1['estimated availability'] = pd.to_datetime(df_1['estimated availability'])\n",
        "df_1"
      ],
      "id": "eriW5K9MB12L"
    },
    {
      "cell_type": "code",
      "execution_count": null,
      "metadata": {
        "id": "kVFJz2_3B12L"
      },
      "outputs": [],
      "source": [
        "df_2=df_1.copy()\n",
        "df_2=df_2.drop(columns=['name','customer','estimated availability'])"
      ],
      "id": "kVFJz2_3B12L"
    },
    {
      "cell_type": "code",
      "execution_count": null,
      "metadata": {
        "id": "OAnyZ9WEB12L",
        "outputId": "4e9eb1cd-64db-4291-aff4-134e6a84a6c7"
      },
      "outputs": [
        {
          "data": {
            "text/html": [
              "<div>\n",
              "<style scoped>\n",
              "    .dataframe tbody tr th:only-of-type {\n",
              "        vertical-align: middle;\n",
              "    }\n",
              "\n",
              "    .dataframe tbody tr th {\n",
              "        vertical-align: top;\n",
              "    }\n",
              "\n",
              "    .dataframe thead th {\n",
              "        text-align: right;\n",
              "    }\n",
              "</style>\n",
              "<table border=\"1\" class=\"dataframe\">\n",
              "  <thead>\n",
              "    <tr style=\"text-align: right;\">\n",
              "      <th></th>\n",
              "      <th>0</th>\n",
              "      <th>1</th>\n",
              "    </tr>\n",
              "  </thead>\n",
              "  <tbody>\n",
              "    <tr>\n",
              "      <th>0</th>\n",
              "      <td>0.300000</td>\n",
              "      <td>0.768374</td>\n",
              "    </tr>\n",
              "    <tr>\n",
              "      <th>1</th>\n",
              "      <td>1.000000</td>\n",
              "      <td>0.000000</td>\n",
              "    </tr>\n",
              "    <tr>\n",
              "      <th>2</th>\n",
              "      <td>0.347059</td>\n",
              "      <td>0.939866</td>\n",
              "    </tr>\n",
              "    <tr>\n",
              "      <th>3</th>\n",
              "      <td>0.000000</td>\n",
              "      <td>1.000000</td>\n",
              "    </tr>\n",
              "    <tr>\n",
              "      <th>4</th>\n",
              "      <td>0.164706</td>\n",
              "      <td>0.505568</td>\n",
              "    </tr>\n",
              "  </tbody>\n",
              "</table>\n",
              "</div>"
            ],
            "text/plain": [
              "          0         1\n",
              "0  0.300000  0.768374\n",
              "1  1.000000  0.000000\n",
              "2  0.347059  0.939866\n",
              "3  0.000000  1.000000\n",
              "4  0.164706  0.505568"
            ]
          },
          "execution_count": 547,
          "metadata": {},
          "output_type": "execute_result"
        }
      ],
      "source": [
        "scaler = preprocessing.MinMaxScaler()\n",
        "scaled_df = scaler.fit_transform(df_2)\n",
        "#Converting the numpy array into a pandas DataFrame\n",
        "scaled_df = pd.DataFrame(scaled_df)\n",
        "scaled_df.head(5)"
      ],
      "id": "OAnyZ9WEB12L"
    },
    {
      "cell_type": "code",
      "execution_count": null,
      "metadata": {
        "id": "tnr6ffNAB12L"
      },
      "outputs": [],
      "source": [
        "scaled_df.columns=['latitude','longitude']"
      ],
      "id": "tnr6ffNAB12L"
    },
    {
      "cell_type": "code",
      "execution_count": null,
      "metadata": {
        "id": "dMSkcHBlB12L",
        "outputId": "e9b8afa5-03ed-48c8-e208-9acaf87c8575"
      },
      "outputs": [
        {
          "data": {
            "text/plain": [
              "array([[0.3       , 0.76837416],\n",
              "       [1.        , 0.        ],\n",
              "       [0.34705882, 0.93986637],\n",
              "       [0.        , 1.        ],\n",
              "       [0.16470588, 0.50556793]])"
            ]
          },
          "execution_count": 549,
          "metadata": {},
          "output_type": "execute_result"
        }
      ],
      "source": [
        "x_array = scaled_df.values\n",
        "x_array"
      ],
      "id": "dMSkcHBlB12L"
    },
    {
      "cell_type": "code",
      "execution_count": null,
      "metadata": {
        "id": "mAMdgKyHB12L"
      },
      "outputs": [],
      "source": [
        "ks = range(1,6)\n",
        "inertias = []\n",
        "centroids = []\n",
        "scaler = StandardScaler()"
      ],
      "id": "mAMdgKyHB12L"
    },
    {
      "cell_type": "code",
      "execution_count": null,
      "metadata": {
        "id": "kiBwARXxB12L",
        "outputId": "9fdc1b58-165a-41ed-a7d6-848ebcb3f05e"
      },
      "outputs": [
        {
          "name": "stderr",
          "output_type": "stream",
          "text": [
            "Z:\\ProgramData\\Anaconda3\\lib\\site-packages\\sklearn\\cluster\\_kmeans.py:1036: UserWarning: KMeans is known to have a memory leak on Windows with MKL, when there are less chunks than available threads. You can avoid it by setting the environment variable OMP_NUM_THREADS=1.\n",
            "  warnings.warn(\n"
          ]
        }
      ],
      "source": [
        "for k in ks:\n",
        "    model = KMeans(n_clusters = k)\n",
        "    pipeline = make_pipeline(scaler,model)\n",
        "    pipeline.fit(scaled_df)\n",
        "    inertias.append(pipeline.named_steps['kmeans'].inertia_)\n",
        "    centroids.append(pipeline.named_steps['kmeans'].cluster_centers_)"
      ],
      "id": "kiBwARXxB12L"
    },
    {
      "cell_type": "code",
      "execution_count": null,
      "metadata": {
        "id": "DXHJp5iUB12M",
        "outputId": "d4370d54-b839-4bf8-e7ab-74cd23ad3e7f"
      },
      "outputs": [
        {
          "data": {
            "text/plain": [
              "([<matplotlib.axis.XTick at 0x21ceb804d30>,\n",
              "  <matplotlib.axis.XTick at 0x21ceb804b50>,\n",
              "  <matplotlib.axis.XTick at 0x21ceb098c10>,\n",
              "  <matplotlib.axis.XTick at 0x21cebbafaf0>,\n",
              "  <matplotlib.axis.XTick at 0x21cebbc3d00>],\n",
              " [Text(0, 0, ''),\n",
              "  Text(0, 0, ''),\n",
              "  Text(0, 0, ''),\n",
              "  Text(0, 0, ''),\n",
              "  Text(0, 0, '')])"
            ]
          },
          "execution_count": 552,
          "metadata": {},
          "output_type": "execute_result"
        },
        {
          "data": {
            "image/png": "[encoded data removed]",
            "text/plain": [
              "<Figure size 432x288 with 1 Axes>"
            ]
          },
          "metadata": {},
          "output_type": "display_data"
        }
      ],
      "source": [
        "plt.plot(ks, inertias, '-o')\n",
        "plt.xlabel('numer of clusters, k')\n",
        "plt.ylabel('inertia')\n",
        "plt.xticks(ks)"
      ],
      "id": "DXHJp5iUB12M"
    },
    {
      "cell_type": "markdown",
      "metadata": {
        "id": "KFpp97UPB12M"
      },
      "source": [
        "#### --> 2 clusters"
      ],
      "id": "KFpp97UPB12M"
    },
    {
      "cell_type": "code",
      "execution_count": null,
      "metadata": {
        "id": "EFby0FpvB12M"
      },
      "outputs": [],
      "source": [
        "model=KMeans(n_clusters=2, random_state=1)"
      ],
      "id": "EFby0FpvB12M"
    },
    {
      "cell_type": "code",
      "execution_count": null,
      "metadata": {
        "id": "4qGkgGnJB12M",
        "outputId": "6b2a88ba-1275-4983-a942-9a1825138d20"
      },
      "outputs": [
        {
          "data": {
            "text/plain": [
              "KMeans(n_clusters=2, random_state=1)"
            ]
          },
          "execution_count": 554,
          "metadata": {},
          "output_type": "execute_result"
        }
      ],
      "source": [
        "model.fit(scaled_df)"
      ],
      "id": "4qGkgGnJB12M"
    },
    {
      "cell_type": "code",
      "execution_count": null,
      "metadata": {
        "id": "oMFjGgRsB12M",
        "outputId": "d5ae9d68-cb50-4bdc-ee8a-dfabc71bd5eb"
      },
      "outputs": [
        {
          "data": {
            "text/plain": [
              "array([0, 1, 0, 0, 0])"
            ]
          },
          "execution_count": 555,
          "metadata": {},
          "output_type": "execute_result"
        }
      ],
      "source": [
        "labels=model.predict(scaled_df)\n",
        "labels"
      ],
      "id": "oMFjGgRsB12M"
    },
    {
      "cell_type": "code",
      "execution_count": null,
      "metadata": {
        "id": "8xCeFcRFB12M",
        "outputId": "60650ada-90de-4cf1-9cad-45ac9c960fe4"
      },
      "outputs": [
        {
          "data": {
            "text/html": [
              "<div>\n",
              "<style scoped>\n",
              "    .dataframe tbody tr th:only-of-type {\n",
              "        vertical-align: middle;\n",
              "    }\n",
              "\n",
              "    .dataframe tbody tr th {\n",
              "        vertical-align: top;\n",
              "    }\n",
              "\n",
              "    .dataframe thead th {\n",
              "        text-align: right;\n",
              "    }\n",
              "</style>\n",
              "<table border=\"1\" class=\"dataframe\">\n",
              "  <thead>\n",
              "    <tr style=\"text-align: right;\">\n",
              "      <th></th>\n",
              "      <th>name</th>\n",
              "      <th>customer</th>\n",
              "      <th>estimated availability</th>\n",
              "      <th>latitude</th>\n",
              "      <th>longitude</th>\n",
              "      <th>label</th>\n",
              "    </tr>\n",
              "  </thead>\n",
              "  <tbody>\n",
              "    <tr>\n",
              "      <th>0</th>\n",
              "      <td>Downtown Toronto (Central Bay Street)</td>\n",
              "      <td>North York (Armour Heights / Wilson Heights / ...</td>\n",
              "      <td>2022-04-02 17:17:00</td>\n",
              "      <td>43.6564</td>\n",
              "      <td>-79.3860</td>\n",
              "      <td>0</td>\n",
              "    </tr>\n",
              "    <tr>\n",
              "      <th>1</th>\n",
              "      <td>Downtown Toronto (Christie)</td>\n",
              "      <td>West Toronto (Brockton / Parkdale Village / Ex...</td>\n",
              "      <td>2022-04-02 17:49:00</td>\n",
              "      <td>43.6683</td>\n",
              "      <td>-79.4205</td>\n",
              "      <td>1</td>\n",
              "    </tr>\n",
              "    <tr>\n",
              "      <th>2</th>\n",
              "      <td>Downtown Toronto (Ryerson)</td>\n",
              "      <td>York (Fairbank / Oakwood)</td>\n",
              "      <td>2022-04-02 18:17:00</td>\n",
              "      <td>43.6572</td>\n",
              "      <td>-79.3783</td>\n",
              "      <td>0</td>\n",
              "    </tr>\n",
              "    <tr>\n",
              "      <th>3</th>\n",
              "      <td>Downtown Toronto (St. James Park)</td>\n",
              "      <td>East Toronto (The Beaches)</td>\n",
              "      <td>2022-04-02 17:53:00</td>\n",
              "      <td>43.6513</td>\n",
              "      <td>-79.3756</td>\n",
              "      <td>0</td>\n",
              "    </tr>\n",
              "    <tr>\n",
              "      <th>4</th>\n",
              "      <td>Downtown Toronto (Kensington Market / Chinatow...</td>\n",
              "      <td>Downtown Toronto (Central Bay Street)</td>\n",
              "      <td>2022-04-02 17:24:00</td>\n",
              "      <td>43.6541</td>\n",
              "      <td>-79.3978</td>\n",
              "      <td>0</td>\n",
              "    </tr>\n",
              "  </tbody>\n",
              "</table>\n",
              "</div>"
            ],
            "text/plain": [
              "                                                name  \\\n",
              "0              Downtown Toronto (Central Bay Street)   \n",
              "1                        Downtown Toronto (Christie)   \n",
              "2                         Downtown Toronto (Ryerson)   \n",
              "3                  Downtown Toronto (St. James Park)   \n",
              "4  Downtown Toronto (Kensington Market / Chinatow...   \n",
              "\n",
              "                                            customer estimated availability  \\\n",
              "0  North York (Armour Heights / Wilson Heights / ...    2022-04-02 17:17:00   \n",
              "1  West Toronto (Brockton / Parkdale Village / Ex...    2022-04-02 17:49:00   \n",
              "2                          York (Fairbank / Oakwood)    2022-04-02 18:17:00   \n",
              "3                         East Toronto (The Beaches)    2022-04-02 17:53:00   \n",
              "4              Downtown Toronto (Central Bay Street)    2022-04-02 17:24:00   \n",
              "\n",
              "   latitude  longitude  label  \n",
              "0   43.6564   -79.3860      0  \n",
              "1   43.6683   -79.4205      1  \n",
              "2   43.6572   -79.3783      0  \n",
              "3   43.6513   -79.3756      0  \n",
              "4   43.6541   -79.3978      0  "
            ]
          },
          "execution_count": 556,
          "metadata": {},
          "output_type": "execute_result"
        }
      ],
      "source": [
        "#add labels to original data set\n",
        "df_3=df_1.copy()\n",
        "df_3['label']=labels\n",
        "df_3"
      ],
      "id": "8xCeFcRFB12M"
    },
    {
      "cell_type": "code",
      "execution_count": null,
      "metadata": {
        "id": "0tanNSNGB12M",
        "outputId": "c0f270e9-43bd-48bb-f263-794dc8bfa324"
      },
      "outputs": [
        {
          "data": {
            "text/html": [
              "<div>\n",
              "<style scoped>\n",
              "    .dataframe tbody tr th:only-of-type {\n",
              "        vertical-align: middle;\n",
              "    }\n",
              "\n",
              "    .dataframe tbody tr th {\n",
              "        vertical-align: top;\n",
              "    }\n",
              "\n",
              "    .dataframe thead th {\n",
              "        text-align: right;\n",
              "    }\n",
              "</style>\n",
              "<table border=\"1\" class=\"dataframe\">\n",
              "  <thead>\n",
              "    <tr style=\"text-align: right;\">\n",
              "      <th></th>\n",
              "      <th>label</th>\n",
              "      <th>latitude</th>\n",
              "      <th>longitude</th>\n",
              "    </tr>\n",
              "  </thead>\n",
              "  <tbody>\n",
              "    <tr>\n",
              "      <th>0</th>\n",
              "      <td>0</td>\n",
              "      <td>43.65475</td>\n",
              "      <td>-79.384425</td>\n",
              "    </tr>\n",
              "    <tr>\n",
              "      <th>1</th>\n",
              "      <td>1</td>\n",
              "      <td>43.66830</td>\n",
              "      <td>-79.420500</td>\n",
              "    </tr>\n",
              "  </tbody>\n",
              "</table>\n",
              "</div>"
            ],
            "text/plain": [
              "   label  latitude  longitude\n",
              "0      0  43.65475 -79.384425\n",
              "1      1  43.66830 -79.420500"
            ]
          },
          "execution_count": 557,
          "metadata": {},
          "output_type": "execute_result"
        }
      ],
      "source": [
        "#find the center of each cluster\n",
        "df_4=df_3.groupby(['label']).agg({'latitude': 'mean','longitude':'mean'})\n",
        "df_4.reset_index()"
      ],
      "id": "0tanNSNGB12M"
    },
    {
      "cell_type": "code",
      "execution_count": null,
      "metadata": {
        "scrolled": false,
        "id": "W9BYYQTTB12N",
        "outputId": "3649672f-08a9-43b3-d0c0-d5c93153ce55"
      },
      "outputs": [
        {
          "data": {
            "text/html": [
              "<div>\n",
              "<style scoped>\n",
              "    .dataframe tbody tr th:only-of-type {\n",
              "        vertical-align: middle;\n",
              "    }\n",
              "\n",
              "    .dataframe tbody tr th {\n",
              "        vertical-align: top;\n",
              "    }\n",
              "\n",
              "    .dataframe thead th {\n",
              "        text-align: right;\n",
              "    }\n",
              "</style>\n",
              "<table border=\"1\" class=\"dataframe\">\n",
              "  <thead>\n",
              "    <tr style=\"text-align: right;\">\n",
              "      <th></th>\n",
              "      <th>name</th>\n",
              "      <th>velocity</th>\n",
              "      <th>latitude</th>\n",
              "      <th>longitude</th>\n",
              "    </tr>\n",
              "  </thead>\n",
              "  <tbody>\n",
              "    <tr>\n",
              "      <th>0</th>\n",
              "      <td>Downtown Toronto (Richmond / Adelaide / King)</td>\n",
              "      <td>40</td>\n",
              "      <td>43.6496</td>\n",
              "      <td>-79.3833</td>\n",
              "    </tr>\n",
              "    <tr>\n",
              "      <th>1</th>\n",
              "      <td>Downtown Toronto (St. James Park)</td>\n",
              "      <td>35</td>\n",
              "      <td>43.6513</td>\n",
              "      <td>-79.3756</td>\n",
              "    </tr>\n",
              "    <tr>\n",
              "      <th>2</th>\n",
              "      <td>Downtown Toronto (Church and Wellesley)</td>\n",
              "      <td>32</td>\n",
              "      <td>43.6656</td>\n",
              "      <td>-79.3830</td>\n",
              "    </tr>\n",
              "  </tbody>\n",
              "</table>\n",
              "</div>"
            ],
            "text/plain": [
              "                                            name  velocity  latitude  \\\n",
              "0  Downtown Toronto (Richmond / Adelaide / King)        40   43.6496   \n",
              "1              Downtown Toronto (St. James Park)        35   43.6513   \n",
              "2        Downtown Toronto (Church and Wellesley)        32   43.6656   \n",
              "\n",
              "   longitude  \n",
              "0   -79.3833  \n",
              "1   -79.3756  \n",
              "2   -79.3830  "
            ]
          },
          "execution_count": 558,
          "metadata": {},
          "output_type": "execute_result"
        }
      ],
      "source": [
        "#find drivers' long lat\n",
        "dfDrivers_2=dfDrivers.copy()\n",
        "dfDrivers_2=dfDrivers_2.rename(columns={'start region':'name'})\n",
        "dfDrivers_2=pd.merge(dfDrivers_2,dfRegions[['name','latitude','longitude']],on='name',how='left')\n",
        "dfDrivers_2"
      ],
      "id": "W9BYYQTTB12N"
    },
    {
      "cell_type": "code",
      "execution_count": null,
      "metadata": {
        "id": "GcOWDlWOB12N"
      },
      "outputs": [],
      "source": [
        "#calculate the distance\n",
        "dfDrivers_2['c1']=0\n",
        "dfDrivers_2['c2']=0"
      ],
      "id": "GcOWDlWOB12N"
    },
    {
      "cell_type": "code",
      "execution_count": null,
      "metadata": {
        "scrolled": true,
        "id": "FFIyATO_B12N"
      },
      "outputs": [],
      "source": [
        "for i in range(2):\n",
        "    for j in range(len(dfDrivers_2['name'])):\n",
        "        coords_1 = (df_4.loc[i,'latitude'], df_4.loc[i,'longitude'])\n",
        "        coords_2 = (dfDrivers_2.loc[j,'latitude'], dfDrivers_2.loc[j,'longitude'])\n",
        "        dfDrivers_2.iloc[[j],[i+4]]=geopy.distance.geodesic(coords_1, coords_2).km\n",
        "        #print(k)\n",
        "\n",
        "#dfDrivers_2.iloc[[j],[i+4]]=\n",
        "#print geopy.distance.geodesic(coords_1, coords_2).km"
      ],
      "id": "FFIyATO_B12N"
    },
    {
      "cell_type": "code",
      "execution_count": null,
      "metadata": {
        "scrolled": false,
        "id": "_f_86Y-oB12N",
        "outputId": "a65498ca-a7bb-4051-dbda-ec2ca85352e7"
      },
      "outputs": [
        {
          "data": {
            "text/html": [
              "<div>\n",
              "<style scoped>\n",
              "    .dataframe tbody tr th:only-of-type {\n",
              "        vertical-align: middle;\n",
              "    }\n",
              "\n",
              "    .dataframe tbody tr th {\n",
              "        vertical-align: top;\n",
              "    }\n",
              "\n",
              "    .dataframe thead th {\n",
              "        text-align: right;\n",
              "    }\n",
              "</style>\n",
              "<table border=\"1\" class=\"dataframe\">\n",
              "  <thead>\n",
              "    <tr style=\"text-align: right;\">\n",
              "      <th></th>\n",
              "      <th>name</th>\n",
              "      <th>velocity</th>\n",
              "      <th>latitude</th>\n",
              "      <th>longitude</th>\n",
              "      <th>c1</th>\n",
              "      <th>c2</th>\n",
              "    </tr>\n",
              "  </thead>\n",
              "  <tbody>\n",
              "    <tr>\n",
              "      <th>0</th>\n",
              "      <td>Downtown Toronto (Richmond / Adelaide / King)</td>\n",
              "      <td>40</td>\n",
              "      <td>43.6496</td>\n",
              "      <td>-79.3833</td>\n",
              "      <td>0.579346</td>\n",
              "      <td>3.649792</td>\n",
              "    </tr>\n",
              "    <tr>\n",
              "      <th>1</th>\n",
              "      <td>Downtown Toronto (St. James Park)</td>\n",
              "      <td>35</td>\n",
              "      <td>43.6513</td>\n",
              "      <td>-79.3756</td>\n",
              "      <td>0.808564</td>\n",
              "      <td>4.084700</td>\n",
              "    </tr>\n",
              "    <tr>\n",
              "      <th>2</th>\n",
              "      <td>Downtown Toronto (Church and Wellesley)</td>\n",
              "      <td>32</td>\n",
              "      <td>43.6656</td>\n",
              "      <td>-79.3830</td>\n",
              "      <td>1.210963</td>\n",
              "      <td>3.039346</td>\n",
              "    </tr>\n",
              "  </tbody>\n",
              "</table>\n",
              "</div>"
            ],
            "text/plain": [
              "                                            name  velocity  latitude  \\\n",
              "0  Downtown Toronto (Richmond / Adelaide / King)        40   43.6496   \n",
              "1              Downtown Toronto (St. James Park)        35   43.6513   \n",
              "2        Downtown Toronto (Church and Wellesley)        32   43.6656   \n",
              "\n",
              "   longitude        c1        c2  \n",
              "0   -79.3833  0.579346  3.649792  \n",
              "1   -79.3756  0.808564  4.084700  \n",
              "2   -79.3830  1.210963  3.039346  "
            ]
          },
          "execution_count": 561,
          "metadata": {},
          "output_type": "execute_result"
        }
      ],
      "source": [
        "dfDrivers_2"
      ],
      "id": "_f_86Y-oB12N"
    },
    {
      "cell_type": "markdown",
      "id": "a25a7243",
      "metadata": {
        "id": "a25a7243"
      },
      "source": [
        "#### For each cluster get the top two closet drivers if there are more than two restaurants in the cluster, other wise, get one "
      ]
    },
    {
      "cell_type": "code",
      "execution_count": null,
      "id": "4320b128",
      "metadata": {
        "id": "4320b128",
        "outputId": "b1df06dd-6bd7-45d3-9499-73dea79c79be"
      },
      "outputs": [
        {
          "name": "stdout",
          "output_type": "stream",
          "text": [
            "0    0.579346\n",
            "1    0.808564\n",
            "Name: c1, dtype: float64\n"
          ]
        }
      ],
      "source": [
        "if (labels == 0).sum() < 2:\n",
        "    print(dfDrivers_2['c1'].nsmallest(1))\n",
        "else:\n",
        "    print(dfDrivers_2['c1'].nsmallest(2))"
      ]
    },
    {
      "cell_type": "code",
      "execution_count": null,
      "id": "0202399f",
      "metadata": {
        "id": "0202399f",
        "outputId": "57befb87-4c90-4046-d8e5-ba7115177418"
      },
      "outputs": [
        {
          "name": "stdout",
          "output_type": "stream",
          "text": [
            "2    3.039346\n",
            "Name: c2, dtype: float64\n"
          ]
        }
      ],
      "source": [
        "if (labels == 1).sum() < 2:\n",
        "    print(dfDrivers_2['c2'].nsmallest(1))\n",
        "else:\n",
        "    print(dfDrivers_2['c2'].nsmallest(2))"
      ]
    },
    {
      "cell_type": "markdown",
      "id": "881813e4",
      "metadata": {
        "id": "881813e4"
      },
      "source": [
        "#### Going to use drivers 0,1 for cluster 0; drivers 2 for cluster 1\n",
        "\n",
        "below are driver table created for each cluster"
      ]
    },
    {
      "cell_type": "code",
      "execution_count": null,
      "id": "67e1a454",
      "metadata": {
        "id": "67e1a454",
        "outputId": "50819b81-e654-4066-b43c-58922164e61d"
      },
      "outputs": [
        {
          "data": {
            "text/html": [
              "<div>\n",
              "<style scoped>\n",
              "    .dataframe tbody tr th:only-of-type {\n",
              "        vertical-align: middle;\n",
              "    }\n",
              "\n",
              "    .dataframe tbody tr th {\n",
              "        vertical-align: top;\n",
              "    }\n",
              "\n",
              "    .dataframe thead th {\n",
              "        text-align: right;\n",
              "    }\n",
              "</style>\n",
              "<table border=\"1\" class=\"dataframe\">\n",
              "  <thead>\n",
              "    <tr style=\"text-align: right;\">\n",
              "      <th></th>\n",
              "      <th>name</th>\n",
              "      <th>velocity</th>\n",
              "      <th>latitude</th>\n",
              "      <th>longitude</th>\n",
              "      <th>c1</th>\n",
              "      <th>c2</th>\n",
              "    </tr>\n",
              "  </thead>\n",
              "  <tbody>\n",
              "    <tr>\n",
              "      <th>0</th>\n",
              "      <td>Downtown Toronto (Richmond / Adelaide / King)</td>\n",
              "      <td>40</td>\n",
              "      <td>43.6496</td>\n",
              "      <td>-79.3833</td>\n",
              "      <td>0.579346</td>\n",
              "      <td>3.649792</td>\n",
              "    </tr>\n",
              "    <tr>\n",
              "      <th>1</th>\n",
              "      <td>Downtown Toronto (St. James Park)</td>\n",
              "      <td>35</td>\n",
              "      <td>43.6513</td>\n",
              "      <td>-79.3756</td>\n",
              "      <td>0.808564</td>\n",
              "      <td>4.084700</td>\n",
              "    </tr>\n",
              "  </tbody>\n",
              "</table>\n",
              "</div>"
            ],
            "text/plain": [
              "                                            name  velocity  latitude  \\\n",
              "0  Downtown Toronto (Richmond / Adelaide / King)        40   43.6496   \n",
              "1              Downtown Toronto (St. James Park)        35   43.6513   \n",
              "\n",
              "   longitude        c1        c2  \n",
              "0   -79.3833  0.579346  3.649792  \n",
              "1   -79.3756  0.808564  4.084700  "
            ]
          },
          "execution_count": 564,
          "metadata": {},
          "output_type": "execute_result"
        }
      ],
      "source": [
        "dfDrivers_cluster0 = dfDrivers_2.loc[[0,1]]\n",
        "dfDrivers_cluster0"
      ]
    },
    {
      "cell_type": "code",
      "execution_count": null,
      "id": "3d77f3f6",
      "metadata": {
        "id": "3d77f3f6",
        "outputId": "558677dc-6eb5-484d-fcd2-b84780039eba"
      },
      "outputs": [
        {
          "data": {
            "text/html": [
              "<div>\n",
              "<style scoped>\n",
              "    .dataframe tbody tr th:only-of-type {\n",
              "        vertical-align: middle;\n",
              "    }\n",
              "\n",
              "    .dataframe tbody tr th {\n",
              "        vertical-align: top;\n",
              "    }\n",
              "\n",
              "    .dataframe thead th {\n",
              "        text-align: right;\n",
              "    }\n",
              "</style>\n",
              "<table border=\"1\" class=\"dataframe\">\n",
              "  <thead>\n",
              "    <tr style=\"text-align: right;\">\n",
              "      <th></th>\n",
              "      <th>name</th>\n",
              "      <th>velocity</th>\n",
              "      <th>latitude</th>\n",
              "      <th>longitude</th>\n",
              "      <th>c1</th>\n",
              "      <th>c2</th>\n",
              "    </tr>\n",
              "  </thead>\n",
              "  <tbody>\n",
              "    <tr>\n",
              "      <th>2</th>\n",
              "      <td>Downtown Toronto (Church and Wellesley)</td>\n",
              "      <td>32</td>\n",
              "      <td>43.6656</td>\n",
              "      <td>-79.383</td>\n",
              "      <td>1.210963</td>\n",
              "      <td>3.039346</td>\n",
              "    </tr>\n",
              "  </tbody>\n",
              "</table>\n",
              "</div>"
            ],
            "text/plain": [
              "                                      name  velocity  latitude  longitude  \\\n",
              "2  Downtown Toronto (Church and Wellesley)        32   43.6656    -79.383   \n",
              "\n",
              "         c1        c2  \n",
              "2  1.210963  3.039346  "
            ]
          },
          "execution_count": 565,
          "metadata": {},
          "output_type": "execute_result"
        }
      ],
      "source": [
        "dfDrivers_cluster1 = dfDrivers_2.loc[[2]]\n",
        "dfDrivers_cluster1"
      ]
    },
    {
      "cell_type": "markdown",
      "id": "83dbe775",
      "metadata": {
        "id": "83dbe775"
      },
      "source": [
        "# Run Model by Clusters (Model from Part 3 will be used)\n",
        "\n",
        "cluster_optiaml_distances will be created to store the optimal distance from each cluster\n",
        "\n",
        "total_distance will be the total distance of three clusters"
      ]
    },
    {
      "cell_type": "code",
      "execution_count": null,
      "id": "c8002158",
      "metadata": {
        "id": "c8002158"
      },
      "outputs": [],
      "source": [
        "cluster_optiaml_distances = []\n",
        "total_distance = 0"
      ]
    },
    {
      "cell_type": "markdown",
      "id": "32097508",
      "metadata": {
        "id": "32097508"
      },
      "source": [
        "### Create Orders table for each cluster"
      ]
    },
    {
      "cell_type": "code",
      "execution_count": null,
      "id": "82d55d5c",
      "metadata": {
        "id": "82d55d5c"
      },
      "outputs": [],
      "source": [
        "#cluster 0\n",
        "dfOrdersA=dfOrders.copy()\n",
        "dfOrdersA['label']=labels\n",
        "dfOrdersA=dfOrdersA[dfOrdersA['label']==0]\n",
        "dfOrdersA=dfOrdersA.drop(columns=['label'])\n",
        "dfOrdersA=dfOrdersA.rename(columns={'name':'restaurant'})\n",
        "dfOrdersA=dfOrdersA.set_index('restaurant')\n",
        "\n",
        "#cluster 1\n",
        "dfOrdersB=dfOrders.copy()\n",
        "dfOrdersB['label']=labels\n",
        "dfOrdersB=dfOrdersB[dfOrdersB['label']==1]\n",
        "dfOrdersB=dfOrdersB.drop(columns=['label'])\n",
        "dfOrdersB=dfOrdersB.rename(columns={'name':'restaurant'})\n",
        "dfOrdersB=dfOrdersB.set_index('restaurant')"
      ]
    },
    {
      "cell_type": "markdown",
      "metadata": {
        "id": "_yJYPploB12P"
      },
      "source": [
        "## Use for loop to run the model on each cluster (functions are created earlier)"
      ],
      "id": "_yJYPploB12P"
    },
    {
      "cell_type": "code",
      "execution_count": null,
      "id": "2fcc2c6b",
      "metadata": {
        "id": "2fcc2c6b",
        "outputId": "8b1e0f9e-7844-423b-f0de-a0e417483f4f"
      },
      "outputs": [
        {
          "name": "stdout",
          "output_type": "stream",
          "text": [
            "Running model on cluster 0\n",
            "Status: Optimal\n",
            "Time elapsed: 2.0736026763916016\n",
            "Total distance:24.08878431774695\n",
            "\n",
            "Driver: 1\n",
            "step 1\n",
            "\n",
            "step 2\n",
            "\n",
            "step 3\n",
            "Driving from Downtown Toronto (Richmond / Adelaide / King) To \n",
            "Downtown Toronto (Kensington Market / Chinatown / Grange Park) for pickup\n",
            "\n",
            "step 4\n",
            "Driving from Downtown Toronto (Kensington Market / Chinatown / Grange Park) To \n",
            "Downtown Toronto (Central Bay Street) for pickup\n",
            "\n",
            "step 5\n",
            "Driving from Downtown Toronto (Central Bay Street) To \n",
            "Downtown Toronto (Central Bay Street) for delivery\n",
            "Customer wait time is 1.4747411 minutes\n",
            "\n",
            "step 6\n",
            "Driving from Downtown Toronto (Central Bay Street) To \n",
            "Downtown Toronto (Ryerson) for pickup\n",
            "\n",
            "step 7\n",
            "Driving from Downtown Toronto (Ryerson) To \n",
            "York (Fairbank / Oakwood) for delivery\n",
            "Customer wait time is 10.210002 minutes\n",
            "\n",
            "step 8\n",
            "Driving from York (Fairbank / Oakwood) To \n",
            "North York (Armour Heights / Wilson Heights / Downsview North) for delivery\n",
            "Customer wait time is 85.993062 minutes\n",
            "\n",
            "Driver: 2\n",
            "step 1\n",
            "\n",
            "step 2\n",
            "\n",
            "step 3\n",
            "\n",
            "step 4\n",
            "\n",
            "step 5\n",
            "\n",
            "step 6\n",
            "\n",
            "step 7\n",
            "Driving from Downtown Toronto (St. James Park) To \n",
            "Downtown Toronto (St. James Park) for pickup\n",
            "\n",
            "step 8\n",
            "Driving from Downtown Toronto (St. James Park) To \n",
            "East Toronto (The Beaches) for delivery\n",
            "Customer wait time is 12.368678 minutes\n",
            "\n",
            "Running model on cluster 1\n",
            "Status: Optimal\n",
            "Time elapsed: 0.037030935287475586\n",
            "Total distance:6.455301548444373\n",
            "\n",
            "1\n",
            "Driving from Downtown Toronto (Church and Wellesley) To \n",
            "Downtown Toronto (Christie) for pickup\n",
            "\n",
            "2\n",
            "Driving from Downtown Toronto (Christie) To \n",
            "West Toronto (Brockton / Parkdale Village / Exhibition Place) for delivery\n",
            "Customer wait time is 6.42018 minutes\n",
            "\n"
          ]
        }
      ],
      "source": [
        "cluster_optiaml_distances = []\n",
        "total_distance = 0\n",
        "wait_times = []\n",
        "W = 120 #set W\n",
        "\n",
        "for i in range(2):\n",
        "    \n",
        "    print ('Running model on cluster ' + str(i))\n",
        "    \n",
        "    #assign orders and drivers table for different clusters ------------------------------------------\n",
        "    if i == 0:\n",
        "        dfOrders_new = dfOrdersA\n",
        "        dfDrivers_new = dfDrivers_cluster0\n",
        "    elif i == 1:\n",
        "        dfOrders_new = dfOrdersB\n",
        "        dfDrivers_new = dfDrivers_cluster1\n",
        "    \n",
        "    \n",
        "    if len(list(dfDrivers_new['name'])) > 1:\n",
        "        #sets-------------------------------------------\n",
        "\n",
        "        #restaurants\n",
        "        restaurants= list(dfOrders_new.index)\n",
        "\n",
        "        #customers\n",
        "        customers=list(dfOrders_new['customer'])\n",
        "\n",
        "        #number of trips\n",
        "        numtrips=len((customers+restaurants))\n",
        "\n",
        "        #estimated availability for orders\n",
        "        order_availability = [getTimeDifference('2022-04-02 0:00 AM', item) for item in list(dfOrders_new['estimated availability'])]\n",
        "\n",
        "        #drivers start region\n",
        "        driversStartRegion =list(dfDrivers_new['name'])\n",
        "\n",
        "        #drivers speed per minute\n",
        "        driversVelocity = list(dfDrivers_new['velocity'])\n",
        "\n",
        "        #drivers list\n",
        "        drivers = list(range(len(driversStartRegion)))\n",
        "\n",
        "        #restaurant-customer list\n",
        "        rescustlist=driversStartRegion+restaurants+customers\n",
        "\n",
        "        #steps\n",
        "        steps = list(range(1, len(rescustlist)-len(drivers)+1))\n",
        "\n",
        "        #starting points\n",
        "        startarc = list(range(len(drivers), len(rescustlist)))\n",
        "\n",
        "        #ending points\n",
        "        endarc = startarc.copy()\n",
        "\n",
        "\n",
        "        # Run Model --------------------------------------------------------------\n",
        "        \n",
        "        #variables: if driver v travelling from resteurant i to customer j at step t\n",
        "        xvar = pulp.LpVariable.dict(\"x\", (drivers + startarc, endarc, drivers, steps), cat=pulp.LpBinary)\n",
        "\n",
        "        #variable: total travel time at each step for each driver\n",
        "        dvar = pulp.LpVariable.dict(\"d\", (steps, drivers), cat=pulp.LpContinuous)\n",
        "\n",
        "        #variable: wait time for each customer \n",
        "        wvar = pulp.LpVariable.dict(\"w\", (endarc), cat=pulp.LpContinuous)\n",
        "\n",
        "        flowModel = initializeModel() #initialize model\n",
        "        createMultipleDriverConstraints(flowModel, W) #create constraints\n",
        "        addMultipleDriverObjective(flowModel) #add objective\n",
        "\n",
        "        # Solve model\n",
        "        flowModel.solve(pulp.PULP_CBC_CMD(timeLimit=150))\n",
        "        print(\"Status:\", pulp.LpStatus[flowModel.status])\n",
        "        print(\"Time elapsed:\", flowModel.solutionTime)\n",
        "        \n",
        "        #Print Solution ----------------------------------------\n",
        "        print(\"Total distance:\" + str(pulp.value(flowModel.objective))+'\\n')\n",
        "\n",
        "        for v in drivers:\n",
        "            print(f'Driver: {drivers[v] + 1}')\n",
        "            for t in steps:\n",
        "                print('step ' + str(t))\n",
        "                for i in (drivers + startarc):\n",
        "                    for j in endarc:\n",
        "                        if xvar[i,j,v,t].varValue and xvar[i,j,v,t].varValue >= 1.0:\n",
        "                            if j < len(drivers + customers):\n",
        "                                if i < len(drivers):\n",
        "                                    print(f'Driving from {rescustlist[v]} To \\n{rescustlist[j]} for pickup')\n",
        "                                else:\n",
        "                                    print(f'Driving from {rescustlist[i]} To \\n{rescustlist[j]} for pickup')\n",
        "                            else:\n",
        "                                print(f'Driving from {rescustlist[i]} To \\n{rescustlist[j]} for delivery') \n",
        "                                print(f'Customer wait time is {wvar[j].varValue} minutes')\n",
        "                                wait_times.append(wvar[j].varValue)\n",
        "                print() \n",
        "    \n",
        "    else:\n",
        "        #sets-------------------------------------------\n",
        "\n",
        "        #resteurants\n",
        "        restaurants= list(dfOrders_new.index)\n",
        "\n",
        "        #customers\n",
        "        customers=list(dfOrders_new['customer'])\n",
        "\n",
        "        #number of trips\n",
        "        numtrips=len((customers+restaurants))\n",
        "\n",
        "        #estimated availability for orders\n",
        "        order_availability = [getTimeDifference('2022-04-02 0:00 AM', item) for item in list(dfOrders_new['estimated availability'])]\n",
        "\n",
        "        #drivers start region\n",
        "        driversStartRegion =list(dfDrivers_new['name'])\n",
        "\n",
        "        #drivers speed per minute\n",
        "        driversVelocity = list(dfDrivers_new['velocity'])\n",
        "\n",
        "        #drivers list\n",
        "        drivers = list(range(len(driversStartRegion)))\n",
        "\n",
        "        #resteurant-customer list\n",
        "        rescustlist=driversStartRegion+restaurants+customers\n",
        "\n",
        "        #steps\n",
        "        steps = list(range(1, len(rescustlist)))\n",
        "\n",
        "        #starting points\n",
        "        startarc = list(range(len(rescustlist)))\n",
        "\n",
        "        #ending points\n",
        "        endarc = steps.copy()\n",
        "        \n",
        "        #variables: if driver travelling from resteurant i to customer j at step t\n",
        "        xvar = pulp.LpVariable.dict(\"x\", (startarc, endarc, steps), cat=pulp.LpBinary)\n",
        "\n",
        "        #variable: total travel time at each step for each driver\n",
        "        dvar = pulp.LpVariable.dict(\"d\", (steps), cat=pulp.LpContinuous)\n",
        "\n",
        "        #variable: wait time for each customer \n",
        "        wvar = pulp.LpVariable.dict(\"w\", (endarc), cat=pulp.LpContinuous)\n",
        "\n",
        "        flowModel = initializeModel() #initialize model\n",
        "        createOneDriverConstraints(flowModel, W) #create constraints\n",
        "        addOneDriverObjective(flowModel) #add objective\n",
        "\n",
        "        # Solve model\n",
        "        flowModel.solve(pulp.PULP_CBC_CMD(timeLimit=150))\n",
        "        print(\"Status:\", pulp.LpStatus[flowModel.status])\n",
        "        print(\"Time elapsed:\", flowModel.solutionTime)\n",
        "        \n",
        "        # Print solution -------------------\n",
        "        print(\"Total distance:\" + str(pulp.value(flowModel.objective))+'\\n')\n",
        "\n",
        "        for t in steps:\n",
        "            print(t)\n",
        "            for i in startarc:\n",
        "                for j in endarc:\n",
        "                    if xvar[i,j,t].varValue >= 1.0:\n",
        "                        if j <= len(customers):\n",
        "                            print(f'Driving from {rescustlist[i]} To \\n{rescustlist[j]} for pickup')\n",
        "                        else:\n",
        "                            print(f'Driving from {rescustlist[i]} To \\n{rescustlist[j]} for delivery') \n",
        "                            print(f'Customer wait time is {wvar[(j)].varValue} minutes')\n",
        "                            wait_times.append(wvar[j].varValue)\n",
        "            print()  \n",
        "    \n",
        "     \n",
        "    \n",
        "    # Store Distance information -------------------------------\n",
        "    cluster_optiaml_distances.append(pulp.value(flowModel.objective))\n",
        "    total_distance += pulp.value(flowModel.objective)\n",
        "    "
      ]
    },
    {
      "cell_type": "code",
      "execution_count": null,
      "id": "c2adcae4",
      "metadata": {
        "scrolled": true,
        "id": "c2adcae4",
        "outputId": "080e23b2-74e0-40e5-9c4b-9fa5dcff879a"
      },
      "outputs": [
        {
          "data": {
            "text/plain": [
              "[24.08878431774695, 6.455301548444373]"
            ]
          },
          "execution_count": 574,
          "metadata": {},
          "output_type": "execute_result"
        }
      ],
      "source": [
        "cluster_optiaml_distances"
      ]
    },
    {
      "cell_type": "markdown",
      "id": "7f59c9b2",
      "metadata": {
        "id": "7f59c9b2"
      },
      "source": [
        "### Total Distance Travelled:"
      ]
    },
    {
      "cell_type": "code",
      "execution_count": null,
      "id": "12f24ad0",
      "metadata": {
        "id": "12f24ad0",
        "outputId": "bbf3f1f2-20bb-4937-9112-98510115712f"
      },
      "outputs": [
        {
          "data": {
            "text/plain": [
              "30.544085866191324"
            ]
          },
          "execution_count": 575,
          "metadata": {},
          "output_type": "execute_result"
        }
      ],
      "source": [
        "total_distance"
      ]
    },
    {
      "cell_type": "markdown",
      "id": "13813244",
      "metadata": {
        "id": "13813244"
      },
      "source": [
        "### Average Wait Time:"
      ]
    },
    {
      "cell_type": "code",
      "execution_count": null,
      "id": "9daea407",
      "metadata": {
        "id": "9daea407",
        "outputId": "aeb0f7db-3303-4d1e-fad9-2a7f6cfec728"
      },
      "outputs": [
        {
          "data": {
            "text/plain": [
              "23.29333262"
            ]
          },
          "execution_count": 571,
          "metadata": {},
          "output_type": "execute_result"
        }
      ],
      "source": [
        "sum(wait_times)/len(wait_times)"
      ]
    }
  ],
  "metadata": {
    "kernelspec": {
      "display_name": "Python 3 (ipykernel)",
      "language": "python",
      "name": "python3"
    },
    "language_info": {
      "codemirror_mode": {
        "name": "ipython",
        "version": 3
      },
      "file_extension": ".py",
      "mimetype": "text/x-python",
      "name": "python",
      "nbconvert_exporter": "python",
      "pygments_lexer": "ipython3",
      "version": "3.9.7"
    },
    "colab": {
      "name": "HotDelivery_Part4.ipynb",
      "provenance": []
    }
  },
  "nbformat": 4,
  "nbformat_minor": 5
}