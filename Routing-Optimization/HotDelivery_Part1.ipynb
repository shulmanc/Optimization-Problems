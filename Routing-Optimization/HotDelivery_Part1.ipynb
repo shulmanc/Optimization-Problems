{
  "cells": [
    {
      "cell_type": "markdown",
      "metadata": {
        "id": "MEJ5p9MTsb4i"
      },
      "source": [
        "# Hot Delivery - Part I\n",
        "Team 3"
      ]
    },
    {
      "cell_type": "markdown",
      "metadata": {
        "id": "iSmMQ4W8sb4l"
      },
      "source": [
        "## Importing Packages"
      ]
    },
    {
      "cell_type": "code",
      "execution_count": null,
      "metadata": {
        "id": "k5YXtELwsb4m"
      },
      "outputs": [],
      "source": [
        "import pandas as pd\n",
        "pd.options.mode.chained_assignment = None  # default='warn'\n",
        "import numpy as np\n",
        "import matplotlib.pyplot as plt\n",
        "import seaborn as sns\n",
        "import pulp\n",
        "from scipy import stats\n",
        "import datetime\n",
        "\n",
        "# Initialize seaborn (for plotting)\n",
        "sns.set()"
      ]
    },
    {
      "cell_type": "markdown",
      "metadata": {
        "id": "uBF7uzb9sb4n"
      },
      "source": [
        "## Loading and Inspecting Data\n"
      ]
    },
    {
      "cell_type": "code",
      "execution_count": null,
      "metadata": {
        "id": "FqnL23X8sb4n",
        "outputId": "a4b3da97-47b9-4479-b347-7f2e082dc343"
      },
      "outputs": [
        {
          "data": {
            "text/html": [
              "<div>\n",
              "<style scoped>\n",
              "    .dataframe tbody tr th:only-of-type {\n",
              "        vertical-align: middle;\n",
              "    }\n",
              "\n",
              "    .dataframe tbody tr th {\n",
              "        vertical-align: top;\n",
              "    }\n",
              "\n",
              "    .dataframe thead th {\n",
              "        text-align: right;\n",
              "    }\n",
              "</style>\n",
              "<table border=\"1\" class=\"dataframe\">\n",
              "  <thead>\n",
              "    <tr style=\"text-align: right;\">\n",
              "      <th></th>\n",
              "      <th>customer</th>\n",
              "    </tr>\n",
              "    <tr>\n",
              "      <th>restaurant</th>\n",
              "      <th></th>\n",
              "    </tr>\n",
              "  </thead>\n",
              "  <tbody>\n",
              "    <tr>\n",
              "      <th>Downtown Toronto (Underground city)</th>\n",
              "      <td>Downtown Toronto (Central Bay Street)</td>\n",
              "    </tr>\n",
              "  </tbody>\n",
              "</table>\n",
              "</div>"
            ],
            "text/plain": [
              "                                                                  customer\n",
              "restaurant                                                                \n",
              "Downtown Toronto (Underground city)  Downtown Toronto (Central Bay Street)"
            ]
          },
          "execution_count": 30,
          "metadata": {},
          "output_type": "execute_result"
        }
      ],
      "source": [
        "#Case 1: orders A\n",
        "\n",
        "dfOrdersA= pd.read_csv(\"part1_ordersA.csv\",index_col=0)\n",
        "dfOrdersA"
      ]
    },
    {
      "cell_type": "code",
      "execution_count": null,
      "metadata": {
        "id": "tksVivVwsb4o",
        "outputId": "70e4c2ee-119c-4559-dd33-b6a1e5a55e52"
      },
      "outputs": [
        {
          "data": {
            "text/html": [
              "<div>\n",
              "<style scoped>\n",
              "    .dataframe tbody tr th:only-of-type {\n",
              "        vertical-align: middle;\n",
              "    }\n",
              "\n",
              "    .dataframe tbody tr th {\n",
              "        vertical-align: top;\n",
              "    }\n",
              "\n",
              "    .dataframe thead th {\n",
              "        text-align: right;\n",
              "    }\n",
              "</style>\n",
              "<table border=\"1\" class=\"dataframe\">\n",
              "  <thead>\n",
              "    <tr style=\"text-align: right;\">\n",
              "      <th></th>\n",
              "      <th>customer</th>\n",
              "    </tr>\n",
              "    <tr>\n",
              "      <th>restaurant</th>\n",
              "      <th></th>\n",
              "    </tr>\n",
              "  </thead>\n",
              "  <tbody>\n",
              "    <tr>\n",
              "      <th>Downtown Toronto (Central Bay Street)</th>\n",
              "      <td>Downtown Toronto (Underground city)</td>\n",
              "    </tr>\n",
              "    <tr>\n",
              "      <th>Etobicoke Northwest (Clairville / Humberwood / Woodbine Downs / West Humber / Kipling Heights / Rexdale / Elms / Tandridge / Old Rexdale)</th>\n",
              "      <td>Etobicoke (South Steeles / Silverstone / Humbe...</td>\n",
              "    </tr>\n",
              "    <tr>\n",
              "      <th>York (Cedarvale)</th>\n",
              "      <td>Central Toronto (The Annex / North Midtown / Y...</td>\n",
              "    </tr>\n",
              "    <tr>\n",
              "      <th>Downtown Toronto (Central Bay Street)</th>\n",
              "      <td>Downtown Toronto (Richmond / Adelaide / King)</td>\n",
              "    </tr>\n",
              "    <tr>\n",
              "      <th>Downtown Toronto (Richmond / Adelaide / King)</th>\n",
              "      <td>Downtown Toronto (St. James Town / Cabbagetown)</td>\n",
              "    </tr>\n",
              "  </tbody>\n",
              "</table>\n",
              "</div>"
            ],
            "text/plain": [
              "                                                                                             customer\n",
              "restaurant                                                                                           \n",
              "Downtown Toronto (Central Bay Street)                             Downtown Toronto (Underground city)\n",
              "Etobicoke Northwest (Clairville / Humberwood / ...  Etobicoke (South Steeles / Silverstone / Humbe...\n",
              "York (Cedarvale)                                    Central Toronto (The Annex / North Midtown / Y...\n",
              "Downtown Toronto (Central Bay Street)                   Downtown Toronto (Richmond / Adelaide / King)\n",
              "Downtown Toronto (Richmond / Adelaide / King)         Downtown Toronto (St. James Town / Cabbagetown)"
            ]
          },
          "execution_count": 31,
          "metadata": {},
          "output_type": "execute_result"
        }
      ],
      "source": [
        "#Case 2: orders B\n",
        "\n",
        "dfOrdersB= pd.read_csv(\"part1_ordersB.csv\",index_col=0)\n",
        "dfOrdersB"
      ]
    },
    {
      "cell_type": "code",
      "execution_count": null,
      "metadata": {
        "id": "JEdDS49Ksb4p",
        "outputId": "defb76c0-968f-413a-a60c-be4b8082dfda"
      },
      "outputs": [
        {
          "data": {
            "text/html": [
              "<div>\n",
              "<style scoped>\n",
              "    .dataframe tbody tr th:only-of-type {\n",
              "        vertical-align: middle;\n",
              "    }\n",
              "\n",
              "    .dataframe tbody tr th {\n",
              "        vertical-align: top;\n",
              "    }\n",
              "\n",
              "    .dataframe thead th {\n",
              "        text-align: right;\n",
              "    }\n",
              "</style>\n",
              "<table border=\"1\" class=\"dataframe\">\n",
              "  <thead>\n",
              "    <tr style=\"text-align: right;\">\n",
              "      <th></th>\n",
              "      <th>origin</th>\n",
              "      <th>destination</th>\n",
              "      <th>distance</th>\n",
              "    </tr>\n",
              "  </thead>\n",
              "  <tbody>\n",
              "    <tr>\n",
              "      <th>0</th>\n",
              "      <td>Scarborough (Malvern / Rouge River)</td>\n",
              "      <td>Scarborough (Rouge Hill / Port Union / Highlan...</td>\n",
              "      <td>3.931478</td>\n",
              "    </tr>\n",
              "    <tr>\n",
              "      <th>1</th>\n",
              "      <td>Scarborough (Malvern / Rouge River)</td>\n",
              "      <td>Scarborough (Guildwood / Morningside / Ellesmere)</td>\n",
              "      <td>4.864191</td>\n",
              "    </tr>\n",
              "    <tr>\n",
              "      <th>2</th>\n",
              "      <td>Scarborough (Malvern / Rouge River)</td>\n",
              "      <td>Scarborough (Woburn)</td>\n",
              "      <td>4.778347</td>\n",
              "    </tr>\n",
              "    <tr>\n",
              "      <th>3</th>\n",
              "      <td>Scarborough (Malvern / Rouge River)</td>\n",
              "      <td>Scarborough (Cedarbrae)</td>\n",
              "      <td>6.009861</td>\n",
              "    </tr>\n",
              "    <tr>\n",
              "      <th>4</th>\n",
              "      <td>Scarborough (Malvern / Rouge River)</td>\n",
              "      <td>Scarborough (Eglinton)</td>\n",
              "      <td>7.876162</td>\n",
              "    </tr>\n",
              "    <tr>\n",
              "      <th>...</th>\n",
              "      <td>...</td>\n",
              "      <td>...</td>\n",
              "      <td>...</td>\n",
              "    </tr>\n",
              "    <tr>\n",
              "      <th>10297</th>\n",
              "      <td>Etobicoke (South Steeles / Silverstone / Humbe...</td>\n",
              "      <td>Etobicoke (Westmount)</td>\n",
              "      <td>6.971037</td>\n",
              "    </tr>\n",
              "    <tr>\n",
              "      <th>10298</th>\n",
              "      <td>Etobicoke Northwest (Clairville / Humberwood /...</td>\n",
              "      <td>Etobicoke (Westmount)</td>\n",
              "      <td>5.185601</td>\n",
              "    </tr>\n",
              "    <tr>\n",
              "      <th>10299</th>\n",
              "      <td>Etobicoke (South Steeles / Silverstone / Humbe...</td>\n",
              "      <td>Etobicoke (Kingsview Village / St. Phillips / ...</td>\n",
              "      <td>6.390667</td>\n",
              "    </tr>\n",
              "    <tr>\n",
              "      <th>10300</th>\n",
              "      <td>Etobicoke Northwest (Clairville / Humberwood /...</td>\n",
              "      <td>Etobicoke (Kingsview Village / St. Phillips / ...</td>\n",
              "      <td>3.793723</td>\n",
              "    </tr>\n",
              "    <tr>\n",
              "      <th>10301</th>\n",
              "      <td>Etobicoke Northwest (Clairville / Humberwood /...</td>\n",
              "      <td>Etobicoke (South Steeles / Silverstone / Humbe...</td>\n",
              "      <td>3.213377</td>\n",
              "    </tr>\n",
              "  </tbody>\n",
              "</table>\n",
              "<p>10302 rows × 3 columns</p>\n",
              "</div>"
            ],
            "text/plain": [
              "                                                  origin  \\\n",
              "0                    Scarborough (Malvern / Rouge River)   \n",
              "1                    Scarborough (Malvern / Rouge River)   \n",
              "2                    Scarborough (Malvern / Rouge River)   \n",
              "3                    Scarborough (Malvern / Rouge River)   \n",
              "4                    Scarborough (Malvern / Rouge River)   \n",
              "...                                                  ...   \n",
              "10297  Etobicoke (South Steeles / Silverstone / Humbe...   \n",
              "10298  Etobicoke Northwest (Clairville / Humberwood /...   \n",
              "10299  Etobicoke (South Steeles / Silverstone / Humbe...   \n",
              "10300  Etobicoke Northwest (Clairville / Humberwood /...   \n",
              "10301  Etobicoke Northwest (Clairville / Humberwood /...   \n",
              "\n",
              "                                             destination  distance  \n",
              "0      Scarborough (Rouge Hill / Port Union / Highlan...  3.931478  \n",
              "1      Scarborough (Guildwood / Morningside / Ellesmere)  4.864191  \n",
              "2                                   Scarborough (Woburn)  4.778347  \n",
              "3                                Scarborough (Cedarbrae)  6.009861  \n",
              "4                                 Scarborough (Eglinton)  7.876162  \n",
              "...                                                  ...       ...  \n",
              "10297                              Etobicoke (Westmount)  6.971037  \n",
              "10298                              Etobicoke (Westmount)  5.185601  \n",
              "10299  Etobicoke (Kingsview Village / St. Phillips / ...  6.390667  \n",
              "10300  Etobicoke (Kingsview Village / St. Phillips / ...  3.793723  \n",
              "10301  Etobicoke (South Steeles / Silverstone / Humbe...  3.213377  \n",
              "\n",
              "[10302 rows x 3 columns]"
            ]
          },
          "execution_count": 32,
          "metadata": {},
          "output_type": "execute_result"
        }
      ],
      "source": [
        "# Average Distance between neighborhoods\n",
        "\n",
        "dfDistance = pd.read_csv(\"distances.csv\")\n",
        "dfDistance"
      ]
    },
    {
      "cell_type": "code",
      "execution_count": null,
      "metadata": {
        "id": "z8AcdIUtsb4p",
        "outputId": "ff6b85ed-307f-4e37-c42d-1068743e2e24"
      },
      "outputs": [
        {
          "data": {
            "text/html": [
              "<div>\n",
              "<style scoped>\n",
              "    .dataframe tbody tr th:only-of-type {\n",
              "        vertical-align: middle;\n",
              "    }\n",
              "\n",
              "    .dataframe tbody tr th {\n",
              "        vertical-align: top;\n",
              "    }\n",
              "\n",
              "    .dataframe thead th {\n",
              "        text-align: right;\n",
              "    }\n",
              "</style>\n",
              "<table border=\"1\" class=\"dataframe\">\n",
              "  <thead>\n",
              "    <tr style=\"text-align: right;\">\n",
              "      <th></th>\n",
              "      <th>name</th>\n",
              "      <th>province</th>\n",
              "      <th>code</th>\n",
              "      <th>latitude</th>\n",
              "      <th>longitude</th>\n",
              "    </tr>\n",
              "  </thead>\n",
              "  <tbody>\n",
              "    <tr>\n",
              "      <th>0</th>\n",
              "      <td>Scarborough (Malvern / Rouge River)</td>\n",
              "      <td>Ontario</td>\n",
              "      <td>M1B</td>\n",
              "      <td>43.8113</td>\n",
              "      <td>-79.1930</td>\n",
              "    </tr>\n",
              "    <tr>\n",
              "      <th>1</th>\n",
              "      <td>Scarborough (Rouge Hill / Port Union / Highlan...</td>\n",
              "      <td>Ontario</td>\n",
              "      <td>M1C</td>\n",
              "      <td>43.7878</td>\n",
              "      <td>-79.1564</td>\n",
              "    </tr>\n",
              "    <tr>\n",
              "      <th>2</th>\n",
              "      <td>Scarborough (Guildwood / Morningside / Ellesmere)</td>\n",
              "      <td>Ontario</td>\n",
              "      <td>M1E</td>\n",
              "      <td>43.7678</td>\n",
              "      <td>-79.1866</td>\n",
              "    </tr>\n",
              "    <tr>\n",
              "      <th>3</th>\n",
              "      <td>Scarborough (Woburn)</td>\n",
              "      <td>Ontario</td>\n",
              "      <td>M1G</td>\n",
              "      <td>43.7712</td>\n",
              "      <td>-79.2144</td>\n",
              "    </tr>\n",
              "    <tr>\n",
              "      <th>4</th>\n",
              "      <td>Scarborough (Cedarbrae)</td>\n",
              "      <td>Ontario</td>\n",
              "      <td>M1H</td>\n",
              "      <td>43.7686</td>\n",
              "      <td>-79.2389</td>\n",
              "    </tr>\n",
              "    <tr>\n",
              "      <th>...</th>\n",
              "      <td>...</td>\n",
              "      <td>...</td>\n",
              "      <td>...</td>\n",
              "      <td>...</td>\n",
              "      <td>...</td>\n",
              "    </tr>\n",
              "    <tr>\n",
              "      <th>97</th>\n",
              "      <td>Weston</td>\n",
              "      <td>Ontario</td>\n",
              "      <td>M9N</td>\n",
              "      <td>43.7068</td>\n",
              "      <td>-79.5170</td>\n",
              "    </tr>\n",
              "    <tr>\n",
              "      <th>98</th>\n",
              "      <td>Etobicoke (Westmount)</td>\n",
              "      <td>Ontario</td>\n",
              "      <td>M9P</td>\n",
              "      <td>43.6949</td>\n",
              "      <td>-79.5323</td>\n",
              "    </tr>\n",
              "    <tr>\n",
              "      <th>99</th>\n",
              "      <td>Etobicoke (Kingsview Village / St. Phillips / ...</td>\n",
              "      <td>Ontario</td>\n",
              "      <td>M9R</td>\n",
              "      <td>43.6898</td>\n",
              "      <td>-79.5582</td>\n",
              "    </tr>\n",
              "    <tr>\n",
              "      <th>100</th>\n",
              "      <td>Etobicoke (South Steeles / Silverstone / Humbe...</td>\n",
              "      <td>Ontario</td>\n",
              "      <td>M9V</td>\n",
              "      <td>43.7432</td>\n",
              "      <td>-79.5876</td>\n",
              "    </tr>\n",
              "    <tr>\n",
              "      <th>101</th>\n",
              "      <td>Etobicoke Northwest (Clairville / Humberwood /...</td>\n",
              "      <td>Ontario</td>\n",
              "      <td>M9W</td>\n",
              "      <td>43.7144</td>\n",
              "      <td>-79.5909</td>\n",
              "    </tr>\n",
              "  </tbody>\n",
              "</table>\n",
              "<p>102 rows × 5 columns</p>\n",
              "</div>"
            ],
            "text/plain": [
              "                                                  name province code  \\\n",
              "0                  Scarborough (Malvern / Rouge River)  Ontario  M1B   \n",
              "1    Scarborough (Rouge Hill / Port Union / Highlan...  Ontario  M1C   \n",
              "2    Scarborough (Guildwood / Morningside / Ellesmere)  Ontario  M1E   \n",
              "3                                 Scarborough (Woburn)  Ontario  M1G   \n",
              "4                              Scarborough (Cedarbrae)  Ontario  M1H   \n",
              "..                                                 ...      ...  ...   \n",
              "97                                              Weston  Ontario  M9N   \n",
              "98                               Etobicoke (Westmount)  Ontario  M9P   \n",
              "99   Etobicoke (Kingsview Village / St. Phillips / ...  Ontario  M9R   \n",
              "100  Etobicoke (South Steeles / Silverstone / Humbe...  Ontario  M9V   \n",
              "101  Etobicoke Northwest (Clairville / Humberwood /...  Ontario  M9W   \n",
              "\n",
              "     latitude  longitude  \n",
              "0     43.8113   -79.1930  \n",
              "1     43.7878   -79.1564  \n",
              "2     43.7678   -79.1866  \n",
              "3     43.7712   -79.2144  \n",
              "4     43.7686   -79.2389  \n",
              "..        ...        ...  \n",
              "97    43.7068   -79.5170  \n",
              "98    43.6949   -79.5323  \n",
              "99    43.6898   -79.5582  \n",
              "100   43.7432   -79.5876  \n",
              "101   43.7144   -79.5909  \n",
              "\n",
              "[102 rows x 5 columns]"
            ]
          },
          "execution_count": 33,
          "metadata": {},
          "output_type": "execute_result"
        }
      ],
      "source": [
        "#regional data\n",
        "\n",
        "dfRegions = pd.read_csv(\"regions.csv\")\n",
        "dfRegions"
      ]
    },
    {
      "cell_type": "markdown",
      "metadata": {
        "id": "Pos2rwBasb4q"
      },
      "source": [
        "# Part 1"
      ]
    },
    {
      "cell_type": "markdown",
      "metadata": {
        "id": "STyDznNGsb4q"
      },
      "source": [
        "## Case 1 Solution"
      ]
    },
    {
      "cell_type": "markdown",
      "metadata": {
        "id": "bQ52emaGsb4r"
      },
      "source": [
        "### Sets"
      ]
    },
    {
      "cell_type": "code",
      "execution_count": null,
      "metadata": {
        "id": "BtpnuYcjsb4r"
      },
      "outputs": [],
      "source": [
        "#restaurants\n",
        "restaurants= list(dfOrdersA.index)\n",
        "\n",
        "#customers\n",
        "customers=list(dfOrdersA['customer'])\n",
        "\n",
        "#number of trips\n",
        "numtrips=len((customers+restaurants))\n",
        "\n",
        "#restaurant-customer list\n",
        "rescustlist=['Downtown Toronto (Rosedale)']+restaurants+customers\n",
        "\n",
        "#steps\n",
        "steps = list(range(1, len(rescustlist)))\n",
        "\n",
        "#starting points\n",
        "startarc = list(range(len(rescustlist)))\n",
        "\n",
        "#ending points\n",
        "endarc = steps.copy()"
      ]
    },
    {
      "cell_type": "code",
      "execution_count": null,
      "metadata": {
        "id": "Yx_Gi4sysb4s"
      },
      "outputs": [],
      "source": [
        "regions = list(dfRegions[\"name\"].unique())\n",
        "\n",
        "distancedictionary = {}\n",
        "for i in regions:\n",
        "    for j in regions:\n",
        "        if i == j:\n",
        "            distancedictionary[(i,j)] = float(0)\n",
        "        else: \n",
        "            distancedictionary[(i,j)] = float(dfDistance[(dfDistance[\"origin\"] == i)&(dfDistance[\"destination\"] == j)][\"distance\"])\n"
      ]
    },
    {
      "cell_type": "markdown",
      "metadata": {
        "id": "-jyNZswHsb4s"
      },
      "source": [
        "### Parameters"
      ]
    },
    {
      "cell_type": "markdown",
      "metadata": {
        "id": "g6tQhs38sb4s"
      },
      "source": [
        "### Variables"
      ]
    },
    {
      "cell_type": "code",
      "execution_count": null,
      "metadata": {
        "id": "YTpGIOWtsb4s"
      },
      "outputs": [],
      "source": [
        "#variables: if travelling from resteurant i to customer j at step t\n",
        "xvar = pulp.LpVariable.dict(\"x\", (startarc,endarc,steps), cat=pulp.LpBinary)\n"
      ]
    },
    {
      "cell_type": "markdown",
      "metadata": {
        "id": "VibK0Dbpsb4t"
      },
      "source": [
        "### Model Initialization"
      ]
    },
    {
      "cell_type": "code",
      "execution_count": null,
      "metadata": {
        "id": "T8Lfk0_nsb4t",
        "outputId": "f8965561-325c-434b-f46a-813389190325"
      },
      "outputs": [
        {
          "name": "stderr",
          "output_type": "stream",
          "text": [
            "/Users/shirley.zhang/opt/anaconda3/lib/python3.8/site-packages/pulp/pulp.py:1352: UserWarning: Spaces are not permitted in the name. Converted to '_'\n",
            "  warnings.warn(\"Spaces are not permitted in the name. Converted to '_'\")\n"
          ]
        },
        {
          "data": {
            "text/plain": [
              "Case_1_Solution:\n",
              "MINIMIZE\n",
              "None\n",
              "VARIABLES"
            ]
          },
          "execution_count": 37,
          "metadata": {},
          "output_type": "execute_result"
        }
      ],
      "source": [
        "#initialize model\n",
        "\n",
        "flowModel = pulp.LpProblem(name=\"Case 1 Solution\", sense=pulp.LpMinimize)\n",
        "\n",
        "flowModel"
      ]
    },
    {
      "cell_type": "markdown",
      "metadata": {
        "id": "Gwn8qM0Zsb4t"
      },
      "source": [
        "### Constraints"
      ]
    },
    {
      "cell_type": "code",
      "execution_count": null,
      "metadata": {
        "id": "wvn-1_Twsb4t"
      },
      "outputs": [],
      "source": [
        "#Constraint: every location must be visited once\n",
        "for j in endarc:\n",
        "    flowModel+= pulp.lpSum( [xvar[i,j,t] for i in startarc for t in steps]) ==1\n",
        "\n",
        "#Constraint: conservation of flow (go to node j in step t then start at node j in step t+1) \n",
        "for t in steps[:-1]:\n",
        "    for j in endarc:\n",
        "        flowModel += (pulp.lpSum([xvar[(i, j, t)]] for i in startarc) == pulp.lpSum([xvar[(j, k, t+1)]] for k in endarc))\n",
        "\n",
        "\n",
        "# during the first step downtown Rosedale has an outflow of 1, others are zero\n",
        "flowModel += pulp.lpSum([xvar[(0, j, 1)] for j in endarc]) == 1\n",
        "for i in startarc:\n",
        "    if i != 0:\n",
        "        flowModel += pulp.lpSum([xvar[(i, j, 1)]  for j in endarc]) == 0\n",
        "\n",
        "#Constraint: precedence must occur (must pick up food before dropping off at customer)\n",
        "for t in steps:\n",
        "    for j in endarc:\n",
        "        if j > len(customers):\n",
        "            if t == 1:\n",
        "                flowModel += pulp.lpSum(xvar[i, j, t] for i in startarc) == 0 \n",
        "            else:\n",
        "                flowModel += pulp.lpSum(xvar[(i, j, t)] for i in startarc) <= pulp.lpSum(xvar[(i, j-len(customers), past_t)] for i in startarc for past_t in steps[:t-1])\n",
        "  "
      ]
    },
    {
      "cell_type": "markdown",
      "metadata": {
        "id": "xZZWJgy2sb4u"
      },
      "source": [
        "### Objective Function"
      ]
    },
    {
      "cell_type": "code",
      "execution_count": null,
      "metadata": {
        "id": "7B9tyB91sb4u"
      },
      "outputs": [],
      "source": [
        "objective=0\n",
        "for i in startarc:\n",
        "    for j in endarc:\n",
        "        if i != j:\n",
        "            objective += pulp.lpSum([distancedictionary[(rescustlist[i],rescustlist[j])] * xvar[(i, j, t)] for t in steps])"
      ]
    },
    {
      "cell_type": "code",
      "execution_count": null,
      "metadata": {
        "id": "PLJql1pCsb4u",
        "outputId": "cbb44bde-3dd6-46f0-bcc9-ab6e8dbea0e5"
      },
      "outputs": [
        {
          "name": "stdout",
          "output_type": "stream",
          "text": [
            "Welcome to the CBC MILP Solver \n",
            "Version: 2.10.3 \n",
            "Build Date: Dec 15 2019 \n",
            "\n",
            "command line - /Users/shirley.zhang/opt/anaconda3/lib/python3.8/site-packages/pulp/apis/../solverdir/cbc/osx/64/cbc /var/folders/jj/335494hd5z5cblj975hs90400000gp/T/25cbda350c924cdd8abae1a9a130c1ed-pulp.mps timeMode elapsed branch printingOptions all solution /var/folders/jj/335494hd5z5cblj975hs90400000gp/T/25cbda350c924cdd8abae1a9a130c1ed-pulp.sol (default strategy 1)\n",
            "At line 2 NAME          MODEL\n",
            "At line 3 ROWS\n",
            "At line 14 COLUMNS\n",
            "At line 84 RHS\n",
            "At line 94 BOUNDS\n",
            "At line 107 ENDATA\n",
            "Problem MODEL has 9 rows, 12 columns and 37 elements\n",
            "Coin0008I MODEL read with 0 errors\n",
            "Option for timeMode changed from cpu to elapsed\n",
            "Continuous objective value is 4.65356 - 0.00 seconds\n",
            "Cgl0002I 5 variables fixed\n",
            "Cgl0004I processed model has 0 rows, 0 columns (0 integer (0 of which binary)) and 0 elements\n",
            "Cbc3007W No integer variables - nothing to do\n",
            "Cuts at root node changed objective from 4.65356 to -1.79769e+308\n",
            "Probing was tried 0 times and created 0 cuts of which 0 were active after adding rounds of cuts (0.000 seconds)\n",
            "Gomory was tried 0 times and created 0 cuts of which 0 were active after adding rounds of cuts (0.000 seconds)\n",
            "Knapsack was tried 0 times and created 0 cuts of which 0 were active after adding rounds of cuts (0.000 seconds)\n",
            "Clique was tried 0 times and created 0 cuts of which 0 were active after adding rounds of cuts (0.000 seconds)\n",
            "MixedIntegerRounding2 was tried 0 times and created 0 cuts of which 0 were active after adding rounds of cuts (0.000 seconds)\n",
            "FlowCover was tried 0 times and created 0 cuts of which 0 were active after adding rounds of cuts (0.000 seconds)\n",
            "TwoMirCuts was tried 0 times and created 0 cuts of which 0 were active after adding rounds of cuts (0.000 seconds)\n",
            "ZeroHalf was tried 0 times and created 0 cuts of which 0 were active after adding rounds of cuts (0.000 seconds)\n",
            "\n",
            "Result - Optimal solution found\n",
            "\n",
            "Objective value:                4.65355902\n",
            "Enumerated nodes:               0\n",
            "Total iterations:               0\n",
            "Time (CPU seconds):             0.00\n",
            "Time (Wallclock seconds):       0.00\n",
            "\n",
            "Option for printingOptions changed from normal to all\n",
            "Total time (CPU seconds):       0.00   (Wallclock seconds):       0.00\n",
            "\n",
            "Status: Optimal\n"
          ]
        }
      ],
      "source": [
        "# Solve model\n",
        "flowModel+=objective\n",
        "flowModel.solve()\n",
        "print(\"Status:\", pulp.LpStatus[flowModel.status])"
      ]
    },
    {
      "cell_type": "code",
      "execution_count": null,
      "metadata": {
        "id": "EmDgHiHpsb4v",
        "outputId": "9325ec09-5247-4055-8716-7360db98ec37"
      },
      "outputs": [
        {
          "name": "stdout",
          "output_type": "stream",
          "text": [
            "Total distance:4.65355901787117\n",
            "\n",
            "1\n",
            "Driving from Downtown Toronto (Rosedale) To \n",
            "Downtown Toronto (Underground city) for pickup\n",
            "\n",
            "2\n",
            "Driving from Downtown Toronto (Underground city) To \n",
            "Downtown Toronto (Central Bay Street) for delivery\n",
            "\n"
          ]
        }
      ],
      "source": [
        "# Print solution\n",
        "print(\"Total distance:\" + str(pulp.value(flowModel.objective))+'\\n')\n",
        "\n",
        "for t in steps:\n",
        "    print(t)\n",
        "    for i in startarc:\n",
        "        for j in endarc:\n",
        "            if xvar[i,j,t].varValue >= 1.0:\n",
        "                if j <= len(customers):\n",
        "                    print(f'Driving from {rescustlist[i]} To \\n{rescustlist[j]} for pickup')\n",
        "                else:\n",
        "                    print(f'Driving from {rescustlist[i]} To \\n{rescustlist[j]} for delivery')                         \n",
        "    print()  "
      ]
    },
    {
      "cell_type": "markdown",
      "metadata": {
        "id": "VlWtTWAksb4v"
      },
      "source": [
        "## Case 2 Solution"
      ]
    },
    {
      "cell_type": "markdown",
      "metadata": {
        "id": "6vI2FJBesb4v"
      },
      "source": [
        "### Sets"
      ]
    },
    {
      "cell_type": "code",
      "execution_count": null,
      "metadata": {
        "id": "KnupJGIfsb4v"
      },
      "outputs": [],
      "source": [
        "#restaurants\n",
        "resteurants= list(dfOrdersB.index)\n",
        "\n",
        "#customers\n",
        "customers=list(dfOrdersB['customer'])\n",
        "\n",
        "#number of trips\n",
        "numtrips=len((customers+resteurants))\n",
        "\n",
        "#resteurant-customer list\n",
        "rescustlist=['Downtown Toronto (Rosedale)']+resteurants+customers\n",
        "\n",
        "#steps\n",
        "steps = list(range(1, len(rescustlist)))\n",
        "\n",
        "#starting points\n",
        "startarc = list(range(len(rescustlist)))\n",
        "\n",
        "#ending points\n",
        "endarc = steps.copy()"
      ]
    },
    {
      "cell_type": "markdown",
      "metadata": {
        "id": "fpm07OBHsb4v"
      },
      "source": [
        "### Parameters"
      ]
    },
    {
      "cell_type": "markdown",
      "metadata": {
        "id": "NnKqBreksb4w"
      },
      "source": [
        "### Variables"
      ]
    },
    {
      "cell_type": "code",
      "execution_count": null,
      "metadata": {
        "id": "R3gdcnQwsb4w"
      },
      "outputs": [],
      "source": [
        "#variables: if travelling from resteurant i to customer j at step t\n",
        "xvar = pulp.LpVariable.dict(\"x\", (startarc,endarc,steps), cat=pulp.LpBinary)\n"
      ]
    },
    {
      "cell_type": "markdown",
      "metadata": {
        "id": "Hh8PXoZcsb4w"
      },
      "source": [
        "### Model Initialization"
      ]
    },
    {
      "cell_type": "code",
      "execution_count": null,
      "metadata": {
        "id": "mnK0IWVVsb4w",
        "outputId": "1aa330ac-d5d9-46eb-e5e8-af9909ae25dd"
      },
      "outputs": [
        {
          "data": {
            "text/plain": [
              "Case_2_Solution:\n",
              "MINIMIZE\n",
              "None\n",
              "VARIABLES"
            ]
          },
          "execution_count": 44,
          "metadata": {},
          "output_type": "execute_result"
        }
      ],
      "source": [
        "#initialie model and objective sense\n",
        "\n",
        "flowModel = pulp.LpProblem(name=\"Case 2 Solution\", sense=pulp.LpMinimize)\n",
        "\n",
        "flowModel"
      ]
    },
    {
      "cell_type": "markdown",
      "metadata": {
        "id": "2Z6RoEI7sb4w"
      },
      "source": [
        "### Constraints"
      ]
    },
    {
      "cell_type": "code",
      "execution_count": null,
      "metadata": {
        "id": "7nn07-3Tsb4w"
      },
      "outputs": [],
      "source": [
        "#Constraint: every location must be visited once\n",
        "for j in endarc:\n",
        "    flowModel+= pulp.lpSum( [xvar[i,j,t] for i in startarc for t in steps]) ==1\n",
        "\n",
        "#Constraint: conservation of flow (go to node j in step t then start at node j in step t+1) \n",
        "for t in steps[:-1]:\n",
        "    for j in endarc:\n",
        "        flowModel += (pulp.lpSum([xvar[(i, j, t)]] for i in startarc) == pulp.lpSum([xvar[(j, k, t+1)]] for k in endarc))\n",
        "\n",
        "\n",
        "# during the first step downtown rosedale has an outflow of 1, others are zero\n",
        "flowModel += pulp.lpSum([xvar[(0, j, 1)] for j in endarc]) == 1\n",
        "for i in startarc:\n",
        "    if i != 0:\n",
        "        flowModel += pulp.lpSum([xvar[(i, j, 1)]  for j in endarc]) == 0\n",
        "\n",
        "#Constraint: precedence must occur (must pick up food before dropping off at customer)\n",
        "for t in steps:\n",
        "    for j in endarc:\n",
        "        if j > len(customers):\n",
        "            if t == 1:\n",
        "                flowModel   += pulp.lpSum(xvar[(i, j, t)] for i in startarc) <= pulp.lpSum(xvar[(i, j-len(customers), past_t)] for i in startarc for past_t in steps[:t-1])\n",
        "  "
      ]
    },
    {
      "cell_type": "markdown",
      "metadata": {
        "id": "n0dQKpeBsb4x"
      },
      "source": [
        "### Objective Function"
      ]
    },
    {
      "cell_type": "code",
      "execution_count": null,
      "metadata": {
        "id": "bfr5iewxsb4x"
      },
      "outputs": [],
      "source": [
        "objective=0\n",
        "for i in startarc:\n",
        "    for j in endarc:\n",
        "        if i != j:\n",
        "            objective += pulp.lpSum([distancedictionary[(rescustlist[i],rescustlist[j])] * xvar[(i, j, t)] for t in steps])"
      ]
    },
    {
      "cell_type": "code",
      "execution_count": null,
      "metadata": {
        "id": "mPzFtnw8sb4x",
        "outputId": "0d902c01-eca9-40ab-afcf-5f2ff6343f93"
      },
      "outputs": [
        {
          "name": "stdout",
          "output_type": "stream",
          "text": [
            "Welcome to the CBC MILP Solver \n",
            "Version: 2.10.3 \n",
            "Build Date: Dec 15 2019 \n",
            "\n",
            "command line - /Users/shirley.zhang/opt/anaconda3/lib/python3.8/site-packages/pulp/apis/../solverdir/cbc/osx/64/cbc /var/folders/jj/335494hd5z5cblj975hs90400000gp/T/840660c7d4df47c596fa53af3e10ca27-pulp.mps timeMode elapsed branch printingOptions all solution /var/folders/jj/335494hd5z5cblj975hs90400000gp/T/840660c7d4df47c596fa53af3e10ca27-pulp.sol (default strategy 1)\n",
            "At line 2 NAME          MODEL\n",
            "At line 3 ROWS\n",
            "At line 121 COLUMNS\n",
            "At line 6437 RHS\n",
            "At line 6554 BOUNDS\n",
            "At line 7655 ENDATA\n",
            "Problem MODEL has 116 rows, 1100 columns and 3155 elements\n",
            "Coin0008I MODEL read with 0 errors\n",
            "Option for timeMode changed from cpu to elapsed\n",
            "Continuous objective value is 7.13608 - 0.00 seconds\n",
            "Cgl0002I 105 variables fixed\n",
            "Cgl0003I 75 fixed, 0 tightened bounds, 0 strengthened rows, 0 substitutions\n",
            "Cgl0003I 2 fixed, 0 tightened bounds, 0 strengthened rows, 0 substitutions\n",
            "Cgl0004I processed model has 95 rows, 867 columns (867 integer (867 of which binary)) and 2414 elements\n",
            "Cbc0038I Initial state - 49 integers unsatisfied sum - 9.77778\n",
            "Cbc0038I Pass   1: suminf.    9.00000 (36) obj. 58.723 iterations 164\n",
            "Cbc0038I Pass   2: suminf.    8.42857 (28) obj. 57.2043 iterations 68\n",
            "Cbc0038I Pass   3: suminf.    0.00000 (0) obj. 80.5792 iterations 61\n",
            "Cbc0038I Solution found of 80.5792\n",
            "Cbc0038I Before mini branch and bound, 784 integers at bound fixed and 0 continuous\n",
            "Cbc0038I Full problem 95 rows 867 columns, reduced to 16 rows 15 columns\n",
            "Cbc0038I Mini branch and bound did not improve solution (0.05 seconds)\n",
            "Cbc0038I Round again with cutoff of 74.523\n",
            "Cbc0038I Pass   4: suminf.    9.00000 (36) obj. 58.723 iterations 0\n",
            "Cbc0038I Pass   5: suminf.    3.05400 (18) obj. 74.523 iterations 106\n",
            "Cbc0038I Pass   6: suminf.    1.96195 (6) obj. 74.523 iterations 113\n",
            "Cbc0038I Solution found of 47.4377\n",
            "Cbc0038I Before mini branch and bound, 778 integers at bound fixed and 0 continuous\n",
            "Cbc0038I Mini branch and bound did not improve solution (0.06 seconds)\n",
            "Cbc0038I Round again with cutoff of 41.9536\n",
            "Cbc0038I Reduced cost fixing fixed 57 variables on major pass 3\n",
            "Cbc0038I Pass   7: suminf.    8.28000 (37) obj. 40.9955 iterations 13\n",
            "Cbc0038I Pass   8: suminf.    7.00000 (14) obj. 35.548 iterations 92\n",
            "Cbc0038I Pass   9: suminf.    7.00000 (14) obj. 35.548 iterations 82\n",
            "Cbc0038I Pass  10: suminf.    3.09556 (13) obj. 41.9536 iterations 115\n",
            "Cbc0038I Pass  11: suminf.    1.96476 (22) obj. 41.9536 iterations 75\n",
            "Cbc0038I Pass  12: suminf.    6.00000 (12) obj. 35.2292 iterations 119\n",
            "Cbc0038I Pass  13: suminf.    5.26127 (21) obj. 41.9536 iterations 75\n",
            "Cbc0038I Pass  14: suminf.    4.69082 (15) obj. 41.9536 iterations 48\n",
            "Cbc0038I Pass  15: suminf.    4.00000 (8) obj. 29.7967 iterations 102\n",
            "Cbc0038I Pass  16: suminf.    0.00000 (0) obj. 39.1194 iterations 49\n",
            "Cbc0038I Solution found of 39.1194\n",
            "Cbc0038I Before mini branch and bound, 760 integers at bound fixed and 0 continuous\n",
            "Cbc0038I Full problem 95 rows 867 columns, reduced to 20 rows 39 columns\n",
            "Cbc0038I Mini branch and bound improved solution from 39.1194 to 28.8952 (0.10 seconds)\n",
            "Cbc0038I Round again with cutoff of 26.2318\n",
            "Cbc0038I Reduced cost fixing fixed 324 variables on major pass 4\n",
            "Cbc0038I Pass  17: suminf.    8.05990 (36) obj. 26.2318 iterations 78\n",
            "Cbc0038I Pass  18: suminf.    7.00000 (31) obj. 26.2318 iterations 89\n",
            "Cbc0038I Pass  19: suminf.    6.60686 (21) obj. 26.2318 iterations 69\n",
            "Cbc0038I Pass  20: suminf.    5.20431 (37) obj. 26.2318 iterations 78\n",
            "Cbc0038I Pass  21: suminf.    5.11702 (34) obj. 26.2318 iterations 27\n",
            "Cbc0038I Pass  22: suminf.    8.48148 (41) obj. 26.2318 iterations 67\n",
            "Cbc0038I Pass  23: suminf.    6.21186 (45) obj. 26.2318 iterations 46\n",
            "Cbc0038I Pass  24: suminf.    4.54576 (35) obj. 26.2318 iterations 68\n",
            "Cbc0038I Pass  25: suminf.    4.42914 (30) obj. 26.2318 iterations 29\n",
            "Cbc0038I Pass  26: suminf.    6.43968 (35) obj. 26.2318 iterations 71\n",
            "Cbc0038I Pass  27: suminf.    5.24535 (40) obj. 26.2318 iterations 56\n",
            "Cbc0038I Pass  28: suminf.    9.50000 (33) obj. 26.2318 iterations 85\n",
            "Cbc0038I Pass  29: suminf.    7.83821 (39) obj. 26.2318 iterations 102\n",
            "Cbc0038I Pass  30: suminf.    7.00000 (22) obj. 26.2318 iterations 71\n",
            "Cbc0038I Pass  31: suminf.    7.00000 (22) obj. 26.2318 iterations 1\n",
            "Cbc0038I Pass  32: suminf.    7.00000 (20) obj. 26.2318 iterations 35\n",
            "Cbc0038I Pass  33: suminf.    5.27472 (49) obj. 26.2318 iterations 73\n",
            "Cbc0038I Pass  34: suminf.    5.20431 (37) obj. 26.2318 iterations 22\n",
            "Cbc0038I Pass  35: suminf.    5.11702 (34) obj. 26.2318 iterations 37\n",
            "Cbc0038I Pass  36: suminf.    6.00000 (29) obj. 26.0147 iterations 87\n",
            "Cbc0038I Pass  37: suminf.    4.97322 (30) obj. 26.2318 iterations 72\n",
            "Cbc0038I Pass  38: suminf.    4.94257 (44) obj. 26.2318 iterations 67\n",
            "Cbc0038I Pass  39: suminf.    4.51357 (34) obj. 26.2318 iterations 49\n",
            "Cbc0038I Pass  40: suminf.    6.86958 (24) obj. 26.2318 iterations 80\n",
            "Cbc0038I Pass  41: suminf.    4.51930 (34) obj. 26.2318 iterations 53\n",
            "Cbc0038I Pass  42: suminf.    8.94256 (26) obj. 26.2318 iterations 106\n",
            "Cbc0038I Pass  43: suminf.    5.48495 (46) obj. 26.2318 iterations 111\n",
            "Cbc0038I Pass  44: suminf.    5.21612 (38) obj. 26.2318 iterations 27\n",
            "Cbc0038I Pass  45: suminf.    4.97322 (30) obj. 26.2318 iterations 27\n",
            "Cbc0038I Pass  46: suminf.    8.42126 (43) obj. 26.2318 iterations 112\n",
            "Cbc0038I No solution found this major pass\n",
            "Cbc0038I Before mini branch and bound, 678 integers at bound fixed and 0 continuous\n",
            "Cbc0038I Mini branch and bound did not improve solution (0.15 seconds)\n",
            "Cbc0038I After 0.15 seconds - Feasibility pump exiting with objective of 28.8952 - took 0.10 seconds\n",
            "Cbc0012I Integer solution of 28.895153 found by feasibility pump after 0 iterations and 0 nodes (0.15 seconds)\n",
            "Cbc0012I Integer solution of 28.516259 found by DiveCoefficient after 88 iterations and 0 nodes (0.16 seconds)\n",
            "Cbc0031I 1 added rows had average density of 319\n",
            "Cbc0013I At root node, 1 cuts changed objective from 20.017181 to 28.516259 in 2 passes\n",
            "Cbc0014I Cut generator 0 (Probing) - 5 row cuts average 2.0 elements, 57 column cuts (57 active)  in 0.002 seconds - new frequency is 1\n",
            "Cbc0014I Cut generator 1 (Gomory) - 2 row cuts average 319.0 elements, 0 column cuts (0 active)  in 0.001 seconds - new frequency is -100\n",
            "Cbc0014I Cut generator 2 (Knapsack) - 0 row cuts average 0.0 elements, 0 column cuts (0 active)  in 0.001 seconds - new frequency is -100\n",
            "Cbc0014I Cut generator 3 (Clique) - 0 row cuts average 0.0 elements, 0 column cuts (0 active)  in 0.000 seconds - new frequency is -100\n",
            "Cbc0014I Cut generator 4 (MixedIntegerRounding2) - 0 row cuts average 0.0 elements, 0 column cuts (0 active)  in 0.000 seconds - new frequency is -100\n",
            "Cbc0014I Cut generator 5 (FlowCover) - 0 row cuts average 0.0 elements, 0 column cuts (0 active)  in 0.000 seconds - new frequency is -100\n",
            "Cbc0001I Search completed - best objective 28.51625850559784, took 88 iterations and 0 nodes (0.16 seconds)\n",
            "Cbc0035I Maximum depth 0, 625 variables fixed on reduced cost\n",
            "Cuts at root node changed objective from 20.0172 to 28.5163\n",
            "Probing was tried 2 times and created 62 cuts of which 0 were active after adding rounds of cuts (0.002 seconds)\n",
            "Gomory was tried 2 times and created 2 cuts of which 0 were active after adding rounds of cuts (0.001 seconds)\n",
            "Knapsack was tried 2 times and created 0 cuts of which 0 were active after adding rounds of cuts (0.001 seconds)\n",
            "Clique was tried 2 times and created 0 cuts of which 0 were active after adding rounds of cuts (0.000 seconds)\n",
            "MixedIntegerRounding2 was tried 2 times and created 0 cuts of which 0 were active after adding rounds of cuts (0.000 seconds)\n",
            "FlowCover was tried 2 times and created 0 cuts of which 0 were active after adding rounds of cuts (0.000 seconds)\n",
            "TwoMirCuts was tried 1 times and created 0 cuts of which 0 were active after adding rounds of cuts (0.000 seconds)\n",
            "ZeroHalf was tried 1 times and created 0 cuts of which 0 were active after adding rounds of cuts (0.001 seconds)\n",
            "\n",
            "Result - Optimal solution found\n",
            "\n",
            "Objective value:                28.51625851\n",
            "Enumerated nodes:               0\n",
            "Total iterations:               88\n",
            "Time (CPU seconds):             0.16\n",
            "Time (Wallclock seconds):       0.17\n",
            "\n",
            "Option for printingOptions changed from normal to all\n",
            "Total time (CPU seconds):       0.16   (Wallclock seconds):       0.17\n",
            "\n",
            "Status: Optimal\n"
          ]
        }
      ],
      "source": [
        "# Solve model\n",
        "flowModel+=objective\n",
        "flowModel.solve()\n",
        "print(\"Status:\", pulp.LpStatus[flowModel.status])"
      ]
    },
    {
      "cell_type": "code",
      "execution_count": null,
      "metadata": {
        "id": "8Gf0yYEOsb4x",
        "outputId": "b6e4c032-d3ae-43af-92f6-c66d27e5e73e"
      },
      "outputs": [
        {
          "name": "stdout",
          "output_type": "stream",
          "text": [
            "Total distance:28.51625850559942\n",
            "\n",
            "1\n",
            "Driving from Downtown Toronto (Rosedale) To \n",
            "Downtown Toronto (Central Bay Street) for pickup\n",
            "\n",
            "2\n",
            "Driving from Downtown Toronto (Central Bay Street) To \n",
            "Downtown Toronto (Central Bay Street) for pickup\n",
            "\n",
            "3\n",
            "Driving from Downtown Toronto (Central Bay Street) To \n",
            "Downtown Toronto (Richmond / Adelaide / King) for pickup\n",
            "\n",
            "4\n",
            "Driving from Downtown Toronto (Richmond / Adelaide / King) To \n",
            "Downtown Toronto (Richmond / Adelaide / King) for delivery\n",
            "\n",
            "5\n",
            "Driving from Downtown Toronto (Richmond / Adelaide / King) To \n",
            "Downtown Toronto (Underground city) for delivery\n",
            "\n",
            "6\n",
            "Driving from Downtown Toronto (Underground city) To \n",
            "Downtown Toronto (St. James Town / Cabbagetown) for delivery\n",
            "\n",
            "7\n",
            "Driving from Downtown Toronto (St. James Town / Cabbagetown) To \n",
            "Central Toronto (The Annex / North Midtown / Yorkville) for delivery\n",
            "\n",
            "8\n",
            "Driving from Central Toronto (The Annex / North Midtown / Yorkville) To \n",
            "York (Cedarvale) for pickup\n",
            "\n",
            "9\n",
            "Driving from York (Cedarvale) To \n",
            "Etobicoke Northwest (Clairville / Humberwood / Woodbine Downs / West Humber / Kipling Heights / Rexdale / Elms / Tandridge / Old Rexdale) for pickup\n",
            "\n",
            "10\n",
            "Driving from Etobicoke Northwest (Clairville / Humberwood / Woodbine Downs / West Humber / Kipling Heights / Rexdale / Elms / Tandridge / Old Rexdale) To \n",
            "Etobicoke (South Steeles / Silverstone / Humbergate / Jamestown / Mount Olive / Beaumond Heights / Thistletown / Albion Gardens) for delivery\n",
            "\n"
          ]
        }
      ],
      "source": [
        "# Print solution\n",
        "print(\"Total distance:\" + str(pulp.value(flowModel.objective))+'\\n')\n",
        "\n",
        "for t in steps:\n",
        "    print(t)\n",
        "    for i in startarc:\n",
        "        for j in endarc:\n",
        "            if xvar[i,j,t].varValue >= 1.0:\n",
        "                if j <= len(customers):\n",
        "                    print(f'Driving from {rescustlist[i]} To \\n{rescustlist[j]} for pickup')\n",
        "                else:\n",
        "                    print(f'Driving from {rescustlist[i]} To \\n{rescustlist[j]} for delivery')                         \n",
        "    print()  "
      ]
    }
  ],
  "metadata": {
    "interpreter": {
      "hash": "00403bff7293e972721d6c3e08f9f99f777b4ca9172a89516574e3621a29b1d0"
    },
    "kernelspec": {
      "display_name": "Python 3.8.12 64-bit ('base': conda)",
      "language": "python",
      "name": "python3"
    },
    "language_info": {
      "codemirror_mode": {
        "name": "ipython",
        "version": 3
      },
      "file_extension": ".py",
      "mimetype": "text/x-python",
      "name": "python",
      "nbconvert_exporter": "python",
      "pygments_lexer": "ipython3",
      "version": "3.8.12"
    },
    "orig_nbformat": 4,
    "colab": {
      "name": "HotDelivery_Part1.ipynb",
      "provenance": []
    }
  },
  "nbformat": 4,
  "nbformat_minor": 0
}